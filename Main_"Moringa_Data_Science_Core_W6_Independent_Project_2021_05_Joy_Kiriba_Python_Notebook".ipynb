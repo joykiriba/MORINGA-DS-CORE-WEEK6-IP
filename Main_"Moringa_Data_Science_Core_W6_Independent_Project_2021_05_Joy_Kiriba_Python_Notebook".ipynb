{
  "nbformat": 4,
  "nbformat_minor": 0,
  "metadata": {
    "colab": {
      "name": "Main \"Moringa_Data_Science_Core_W6_Independent_Project_2021_05_Joy_Kiriba_Python_Notebook\"",
      "provenance": [],
      "collapsed_sections": [
        "J4wfHZwQrs-t",
        "6XC_g-zKxe-r",
        "HPQviDmNtta8",
        "qjFHK1CKty7o",
        "HSsicSdvt4Zs"
      ],
      "toc_visible": true,
      "include_colab_link": true
    },
    "kernelspec": {
      "name": "python3",
      "display_name": "Python 3"
    }
  },
  "cells": [
    {
      "cell_type": "markdown",
      "metadata": {
        "id": "view-in-github",
        "colab_type": "text"
      },
      "source": [
        "<a href=\"https://colab.research.google.com/github/joykiriba/MORINGA-DS-CORE-WEEK6-IP/blob/main/Main_%22Moringa_Data_Science_Core_W6_Independent_Project_2021_05_Joy_Kiriba_Python_Notebook%22.ipynb\" target=\"_parent\"><img src=\"https://colab.research.google.com/assets/colab-badge.svg\" alt=\"Open In Colab\"/></a>"
      ]
    },
    {
      "cell_type": "markdown",
      "metadata": {
        "id": "xMxtPsqcTsSH"
      },
      "source": [
        "# Making predictions for Mchezopesa Football Results"
      ]
    },
    {
      "cell_type": "markdown",
      "metadata": {
        "id": "ztpZ3AKYeR-Q"
      },
      "source": [
        "##**1**. Defining the Question\n",
        "\n",
        "\n"
      ]
    },
    {
      "cell_type": "markdown",
      "metadata": {
        "id": "XecOwPNorl2W"
      },
      "source": [
        "### a) Specifying the Data Analytic Question"
      ]
    },
    {
      "cell_type": "markdown",
      "metadata": {
        "id": "fZOpvz6fWyFa"
      },
      "source": [
        "How can we predict the results of a game between team 1 and team 2, based on who's home and who's away, and on whether or not the game is friendly."
      ]
    },
    {
      "cell_type": "markdown",
      "metadata": {
        "id": "J4wfHZwQrs-t"
      },
      "source": [
        "### b) Defining the Metric for Success\n",
        "Deriving a high accuracy level from the prediction models we use.\n"
      ]
    },
    {
      "cell_type": "markdown",
      "metadata": {
        "id": "a9BPYqunry97"
      },
      "source": [
        "### c) Understanding the context\n",
        "As a data scientist at Mchezopesa Ltd and I have been tasked to design models that will predict the result of a game between team 1 and team 2, based on who's home and who's away, and on whether or not the game is friendly  \n",
        "\n",
        "\n",
        "\n"
      ]
    },
    {
      "cell_type": "markdown",
      "metadata": {
        "id": "7KMRBJ7zr9HD"
      },
      "source": [
        "### d) Recording the Experimental Design\n",
        "### The process will entail: \n",
        "Perform EDA\n",
        "\n",
        "Perform any necessary feature engineering \n",
        "\n",
        "Check for multicollinearity\n",
        "\n",
        "Start building the model\n",
        "\n",
        "Cross-validate the model\n",
        "\n",
        "Compute RMSE\n",
        "\n",
        "Create residual plots for models created, and assess their heteroscedasticity using Bartlett’s test    \n"
      ]
    },
    {
      "cell_type": "markdown",
      "metadata": {
        "id": "zSGyg6kWsBUl"
      },
      "source": [
        "### e) Data Relevance\n",
        "\n",
        "The appropriate datasets to use for this project are those that contain data on the results of different matches and the rankings of the respective teams during those matches.\n"
      ]
    },
    {
      "cell_type": "markdown",
      "metadata": {
        "id": "iUNbvIvnT7ep"
      },
      "source": [
        "##**2**. Reading the Data"
      ]
    },
    {
      "cell_type": "code",
      "metadata": {
        "id": "2cKq-SBKjoQJ"
      },
      "source": [
        "# importing necessary libraries\n",
        "# \n",
        "\n",
        "import pandas as pd\n",
        "import numpy as np\n",
        "import matplotlib.pyplot as plt\n",
        "import seaborn as sns\n",
        "%matplotlib inline\n",
        "import datetime as dt\n"
      ],
      "execution_count": 1,
      "outputs": []
    },
    {
      "cell_type": "code",
      "metadata": {
        "id": "XVqgh1lDar28"
      },
      "source": [
        "# Loading the Data from the source- fifa ranking\n",
        "# ---\n",
        "#\n",
        "ranking = pd.read_csv('fifa_ranking.csv')\n",
        "\n"
      ],
      "execution_count": 2,
      "outputs": []
    },
    {
      "cell_type": "code",
      "metadata": {
        "id": "XJn2KjW-WMlG"
      },
      "source": [
        "# Loading the Data from the source- results\n",
        "# ---\n",
        "#\n",
        "results = pd.read_csv('results.csv')\n"
      ],
      "execution_count": 3,
      "outputs": []
    },
    {
      "cell_type": "markdown",
      "metadata": {
        "id": "OI3P3YnHUEBk"
      },
      "source": [
        "##**3**. Checking the Data"
      ]
    },
    {
      "cell_type": "code",
      "metadata": {
        "id": "YjSVNwgptHxY",
        "colab": {
          "base_uri": "https://localhost:8080/"
        },
        "outputId": "4fdecb5f-99cd-4a37-f62b-8d009af21af8"
      },
      "source": [
        "# Determining the no. of records in our datasets- fifa ranking\n",
        "#\n",
        "ranking.shape"
      ],
      "execution_count": 4,
      "outputs": [
        {
          "output_type": "execute_result",
          "data": {
            "text/plain": [
              "(57793, 16)"
            ]
          },
          "metadata": {
            "tags": []
          },
          "execution_count": 4
        }
      ]
    },
    {
      "cell_type": "code",
      "metadata": {
        "colab": {
          "base_uri": "https://localhost:8080/"
        },
        "id": "tRVsJjPMcy03",
        "outputId": "68a3ca61-54de-4794-ef7d-c8d950bb4ac7"
      },
      "source": [
        "# Determining the no. of records in our datasets- results\n",
        "# \n",
        "results.shape"
      ],
      "execution_count": 5,
      "outputs": [
        {
          "output_type": "execute_result",
          "data": {
            "text/plain": [
              "(40839, 9)"
            ]
          },
          "metadata": {
            "tags": []
          },
          "execution_count": 5
        }
      ]
    },
    {
      "cell_type": "code",
      "metadata": {
        "colab": {
          "base_uri": "https://localhost:8080/",
          "height": 309
        },
        "id": "E96V1NDZbUrG",
        "outputId": "83bfd433-41cb-4f7b-c9d4-4b1885c01046"
      },
      "source": [
        "# Previewing our dataset- fifa ranking\n",
        "#\n",
        "ranking.head()"
      ],
      "execution_count": 6,
      "outputs": [
        {
          "output_type": "execute_result",
          "data": {
            "text/html": [
              "<div>\n",
              "<style scoped>\n",
              "    .dataframe tbody tr th:only-of-type {\n",
              "        vertical-align: middle;\n",
              "    }\n",
              "\n",
              "    .dataframe tbody tr th {\n",
              "        vertical-align: top;\n",
              "    }\n",
              "\n",
              "    .dataframe thead th {\n",
              "        text-align: right;\n",
              "    }\n",
              "</style>\n",
              "<table border=\"1\" class=\"dataframe\">\n",
              "  <thead>\n",
              "    <tr style=\"text-align: right;\">\n",
              "      <th></th>\n",
              "      <th>rank</th>\n",
              "      <th>country_full</th>\n",
              "      <th>country_abrv</th>\n",
              "      <th>total_points</th>\n",
              "      <th>previous_points</th>\n",
              "      <th>rank_change</th>\n",
              "      <th>cur_year_avg</th>\n",
              "      <th>cur_year_avg_weighted</th>\n",
              "      <th>last_year_avg</th>\n",
              "      <th>last_year_avg_weighted</th>\n",
              "      <th>two_year_ago_avg</th>\n",
              "      <th>two_year_ago_weighted</th>\n",
              "      <th>three_year_ago_avg</th>\n",
              "      <th>three_year_ago_weighted</th>\n",
              "      <th>confederation</th>\n",
              "      <th>rank_date</th>\n",
              "    </tr>\n",
              "  </thead>\n",
              "  <tbody>\n",
              "    <tr>\n",
              "      <th>0</th>\n",
              "      <td>1</td>\n",
              "      <td>Germany</td>\n",
              "      <td>GER</td>\n",
              "      <td>0.0</td>\n",
              "      <td>57</td>\n",
              "      <td>0</td>\n",
              "      <td>0.0</td>\n",
              "      <td>0.0</td>\n",
              "      <td>0.0</td>\n",
              "      <td>0.0</td>\n",
              "      <td>0.0</td>\n",
              "      <td>0.0</td>\n",
              "      <td>0.0</td>\n",
              "      <td>0.0</td>\n",
              "      <td>UEFA</td>\n",
              "      <td>1993-08-08</td>\n",
              "    </tr>\n",
              "    <tr>\n",
              "      <th>1</th>\n",
              "      <td>2</td>\n",
              "      <td>Italy</td>\n",
              "      <td>ITA</td>\n",
              "      <td>0.0</td>\n",
              "      <td>57</td>\n",
              "      <td>0</td>\n",
              "      <td>0.0</td>\n",
              "      <td>0.0</td>\n",
              "      <td>0.0</td>\n",
              "      <td>0.0</td>\n",
              "      <td>0.0</td>\n",
              "      <td>0.0</td>\n",
              "      <td>0.0</td>\n",
              "      <td>0.0</td>\n",
              "      <td>UEFA</td>\n",
              "      <td>1993-08-08</td>\n",
              "    </tr>\n",
              "    <tr>\n",
              "      <th>2</th>\n",
              "      <td>3</td>\n",
              "      <td>Switzerland</td>\n",
              "      <td>SUI</td>\n",
              "      <td>0.0</td>\n",
              "      <td>50</td>\n",
              "      <td>9</td>\n",
              "      <td>0.0</td>\n",
              "      <td>0.0</td>\n",
              "      <td>0.0</td>\n",
              "      <td>0.0</td>\n",
              "      <td>0.0</td>\n",
              "      <td>0.0</td>\n",
              "      <td>0.0</td>\n",
              "      <td>0.0</td>\n",
              "      <td>UEFA</td>\n",
              "      <td>1993-08-08</td>\n",
              "    </tr>\n",
              "    <tr>\n",
              "      <th>3</th>\n",
              "      <td>4</td>\n",
              "      <td>Sweden</td>\n",
              "      <td>SWE</td>\n",
              "      <td>0.0</td>\n",
              "      <td>55</td>\n",
              "      <td>0</td>\n",
              "      <td>0.0</td>\n",
              "      <td>0.0</td>\n",
              "      <td>0.0</td>\n",
              "      <td>0.0</td>\n",
              "      <td>0.0</td>\n",
              "      <td>0.0</td>\n",
              "      <td>0.0</td>\n",
              "      <td>0.0</td>\n",
              "      <td>UEFA</td>\n",
              "      <td>1993-08-08</td>\n",
              "    </tr>\n",
              "    <tr>\n",
              "      <th>4</th>\n",
              "      <td>5</td>\n",
              "      <td>Argentina</td>\n",
              "      <td>ARG</td>\n",
              "      <td>0.0</td>\n",
              "      <td>51</td>\n",
              "      <td>5</td>\n",
              "      <td>0.0</td>\n",
              "      <td>0.0</td>\n",
              "      <td>0.0</td>\n",
              "      <td>0.0</td>\n",
              "      <td>0.0</td>\n",
              "      <td>0.0</td>\n",
              "      <td>0.0</td>\n",
              "      <td>0.0</td>\n",
              "      <td>CONMEBOL</td>\n",
              "      <td>1993-08-08</td>\n",
              "    </tr>\n",
              "  </tbody>\n",
              "</table>\n",
              "</div>"
            ],
            "text/plain": [
              "   rank country_full  ... confederation   rank_date\n",
              "0     1      Germany  ...          UEFA  1993-08-08\n",
              "1     2        Italy  ...          UEFA  1993-08-08\n",
              "2     3  Switzerland  ...          UEFA  1993-08-08\n",
              "3     4       Sweden  ...          UEFA  1993-08-08\n",
              "4     5    Argentina  ...      CONMEBOL  1993-08-08\n",
              "\n",
              "[5 rows x 16 columns]"
            ]
          },
          "metadata": {
            "tags": []
          },
          "execution_count": 6
        }
      ]
    },
    {
      "cell_type": "code",
      "metadata": {
        "id": "xHhTw5eKWr0n",
        "colab": {
          "base_uri": "https://localhost:8080/",
          "height": 204
        },
        "outputId": "474adf7b-98c1-4d82-98d4-fcba6c24fae8"
      },
      "source": [
        "# Previewing our dataset- results\n",
        "#\n",
        "results.head()"
      ],
      "execution_count": 7,
      "outputs": [
        {
          "output_type": "execute_result",
          "data": {
            "text/html": [
              "<div>\n",
              "<style scoped>\n",
              "    .dataframe tbody tr th:only-of-type {\n",
              "        vertical-align: middle;\n",
              "    }\n",
              "\n",
              "    .dataframe tbody tr th {\n",
              "        vertical-align: top;\n",
              "    }\n",
              "\n",
              "    .dataframe thead th {\n",
              "        text-align: right;\n",
              "    }\n",
              "</style>\n",
              "<table border=\"1\" class=\"dataframe\">\n",
              "  <thead>\n",
              "    <tr style=\"text-align: right;\">\n",
              "      <th></th>\n",
              "      <th>date</th>\n",
              "      <th>home_team</th>\n",
              "      <th>away_team</th>\n",
              "      <th>home_score</th>\n",
              "      <th>away_score</th>\n",
              "      <th>tournament</th>\n",
              "      <th>city</th>\n",
              "      <th>country</th>\n",
              "      <th>neutral</th>\n",
              "    </tr>\n",
              "  </thead>\n",
              "  <tbody>\n",
              "    <tr>\n",
              "      <th>0</th>\n",
              "      <td>1872-11-30</td>\n",
              "      <td>Scotland</td>\n",
              "      <td>England</td>\n",
              "      <td>0</td>\n",
              "      <td>0</td>\n",
              "      <td>Friendly</td>\n",
              "      <td>Glasgow</td>\n",
              "      <td>Scotland</td>\n",
              "      <td>False</td>\n",
              "    </tr>\n",
              "    <tr>\n",
              "      <th>1</th>\n",
              "      <td>1873-03-08</td>\n",
              "      <td>England</td>\n",
              "      <td>Scotland</td>\n",
              "      <td>4</td>\n",
              "      <td>2</td>\n",
              "      <td>Friendly</td>\n",
              "      <td>London</td>\n",
              "      <td>England</td>\n",
              "      <td>False</td>\n",
              "    </tr>\n",
              "    <tr>\n",
              "      <th>2</th>\n",
              "      <td>1874-03-07</td>\n",
              "      <td>Scotland</td>\n",
              "      <td>England</td>\n",
              "      <td>2</td>\n",
              "      <td>1</td>\n",
              "      <td>Friendly</td>\n",
              "      <td>Glasgow</td>\n",
              "      <td>Scotland</td>\n",
              "      <td>False</td>\n",
              "    </tr>\n",
              "    <tr>\n",
              "      <th>3</th>\n",
              "      <td>1875-03-06</td>\n",
              "      <td>England</td>\n",
              "      <td>Scotland</td>\n",
              "      <td>2</td>\n",
              "      <td>2</td>\n",
              "      <td>Friendly</td>\n",
              "      <td>London</td>\n",
              "      <td>England</td>\n",
              "      <td>False</td>\n",
              "    </tr>\n",
              "    <tr>\n",
              "      <th>4</th>\n",
              "      <td>1876-03-04</td>\n",
              "      <td>Scotland</td>\n",
              "      <td>England</td>\n",
              "      <td>3</td>\n",
              "      <td>0</td>\n",
              "      <td>Friendly</td>\n",
              "      <td>Glasgow</td>\n",
              "      <td>Scotland</td>\n",
              "      <td>False</td>\n",
              "    </tr>\n",
              "  </tbody>\n",
              "</table>\n",
              "</div>"
            ],
            "text/plain": [
              "         date home_team away_team  ...     city   country neutral\n",
              "0  1872-11-30  Scotland   England  ...  Glasgow  Scotland   False\n",
              "1  1873-03-08   England  Scotland  ...   London   England   False\n",
              "2  1874-03-07  Scotland   England  ...  Glasgow  Scotland   False\n",
              "3  1875-03-06   England  Scotland  ...   London   England   False\n",
              "4  1876-03-04  Scotland   England  ...  Glasgow  Scotland   False\n",
              "\n",
              "[5 rows x 9 columns]"
            ]
          },
          "metadata": {
            "tags": []
          },
          "execution_count": 7
        }
      ]
    },
    {
      "cell_type": "code",
      "metadata": {
        "id": "e9AzGcZFrIIr",
        "colab": {
          "base_uri": "https://localhost:8080/",
          "height": 309
        },
        "outputId": "3c12c4ec-e149-4afa-9ab6-5fe2b8f2ff98"
      },
      "source": [
        "# Previewing the bottom of our dataset- fifa ranking\n",
        "# \n",
        "ranking.tail()"
      ],
      "execution_count": 8,
      "outputs": [
        {
          "output_type": "execute_result",
          "data": {
            "text/html": [
              "<div>\n",
              "<style scoped>\n",
              "    .dataframe tbody tr th:only-of-type {\n",
              "        vertical-align: middle;\n",
              "    }\n",
              "\n",
              "    .dataframe tbody tr th {\n",
              "        vertical-align: top;\n",
              "    }\n",
              "\n",
              "    .dataframe thead th {\n",
              "        text-align: right;\n",
              "    }\n",
              "</style>\n",
              "<table border=\"1\" class=\"dataframe\">\n",
              "  <thead>\n",
              "    <tr style=\"text-align: right;\">\n",
              "      <th></th>\n",
              "      <th>rank</th>\n",
              "      <th>country_full</th>\n",
              "      <th>country_abrv</th>\n",
              "      <th>total_points</th>\n",
              "      <th>previous_points</th>\n",
              "      <th>rank_change</th>\n",
              "      <th>cur_year_avg</th>\n",
              "      <th>cur_year_avg_weighted</th>\n",
              "      <th>last_year_avg</th>\n",
              "      <th>last_year_avg_weighted</th>\n",
              "      <th>two_year_ago_avg</th>\n",
              "      <th>two_year_ago_weighted</th>\n",
              "      <th>three_year_ago_avg</th>\n",
              "      <th>three_year_ago_weighted</th>\n",
              "      <th>confederation</th>\n",
              "      <th>rank_date</th>\n",
              "    </tr>\n",
              "  </thead>\n",
              "  <tbody>\n",
              "    <tr>\n",
              "      <th>57788</th>\n",
              "      <td>206</td>\n",
              "      <td>Anguilla</td>\n",
              "      <td>AIA</td>\n",
              "      <td>0.0</td>\n",
              "      <td>0</td>\n",
              "      <td>1</td>\n",
              "      <td>0.0</td>\n",
              "      <td>0.0</td>\n",
              "      <td>0.0</td>\n",
              "      <td>0.0</td>\n",
              "      <td>0.0</td>\n",
              "      <td>0.0</td>\n",
              "      <td>0.0</td>\n",
              "      <td>0.0</td>\n",
              "      <td>CONCACAF</td>\n",
              "      <td>2018-06-07</td>\n",
              "    </tr>\n",
              "    <tr>\n",
              "      <th>57789</th>\n",
              "      <td>206</td>\n",
              "      <td>Bahamas</td>\n",
              "      <td>BAH</td>\n",
              "      <td>0.0</td>\n",
              "      <td>0</td>\n",
              "      <td>1</td>\n",
              "      <td>0.0</td>\n",
              "      <td>0.0</td>\n",
              "      <td>0.0</td>\n",
              "      <td>0.0</td>\n",
              "      <td>0.0</td>\n",
              "      <td>0.0</td>\n",
              "      <td>0.0</td>\n",
              "      <td>0.0</td>\n",
              "      <td>CONCACAF</td>\n",
              "      <td>2018-06-07</td>\n",
              "    </tr>\n",
              "    <tr>\n",
              "      <th>57790</th>\n",
              "      <td>206</td>\n",
              "      <td>Eritrea</td>\n",
              "      <td>ERI</td>\n",
              "      <td>0.0</td>\n",
              "      <td>0</td>\n",
              "      <td>1</td>\n",
              "      <td>0.0</td>\n",
              "      <td>0.0</td>\n",
              "      <td>0.0</td>\n",
              "      <td>0.0</td>\n",
              "      <td>0.0</td>\n",
              "      <td>0.0</td>\n",
              "      <td>0.0</td>\n",
              "      <td>0.0</td>\n",
              "      <td>CAF</td>\n",
              "      <td>2018-06-07</td>\n",
              "    </tr>\n",
              "    <tr>\n",
              "      <th>57791</th>\n",
              "      <td>206</td>\n",
              "      <td>Somalia</td>\n",
              "      <td>SOM</td>\n",
              "      <td>0.0</td>\n",
              "      <td>0</td>\n",
              "      <td>1</td>\n",
              "      <td>0.0</td>\n",
              "      <td>0.0</td>\n",
              "      <td>0.0</td>\n",
              "      <td>0.0</td>\n",
              "      <td>0.0</td>\n",
              "      <td>0.0</td>\n",
              "      <td>0.0</td>\n",
              "      <td>0.0</td>\n",
              "      <td>CAF</td>\n",
              "      <td>2018-06-07</td>\n",
              "    </tr>\n",
              "    <tr>\n",
              "      <th>57792</th>\n",
              "      <td>206</td>\n",
              "      <td>Tonga</td>\n",
              "      <td>TGA</td>\n",
              "      <td>0.0</td>\n",
              "      <td>0</td>\n",
              "      <td>1</td>\n",
              "      <td>0.0</td>\n",
              "      <td>0.0</td>\n",
              "      <td>0.0</td>\n",
              "      <td>0.0</td>\n",
              "      <td>0.0</td>\n",
              "      <td>0.0</td>\n",
              "      <td>0.0</td>\n",
              "      <td>0.0</td>\n",
              "      <td>OFC</td>\n",
              "      <td>2018-06-07</td>\n",
              "    </tr>\n",
              "  </tbody>\n",
              "</table>\n",
              "</div>"
            ],
            "text/plain": [
              "       rank country_full  ... confederation   rank_date\n",
              "57788   206     Anguilla  ...      CONCACAF  2018-06-07\n",
              "57789   206      Bahamas  ...      CONCACAF  2018-06-07\n",
              "57790   206      Eritrea  ...           CAF  2018-06-07\n",
              "57791   206      Somalia  ...           CAF  2018-06-07\n",
              "57792   206        Tonga  ...           OFC  2018-06-07\n",
              "\n",
              "[5 rows x 16 columns]"
            ]
          },
          "metadata": {
            "tags": []
          },
          "execution_count": 8
        }
      ]
    },
    {
      "cell_type": "code",
      "metadata": {
        "colab": {
          "base_uri": "https://localhost:8080/",
          "height": 289
        },
        "id": "POCp1pyqdpLL",
        "outputId": "20c469bc-d3e0-4e54-addd-97bd42c040ae"
      },
      "source": [
        "# Previewing the bottom of our dataset- results\n",
        "# \n",
        "results.tail()"
      ],
      "execution_count": 9,
      "outputs": [
        {
          "output_type": "execute_result",
          "data": {
            "text/html": [
              "<div>\n",
              "<style scoped>\n",
              "    .dataframe tbody tr th:only-of-type {\n",
              "        vertical-align: middle;\n",
              "    }\n",
              "\n",
              "    .dataframe tbody tr th {\n",
              "        vertical-align: top;\n",
              "    }\n",
              "\n",
              "    .dataframe thead th {\n",
              "        text-align: right;\n",
              "    }\n",
              "</style>\n",
              "<table border=\"1\" class=\"dataframe\">\n",
              "  <thead>\n",
              "    <tr style=\"text-align: right;\">\n",
              "      <th></th>\n",
              "      <th>date</th>\n",
              "      <th>home_team</th>\n",
              "      <th>away_team</th>\n",
              "      <th>home_score</th>\n",
              "      <th>away_score</th>\n",
              "      <th>tournament</th>\n",
              "      <th>city</th>\n",
              "      <th>country</th>\n",
              "      <th>neutral</th>\n",
              "    </tr>\n",
              "  </thead>\n",
              "  <tbody>\n",
              "    <tr>\n",
              "      <th>40834</th>\n",
              "      <td>2019-07-18</td>\n",
              "      <td>American Samoa</td>\n",
              "      <td>Tahiti</td>\n",
              "      <td>8</td>\n",
              "      <td>1</td>\n",
              "      <td>Pacific Games</td>\n",
              "      <td>Apia</td>\n",
              "      <td>Samoa</td>\n",
              "      <td>True</td>\n",
              "    </tr>\n",
              "    <tr>\n",
              "      <th>40835</th>\n",
              "      <td>2019-07-18</td>\n",
              "      <td>Fiji</td>\n",
              "      <td>Solomon Islands</td>\n",
              "      <td>4</td>\n",
              "      <td>4</td>\n",
              "      <td>Pacific Games</td>\n",
              "      <td>Apia</td>\n",
              "      <td>Samoa</td>\n",
              "      <td>True</td>\n",
              "    </tr>\n",
              "    <tr>\n",
              "      <th>40836</th>\n",
              "      <td>2019-07-19</td>\n",
              "      <td>Senegal</td>\n",
              "      <td>Algeria</td>\n",
              "      <td>0</td>\n",
              "      <td>1</td>\n",
              "      <td>African Cup of Nations</td>\n",
              "      <td>Cairo</td>\n",
              "      <td>Egypt</td>\n",
              "      <td>True</td>\n",
              "    </tr>\n",
              "    <tr>\n",
              "      <th>40837</th>\n",
              "      <td>2019-07-19</td>\n",
              "      <td>Tajikistan</td>\n",
              "      <td>North Korea</td>\n",
              "      <td>0</td>\n",
              "      <td>1</td>\n",
              "      <td>Intercontinental Cup</td>\n",
              "      <td>Ahmedabad</td>\n",
              "      <td>India</td>\n",
              "      <td>True</td>\n",
              "    </tr>\n",
              "    <tr>\n",
              "      <th>40838</th>\n",
              "      <td>2019-07-20</td>\n",
              "      <td>Papua New Guinea</td>\n",
              "      <td>Fiji</td>\n",
              "      <td>1</td>\n",
              "      <td>1</td>\n",
              "      <td>Pacific Games</td>\n",
              "      <td>Apia</td>\n",
              "      <td>Samoa</td>\n",
              "      <td>True</td>\n",
              "    </tr>\n",
              "  </tbody>\n",
              "</table>\n",
              "</div>"
            ],
            "text/plain": [
              "             date         home_team  ... country  neutral\n",
              "40834  2019-07-18    American Samoa  ...   Samoa     True\n",
              "40835  2019-07-18              Fiji  ...   Samoa     True\n",
              "40836  2019-07-19           Senegal  ...   Egypt     True\n",
              "40837  2019-07-19        Tajikistan  ...   India     True\n",
              "40838  2019-07-20  Papua New Guinea  ...   Samoa     True\n",
              "\n",
              "[5 rows x 9 columns]"
            ]
          },
          "metadata": {
            "tags": []
          },
          "execution_count": 9
        }
      ]
    },
    {
      "cell_type": "code",
      "metadata": {
        "id": "n8-dW4sQWzbc",
        "colab": {
          "base_uri": "https://localhost:8080/"
        },
        "outputId": "5492f991-b288-4489-d12b-0a04a5327449"
      },
      "source": [
        "# Checking whether each column has an appropriate datatypes\n",
        "#\n",
        "print(ranking.dtypes)\n",
        "print(results.dtypes)"
      ],
      "execution_count": 10,
      "outputs": [
        {
          "output_type": "stream",
          "text": [
            "rank                         int64\n",
            "country_full                object\n",
            "country_abrv                object\n",
            "total_points               float64\n",
            "previous_points              int64\n",
            "rank_change                  int64\n",
            "cur_year_avg               float64\n",
            "cur_year_avg_weighted      float64\n",
            "last_year_avg              float64\n",
            "last_year_avg_weighted     float64\n",
            "two_year_ago_avg           float64\n",
            "two_year_ago_weighted      float64\n",
            "three_year_ago_avg         float64\n",
            "three_year_ago_weighted    float64\n",
            "confederation               object\n",
            "rank_date                   object\n",
            "dtype: object\n",
            "date          object\n",
            "home_team     object\n",
            "away_team     object\n",
            "home_score     int64\n",
            "away_score     int64\n",
            "tournament    object\n",
            "city          object\n",
            "country       object\n",
            "neutral         bool\n",
            "dtype: object\n"
          ],
          "name": "stdout"
        }
      ]
    },
    {
      "cell_type": "code",
      "metadata": {
        "colab": {
          "base_uri": "https://localhost:8080/"
        },
        "id": "2LNRQTZvb0wj",
        "outputId": "1a8faa03-0f4f-4070-9030-5760019cd730"
      },
      "source": [
        "# to get general info on the dataframes\n",
        "\n",
        "print(ranking.info())\n",
        "print(results.info())"
      ],
      "execution_count": 11,
      "outputs": [
        {
          "output_type": "stream",
          "text": [
            "<class 'pandas.core.frame.DataFrame'>\n",
            "RangeIndex: 57793 entries, 0 to 57792\n",
            "Data columns (total 16 columns):\n",
            " #   Column                   Non-Null Count  Dtype  \n",
            "---  ------                   --------------  -----  \n",
            " 0   rank                     57793 non-null  int64  \n",
            " 1   country_full             57793 non-null  object \n",
            " 2   country_abrv             57793 non-null  object \n",
            " 3   total_points             57793 non-null  float64\n",
            " 4   previous_points          57793 non-null  int64  \n",
            " 5   rank_change              57793 non-null  int64  \n",
            " 6   cur_year_avg             57793 non-null  float64\n",
            " 7   cur_year_avg_weighted    57793 non-null  float64\n",
            " 8   last_year_avg            57793 non-null  float64\n",
            " 9   last_year_avg_weighted   57793 non-null  float64\n",
            " 10  two_year_ago_avg         57793 non-null  float64\n",
            " 11  two_year_ago_weighted    57793 non-null  float64\n",
            " 12  three_year_ago_avg       57793 non-null  float64\n",
            " 13  three_year_ago_weighted  57793 non-null  float64\n",
            " 14  confederation            57793 non-null  object \n",
            " 15  rank_date                57793 non-null  object \n",
            "dtypes: float64(9), int64(3), object(4)\n",
            "memory usage: 7.1+ MB\n",
            "None\n",
            "<class 'pandas.core.frame.DataFrame'>\n",
            "RangeIndex: 40839 entries, 0 to 40838\n",
            "Data columns (total 9 columns):\n",
            " #   Column      Non-Null Count  Dtype \n",
            "---  ------      --------------  ----- \n",
            " 0   date        40839 non-null  object\n",
            " 1   home_team   40839 non-null  object\n",
            " 2   away_team   40839 non-null  object\n",
            " 3   home_score  40839 non-null  int64 \n",
            " 4   away_score  40839 non-null  int64 \n",
            " 5   tournament  40839 non-null  object\n",
            " 6   city        40839 non-null  object\n",
            " 7   country     40839 non-null  object\n",
            " 8   neutral     40839 non-null  bool  \n",
            "dtypes: bool(1), int64(2), object(6)\n",
            "memory usage: 2.5+ MB\n",
            "None\n"
          ],
          "name": "stdout"
        }
      ]
    },
    {
      "cell_type": "code",
      "metadata": {
        "colab": {
          "base_uri": "https://localhost:8080/"
        },
        "id": "zghQozUBcHXa",
        "outputId": "6f17e086-3392-4017-980d-bff30d004a08"
      },
      "source": [
        "# to get a statistical summary of the dataframes\n",
        "\n",
        "print(ranking.describe())\n",
        "print(results.describe())"
      ],
      "execution_count": 12,
      "outputs": [
        {
          "output_type": "stream",
          "text": [
            "               rank  total_points  ...  three_year_ago_avg  three_year_ago_weighted\n",
            "count  57793.000000  57793.000000  ...        57793.000000             57793.000000\n",
            "mean     101.628086    122.068637  ...           59.173916                11.834811\n",
            "std       58.618424    260.426863  ...          135.533343                27.106675\n",
            "min        1.000000      0.000000  ...            0.000000                 0.000000\n",
            "25%       51.000000      0.000000  ...            0.000000                 0.000000\n",
            "50%      101.000000      0.000000  ...            0.000000                 0.000000\n",
            "75%      152.000000     92.790000  ...           21.250000                 4.250000\n",
            "max      209.000000   1775.030000  ...         1200.770000               240.150000\n",
            "\n",
            "[8 rows x 12 columns]\n",
            "         home_score    away_score\n",
            "count  40839.000000  40839.000000\n",
            "mean       1.745709      1.188105\n",
            "std        1.749145      1.405120\n",
            "min        0.000000      0.000000\n",
            "25%        1.000000      0.000000\n",
            "50%        1.000000      1.000000\n",
            "75%        2.000000      2.000000\n",
            "max       31.000000     21.000000\n"
          ],
          "name": "stdout"
        }
      ]
    },
    {
      "cell_type": "markdown",
      "metadata": {
        "id": "ckfufNrcUHeH"
      },
      "source": [
        "##**4**. External Data Source Validation"
      ]
    },
    {
      "cell_type": "markdown",
      "metadata": {
        "id": "6XC_g-zKxe-r"
      },
      "source": [
        "### a.Validation"
      ]
    },
    {
      "cell_type": "markdown",
      "metadata": {
        "id": "FlBMxEDBUc9B"
      },
      "source": [
        "##**5**. Tidying the Dataset"
      ]
    },
    {
      "cell_type": "code",
      "metadata": {
        "colab": {
          "base_uri": "https://localhost:8080/"
        },
        "id": "1bFxkFh3lrgN",
        "outputId": "80ae857b-e8c4-46ed-f60e-8f2c9acc2997"
      },
      "source": [
        "ranking.columns"
      ],
      "execution_count": 13,
      "outputs": [
        {
          "output_type": "execute_result",
          "data": {
            "text/plain": [
              "Index(['rank', 'country_full', 'country_abrv', 'total_points',\n",
              "       'previous_points', 'rank_change', 'cur_year_avg',\n",
              "       'cur_year_avg_weighted', 'last_year_avg', 'last_year_avg_weighted',\n",
              "       'two_year_ago_avg', 'two_year_ago_weighted', 'three_year_ago_avg',\n",
              "       'three_year_ago_weighted', 'confederation', 'rank_date'],\n",
              "      dtype='object')"
            ]
          },
          "metadata": {
            "tags": []
          },
          "execution_count": 13
        }
      ]
    },
    {
      "cell_type": "code",
      "metadata": {
        "colab": {
          "base_uri": "https://localhost:8080/",
          "height": 204
        },
        "id": "yY_VJlOTlysu",
        "outputId": "29b5b2b5-50ec-4183-b65a-ad11c9075913"
      },
      "source": [
        "# dropping unnecesary columns\n",
        "# \n",
        "\n",
        "ranking.drop(['country_abrv','cur_year_avg', 'cur_year_avg_weighted', 'last_year_avg',\n",
        "              'last_year_avg_weighted', 'two_year_ago_avg', 'two_year_ago_weighted',\n",
        "              'three_year_ago_avg', 'three_year_ago_weighted'], axis=1, inplace=True)\n",
        "ranking.head()"
      ],
      "execution_count": 14,
      "outputs": [
        {
          "output_type": "execute_result",
          "data": {
            "text/html": [
              "<div>\n",
              "<style scoped>\n",
              "    .dataframe tbody tr th:only-of-type {\n",
              "        vertical-align: middle;\n",
              "    }\n",
              "\n",
              "    .dataframe tbody tr th {\n",
              "        vertical-align: top;\n",
              "    }\n",
              "\n",
              "    .dataframe thead th {\n",
              "        text-align: right;\n",
              "    }\n",
              "</style>\n",
              "<table border=\"1\" class=\"dataframe\">\n",
              "  <thead>\n",
              "    <tr style=\"text-align: right;\">\n",
              "      <th></th>\n",
              "      <th>rank</th>\n",
              "      <th>country_full</th>\n",
              "      <th>total_points</th>\n",
              "      <th>previous_points</th>\n",
              "      <th>rank_change</th>\n",
              "      <th>confederation</th>\n",
              "      <th>rank_date</th>\n",
              "    </tr>\n",
              "  </thead>\n",
              "  <tbody>\n",
              "    <tr>\n",
              "      <th>0</th>\n",
              "      <td>1</td>\n",
              "      <td>Germany</td>\n",
              "      <td>0.0</td>\n",
              "      <td>57</td>\n",
              "      <td>0</td>\n",
              "      <td>UEFA</td>\n",
              "      <td>1993-08-08</td>\n",
              "    </tr>\n",
              "    <tr>\n",
              "      <th>1</th>\n",
              "      <td>2</td>\n",
              "      <td>Italy</td>\n",
              "      <td>0.0</td>\n",
              "      <td>57</td>\n",
              "      <td>0</td>\n",
              "      <td>UEFA</td>\n",
              "      <td>1993-08-08</td>\n",
              "    </tr>\n",
              "    <tr>\n",
              "      <th>2</th>\n",
              "      <td>3</td>\n",
              "      <td>Switzerland</td>\n",
              "      <td>0.0</td>\n",
              "      <td>50</td>\n",
              "      <td>9</td>\n",
              "      <td>UEFA</td>\n",
              "      <td>1993-08-08</td>\n",
              "    </tr>\n",
              "    <tr>\n",
              "      <th>3</th>\n",
              "      <td>4</td>\n",
              "      <td>Sweden</td>\n",
              "      <td>0.0</td>\n",
              "      <td>55</td>\n",
              "      <td>0</td>\n",
              "      <td>UEFA</td>\n",
              "      <td>1993-08-08</td>\n",
              "    </tr>\n",
              "    <tr>\n",
              "      <th>4</th>\n",
              "      <td>5</td>\n",
              "      <td>Argentina</td>\n",
              "      <td>0.0</td>\n",
              "      <td>51</td>\n",
              "      <td>5</td>\n",
              "      <td>CONMEBOL</td>\n",
              "      <td>1993-08-08</td>\n",
              "    </tr>\n",
              "  </tbody>\n",
              "</table>\n",
              "</div>"
            ],
            "text/plain": [
              "   rank country_full  total_points  ...  rank_change  confederation   rank_date\n",
              "0     1      Germany           0.0  ...            0           UEFA  1993-08-08\n",
              "1     2        Italy           0.0  ...            0           UEFA  1993-08-08\n",
              "2     3  Switzerland           0.0  ...            9           UEFA  1993-08-08\n",
              "3     4       Sweden           0.0  ...            0           UEFA  1993-08-08\n",
              "4     5    Argentina           0.0  ...            5       CONMEBOL  1993-08-08\n",
              "\n",
              "[5 rows x 7 columns]"
            ]
          },
          "metadata": {
            "tags": []
          },
          "execution_count": 14
        }
      ]
    },
    {
      "cell_type": "code",
      "metadata": {
        "colab": {
          "base_uri": "https://localhost:8080/"
        },
        "id": "3bmARWbdo5a5",
        "outputId": "144038e0-1f2c-42ac-89e8-c6c53aae4d30"
      },
      "source": [
        "results.columns"
      ],
      "execution_count": 15,
      "outputs": [
        {
          "output_type": "execute_result",
          "data": {
            "text/plain": [
              "Index(['date', 'home_team', 'away_team', 'home_score', 'away_score',\n",
              "       'tournament', 'city', 'country', 'neutral'],\n",
              "      dtype='object')"
            ]
          },
          "metadata": {
            "tags": []
          },
          "execution_count": 15
        }
      ]
    },
    {
      "cell_type": "code",
      "metadata": {
        "colab": {
          "base_uri": "https://localhost:8080/",
          "height": 204
        },
        "id": "xiwZ6HEJpO8B",
        "outputId": "9c852939-b25d-4707-afc4-22086b3b8625"
      },
      "source": [
        "# delete unnecessary columns in the results dataset.\n",
        "# \n",
        "\n",
        "results.drop(['neutral', 'city'], axis=1, inplace=True)\n",
        "results.head()"
      ],
      "execution_count": 16,
      "outputs": [
        {
          "output_type": "execute_result",
          "data": {
            "text/html": [
              "<div>\n",
              "<style scoped>\n",
              "    .dataframe tbody tr th:only-of-type {\n",
              "        vertical-align: middle;\n",
              "    }\n",
              "\n",
              "    .dataframe tbody tr th {\n",
              "        vertical-align: top;\n",
              "    }\n",
              "\n",
              "    .dataframe thead th {\n",
              "        text-align: right;\n",
              "    }\n",
              "</style>\n",
              "<table border=\"1\" class=\"dataframe\">\n",
              "  <thead>\n",
              "    <tr style=\"text-align: right;\">\n",
              "      <th></th>\n",
              "      <th>date</th>\n",
              "      <th>home_team</th>\n",
              "      <th>away_team</th>\n",
              "      <th>home_score</th>\n",
              "      <th>away_score</th>\n",
              "      <th>tournament</th>\n",
              "      <th>country</th>\n",
              "    </tr>\n",
              "  </thead>\n",
              "  <tbody>\n",
              "    <tr>\n",
              "      <th>0</th>\n",
              "      <td>1872-11-30</td>\n",
              "      <td>Scotland</td>\n",
              "      <td>England</td>\n",
              "      <td>0</td>\n",
              "      <td>0</td>\n",
              "      <td>Friendly</td>\n",
              "      <td>Scotland</td>\n",
              "    </tr>\n",
              "    <tr>\n",
              "      <th>1</th>\n",
              "      <td>1873-03-08</td>\n",
              "      <td>England</td>\n",
              "      <td>Scotland</td>\n",
              "      <td>4</td>\n",
              "      <td>2</td>\n",
              "      <td>Friendly</td>\n",
              "      <td>England</td>\n",
              "    </tr>\n",
              "    <tr>\n",
              "      <th>2</th>\n",
              "      <td>1874-03-07</td>\n",
              "      <td>Scotland</td>\n",
              "      <td>England</td>\n",
              "      <td>2</td>\n",
              "      <td>1</td>\n",
              "      <td>Friendly</td>\n",
              "      <td>Scotland</td>\n",
              "    </tr>\n",
              "    <tr>\n",
              "      <th>3</th>\n",
              "      <td>1875-03-06</td>\n",
              "      <td>England</td>\n",
              "      <td>Scotland</td>\n",
              "      <td>2</td>\n",
              "      <td>2</td>\n",
              "      <td>Friendly</td>\n",
              "      <td>England</td>\n",
              "    </tr>\n",
              "    <tr>\n",
              "      <th>4</th>\n",
              "      <td>1876-03-04</td>\n",
              "      <td>Scotland</td>\n",
              "      <td>England</td>\n",
              "      <td>3</td>\n",
              "      <td>0</td>\n",
              "      <td>Friendly</td>\n",
              "      <td>Scotland</td>\n",
              "    </tr>\n",
              "  </tbody>\n",
              "</table>\n",
              "</div>"
            ],
            "text/plain": [
              "         date home_team away_team  home_score  away_score tournament   country\n",
              "0  1872-11-30  Scotland   England           0           0   Friendly  Scotland\n",
              "1  1873-03-08   England  Scotland           4           2   Friendly   England\n",
              "2  1874-03-07  Scotland   England           2           1   Friendly  Scotland\n",
              "3  1875-03-06   England  Scotland           2           2   Friendly   England\n",
              "4  1876-03-04  Scotland   England           3           0   Friendly  Scotland"
            ]
          },
          "metadata": {
            "tags": []
          },
          "execution_count": 16
        }
      ]
    },
    {
      "cell_type": "code",
      "metadata": {
        "colab": {
          "base_uri": "https://localhost:8080/"
        },
        "id": "zlmV8aixkfUK",
        "outputId": "dab5d37a-07b2-4601-9cc8-0ce058852993"
      },
      "source": [
        "# check for duplicates\n",
        "\n",
        "print('The duplicates in the ranking dataset are:', ranking.duplicated().sum())\n",
        "print('The duplicates in the results dataset are:', results.duplicated().sum())\n",
        "\n"
      ],
      "execution_count": 17,
      "outputs": [
        {
          "output_type": "stream",
          "text": [
            "The duplicates in the ranking dataset are: 37\n",
            "The duplicates in the results dataset are: 1\n"
          ],
          "name": "stdout"
        }
      ]
    },
    {
      "cell_type": "code",
      "metadata": {
        "colab": {
          "base_uri": "https://localhost:8080/"
        },
        "id": "FIOOwL4YsR0K",
        "outputId": "801e9a4b-4147-4aa3-feb2-8ea85edb19a4"
      },
      "source": [
        "# removing duplicates\n",
        "# \n",
        "ranking = ranking.drop_duplicates()\n",
        "print(ranking.duplicated().sum())\n",
        "results = results.drop_duplicates()\n",
        "print(results.duplicated().sum())"
      ],
      "execution_count": 18,
      "outputs": [
        {
          "output_type": "stream",
          "text": [
            "0\n",
            "0\n"
          ],
          "name": "stdout"
        }
      ]
    },
    {
      "cell_type": "code",
      "metadata": {
        "id": "PvCYb6dgW4yh",
        "colab": {
          "base_uri": "https://localhost:8080/"
        },
        "outputId": "6d78842c-c781-42bf-eea6-88c6f6462eed"
      },
      "source": [
        "# Identifying the Missing Data\n",
        "#\n",
        "print(ranking.isnull().sum())\n",
        "print(results.isnull().sum())\n"
      ],
      "execution_count": 19,
      "outputs": [
        {
          "output_type": "stream",
          "text": [
            "rank               0\n",
            "country_full       0\n",
            "total_points       0\n",
            "previous_points    0\n",
            "rank_change        0\n",
            "confederation      0\n",
            "rank_date          0\n",
            "dtype: int64\n",
            "date          0\n",
            "home_team     0\n",
            "away_team     0\n",
            "home_score    0\n",
            "away_score    0\n",
            "tournament    0\n",
            "country       0\n",
            "dtype: int64\n"
          ],
          "name": "stdout"
        }
      ]
    },
    {
      "cell_type": "code",
      "metadata": {
        "id": "987B0RY4vMud"
      },
      "source": [
        "# Dealing with the Missing Data\n",
        "#\n",
        "# there are no missing values"
      ],
      "execution_count": 20,
      "outputs": []
    },
    {
      "cell_type": "code",
      "metadata": {
        "colab": {
          "base_uri": "https://localhost:8080/",
          "height": 851
        },
        "id": "w6xHHHMFvelX",
        "outputId": "c25abb17-b86c-4335-af7f-9fc8c6e6b611"
      },
      "source": [
        "# checking for outliers- fifa ranking\n",
        "# \n",
        "\n",
        "fig, ((ax1, ax2), (ax3, ax4)) = plt.subplots(2,2, figsize=(12, 10))\n",
        "fig.suptitle('Boxplots')\n",
        "sns.boxplot(ranking['rank'], ax=ax1)\n",
        "sns.boxplot(ranking['total_points'], ax=ax2)\n",
        "sns.boxplot(ranking['previous_points'], ax=ax3)\n",
        "sns.boxplot(ranking['rank_change'], ax=ax4)"
      ],
      "execution_count": 21,
      "outputs": [
        {
          "output_type": "stream",
          "text": [
            "/usr/local/lib/python3.7/dist-packages/seaborn/_decorators.py:43: FutureWarning: Pass the following variable as a keyword arg: x. From version 0.12, the only valid positional argument will be `data`, and passing other arguments without an explicit keyword will result in an error or misinterpretation.\n",
            "  FutureWarning\n",
            "/usr/local/lib/python3.7/dist-packages/seaborn/_decorators.py:43: FutureWarning: Pass the following variable as a keyword arg: x. From version 0.12, the only valid positional argument will be `data`, and passing other arguments without an explicit keyword will result in an error or misinterpretation.\n",
            "  FutureWarning\n",
            "/usr/local/lib/python3.7/dist-packages/seaborn/_decorators.py:43: FutureWarning: Pass the following variable as a keyword arg: x. From version 0.12, the only valid positional argument will be `data`, and passing other arguments without an explicit keyword will result in an error or misinterpretation.\n",
            "  FutureWarning\n",
            "/usr/local/lib/python3.7/dist-packages/seaborn/_decorators.py:43: FutureWarning: Pass the following variable as a keyword arg: x. From version 0.12, the only valid positional argument will be `data`, and passing other arguments without an explicit keyword will result in an error or misinterpretation.\n",
            "  FutureWarning\n"
          ],
          "name": "stderr"
        },
        {
          "output_type": "execute_result",
          "data": {
            "text/plain": [
              "<matplotlib.axes._subplots.AxesSubplot at 0x7f092da67f50>"
            ]
          },
          "metadata": {
            "tags": []
          },
          "execution_count": 21
        },
        {
          "output_type": "display_data",
          "data": {
            "image/png": "[encoded data removed]",
            "text/plain": [
              "<Figure size 864x720 with 4 Axes>"
            ]
          },
          "metadata": {
            "tags": [],
            "needs_background": "light"
          }
        }
      ]
    },
    {
      "cell_type": "code",
      "metadata": {
        "id": "ztd5XAxM1tOl"
      },
      "source": [
        "# getting rid of the outliers\n",
        "\n",
        "# Q1 = ranking.quantile(0.25)\n",
        "# Q3 = ranking.quantile(0.75)\n",
        "# print(Q1)\n",
        "# print(Q3)\n",
        "# IQR = Q3 - Q1\n",
        "# print(IQR)\n",
        "# ranking = ranking[~((ranking < (Q1 - 1.5 * IQR)) | (ranking > (Q3 + 1.5 * IQR))).any(axis=1)]\n",
        "# print(ranking.shape)"
      ],
      "execution_count": 22,
      "outputs": []
    },
    {
      "cell_type": "code",
      "metadata": {
        "colab": {
          "base_uri": "https://localhost:8080/",
          "height": 783
        },
        "id": "Hr0Lb3nL5Z7e",
        "outputId": "1377370d-d9db-4d7a-f57f-f992ba698a59"
      },
      "source": [
        "# checking for outliers- results\n",
        "# \n",
        "\n",
        "fig, (ax1, ax2) = plt.subplots(1,2, figsize=(12, 10))\n",
        "fig.suptitle('Boxplots')\n",
        "sns.boxplot(results['home_score'], ax=ax1)\n",
        "sns.boxplot(results['away_score'], ax=ax2)\n"
      ],
      "execution_count": 23,
      "outputs": [
        {
          "output_type": "stream",
          "text": [
            "/usr/local/lib/python3.7/dist-packages/seaborn/_decorators.py:43: FutureWarning: Pass the following variable as a keyword arg: x. From version 0.12, the only valid positional argument will be `data`, and passing other arguments without an explicit keyword will result in an error or misinterpretation.\n",
            "  FutureWarning\n",
            "/usr/local/lib/python3.7/dist-packages/seaborn/_decorators.py:43: FutureWarning: Pass the following variable as a keyword arg: x. From version 0.12, the only valid positional argument will be `data`, and passing other arguments without an explicit keyword will result in an error or misinterpretation.\n",
            "  FutureWarning\n"
          ],
          "name": "stderr"
        },
        {
          "output_type": "execute_result",
          "data": {
            "text/plain": [
              "<matplotlib.axes._subplots.AxesSubplot at 0x7f092d42f6d0>"
            ]
          },
          "metadata": {
            "tags": []
          },
          "execution_count": 23
        },
        {
          "output_type": "display_data",
          "data": {
            "image/png": "[encoded data removed]",
            "text/plain": [
              "<Figure size 864x720 with 2 Axes>"
            ]
          },
          "metadata": {
            "tags": [],
            "needs_background": "light"
          }
        }
      ]
    },
    {
      "cell_type": "code",
      "metadata": {
        "id": "6ear5GzB_sXT"
      },
      "source": [
        "# getting rid of ourtliers\n",
        "# \n",
        "# Q1_r = results.quantile(0.25)\n",
        "# Q3_r = results.quantile(0.75)\n",
        "# IQR_r = Q3_r - Q1_r\n",
        "# print(Q1_r)\n",
        "# print(Q3_r)\n",
        "# print(IQR_r)\n",
        "\n",
        "# results = results[~((results < (Q1_r - 1.5 * IQR_r)) | (results > (Q3_r + 1.5 * IQR_r))).any(axis=1)]\n",
        "# print(results.shape)"
      ],
      "execution_count": 24,
      "outputs": []
    },
    {
      "cell_type": "code",
      "metadata": {
        "colab": {
          "base_uri": "https://localhost:8080/"
        },
        "id": "xyI_OW5rCxUQ",
        "outputId": "8ab24fd0-1fcd-4085-c860-0923f4b3c2ff"
      },
      "source": [
        "# change data type of 'date' column- fifa ranking\n",
        "# \n",
        "\n",
        "ranking['rank_date'] = pd.to_datetime(ranking['rank_date'])\n",
        "ranking.info()"
      ],
      "execution_count": 25,
      "outputs": [
        {
          "output_type": "stream",
          "text": [
            "<class 'pandas.core.frame.DataFrame'>\n",
            "Int64Index: 57756 entries, 0 to 57792\n",
            "Data columns (total 7 columns):\n",
            " #   Column           Non-Null Count  Dtype         \n",
            "---  ------           --------------  -----         \n",
            " 0   rank             57756 non-null  int64         \n",
            " 1   country_full     57756 non-null  object        \n",
            " 2   total_points     57756 non-null  float64       \n",
            " 3   previous_points  57756 non-null  int64         \n",
            " 4   rank_change      57756 non-null  int64         \n",
            " 5   confederation    57756 non-null  object        \n",
            " 6   rank_date        57756 non-null  datetime64[ns]\n",
            "dtypes: datetime64[ns](1), float64(1), int64(3), object(2)\n",
            "memory usage: 3.5+ MB\n"
          ],
          "name": "stdout"
        }
      ]
    },
    {
      "cell_type": "code",
      "metadata": {
        "colab": {
          "base_uri": "https://localhost:8080/"
        },
        "id": "1hzWIy3zC68v",
        "outputId": "0d08fee1-2240-4f2d-cbd1-3c48cd94b97e"
      },
      "source": [
        "# change data type of 'date' column- results\n",
        "# \n",
        "\n",
        "results['date'] = pd.to_datetime(results['date'])\n",
        "results.info()"
      ],
      "execution_count": 26,
      "outputs": [
        {
          "output_type": "stream",
          "text": [
            "<class 'pandas.core.frame.DataFrame'>\n",
            "Int64Index: 40838 entries, 0 to 40838\n",
            "Data columns (total 7 columns):\n",
            " #   Column      Non-Null Count  Dtype         \n",
            "---  ------      --------------  -----         \n",
            " 0   date        40838 non-null  datetime64[ns]\n",
            " 1   home_team   40838 non-null  object        \n",
            " 2   away_team   40838 non-null  object        \n",
            " 3   home_score  40838 non-null  int64         \n",
            " 4   away_score  40838 non-null  int64         \n",
            " 5   tournament  40838 non-null  object        \n",
            " 6   country     40838 non-null  object        \n",
            "dtypes: datetime64[ns](1), int64(2), object(4)\n",
            "memory usage: 2.5+ MB\n"
          ],
          "name": "stdout"
        }
      ]
    },
    {
      "cell_type": "code",
      "metadata": {
        "colab": {
          "base_uri": "https://localhost:8080/",
          "height": 204
        },
        "id": "SWJz2gWe8T7A",
        "outputId": "7fbad8e8-9488-418a-aa1a-48f97ffda209"
      },
      "source": [
        "# remove day from date to remain with  year and month data\n",
        "ranking['rank_date'] = ranking['rank_date'].dt.strftime('%Y-%m')\n",
        "ranking.head()"
      ],
      "execution_count": 27,
      "outputs": [
        {
          "output_type": "execute_result",
          "data": {
            "text/html": [
              "<div>\n",
              "<style scoped>\n",
              "    .dataframe tbody tr th:only-of-type {\n",
              "        vertical-align: middle;\n",
              "    }\n",
              "\n",
              "    .dataframe tbody tr th {\n",
              "        vertical-align: top;\n",
              "    }\n",
              "\n",
              "    .dataframe thead th {\n",
              "        text-align: right;\n",
              "    }\n",
              "</style>\n",
              "<table border=\"1\" class=\"dataframe\">\n",
              "  <thead>\n",
              "    <tr style=\"text-align: right;\">\n",
              "      <th></th>\n",
              "      <th>rank</th>\n",
              "      <th>country_full</th>\n",
              "      <th>total_points</th>\n",
              "      <th>previous_points</th>\n",
              "      <th>rank_change</th>\n",
              "      <th>confederation</th>\n",
              "      <th>rank_date</th>\n",
              "    </tr>\n",
              "  </thead>\n",
              "  <tbody>\n",
              "    <tr>\n",
              "      <th>0</th>\n",
              "      <td>1</td>\n",
              "      <td>Germany</td>\n",
              "      <td>0.0</td>\n",
              "      <td>57</td>\n",
              "      <td>0</td>\n",
              "      <td>UEFA</td>\n",
              "      <td>1993-08</td>\n",
              "    </tr>\n",
              "    <tr>\n",
              "      <th>1</th>\n",
              "      <td>2</td>\n",
              "      <td>Italy</td>\n",
              "      <td>0.0</td>\n",
              "      <td>57</td>\n",
              "      <td>0</td>\n",
              "      <td>UEFA</td>\n",
              "      <td>1993-08</td>\n",
              "    </tr>\n",
              "    <tr>\n",
              "      <th>2</th>\n",
              "      <td>3</td>\n",
              "      <td>Switzerland</td>\n",
              "      <td>0.0</td>\n",
              "      <td>50</td>\n",
              "      <td>9</td>\n",
              "      <td>UEFA</td>\n",
              "      <td>1993-08</td>\n",
              "    </tr>\n",
              "    <tr>\n",
              "      <th>3</th>\n",
              "      <td>4</td>\n",
              "      <td>Sweden</td>\n",
              "      <td>0.0</td>\n",
              "      <td>55</td>\n",
              "      <td>0</td>\n",
              "      <td>UEFA</td>\n",
              "      <td>1993-08</td>\n",
              "    </tr>\n",
              "    <tr>\n",
              "      <th>4</th>\n",
              "      <td>5</td>\n",
              "      <td>Argentina</td>\n",
              "      <td>0.0</td>\n",
              "      <td>51</td>\n",
              "      <td>5</td>\n",
              "      <td>CONMEBOL</td>\n",
              "      <td>1993-08</td>\n",
              "    </tr>\n",
              "  </tbody>\n",
              "</table>\n",
              "</div>"
            ],
            "text/plain": [
              "   rank country_full  total_points  ...  rank_change  confederation rank_date\n",
              "0     1      Germany           0.0  ...            0           UEFA   1993-08\n",
              "1     2        Italy           0.0  ...            0           UEFA   1993-08\n",
              "2     3  Switzerland           0.0  ...            9           UEFA   1993-08\n",
              "3     4       Sweden           0.0  ...            0           UEFA   1993-08\n",
              "4     5    Argentina           0.0  ...            5       CONMEBOL   1993-08\n",
              "\n",
              "[5 rows x 7 columns]"
            ]
          },
          "metadata": {
            "tags": []
          },
          "execution_count": 27
        }
      ]
    },
    {
      "cell_type": "code",
      "metadata": {
        "colab": {
          "base_uri": "https://localhost:8080/",
          "height": 204
        },
        "id": "QfwA8F8S8NE1",
        "outputId": "fca333a2-1c35-438b-e3b7-a2ba3f60e0e6"
      },
      "source": [
        "# remove day from date to remain with  year and month data\n",
        "\n",
        "results['date'] = results['date'].dt.strftime('%Y-%m')\n",
        "results.head()"
      ],
      "execution_count": 28,
      "outputs": [
        {
          "output_type": "execute_result",
          "data": {
            "text/html": [
              "<div>\n",
              "<style scoped>\n",
              "    .dataframe tbody tr th:only-of-type {\n",
              "        vertical-align: middle;\n",
              "    }\n",
              "\n",
              "    .dataframe tbody tr th {\n",
              "        vertical-align: top;\n",
              "    }\n",
              "\n",
              "    .dataframe thead th {\n",
              "        text-align: right;\n",
              "    }\n",
              "</style>\n",
              "<table border=\"1\" class=\"dataframe\">\n",
              "  <thead>\n",
              "    <tr style=\"text-align: right;\">\n",
              "      <th></th>\n",
              "      <th>date</th>\n",
              "      <th>home_team</th>\n",
              "      <th>away_team</th>\n",
              "      <th>home_score</th>\n",
              "      <th>away_score</th>\n",
              "      <th>tournament</th>\n",
              "      <th>country</th>\n",
              "    </tr>\n",
              "  </thead>\n",
              "  <tbody>\n",
              "    <tr>\n",
              "      <th>0</th>\n",
              "      <td>1872-11</td>\n",
              "      <td>Scotland</td>\n",
              "      <td>England</td>\n",
              "      <td>0</td>\n",
              "      <td>0</td>\n",
              "      <td>Friendly</td>\n",
              "      <td>Scotland</td>\n",
              "    </tr>\n",
              "    <tr>\n",
              "      <th>1</th>\n",
              "      <td>1873-03</td>\n",
              "      <td>England</td>\n",
              "      <td>Scotland</td>\n",
              "      <td>4</td>\n",
              "      <td>2</td>\n",
              "      <td>Friendly</td>\n",
              "      <td>England</td>\n",
              "    </tr>\n",
              "    <tr>\n",
              "      <th>2</th>\n",
              "      <td>1874-03</td>\n",
              "      <td>Scotland</td>\n",
              "      <td>England</td>\n",
              "      <td>2</td>\n",
              "      <td>1</td>\n",
              "      <td>Friendly</td>\n",
              "      <td>Scotland</td>\n",
              "    </tr>\n",
              "    <tr>\n",
              "      <th>3</th>\n",
              "      <td>1875-03</td>\n",
              "      <td>England</td>\n",
              "      <td>Scotland</td>\n",
              "      <td>2</td>\n",
              "      <td>2</td>\n",
              "      <td>Friendly</td>\n",
              "      <td>England</td>\n",
              "    </tr>\n",
              "    <tr>\n",
              "      <th>4</th>\n",
              "      <td>1876-03</td>\n",
              "      <td>Scotland</td>\n",
              "      <td>England</td>\n",
              "      <td>3</td>\n",
              "      <td>0</td>\n",
              "      <td>Friendly</td>\n",
              "      <td>Scotland</td>\n",
              "    </tr>\n",
              "  </tbody>\n",
              "</table>\n",
              "</div>"
            ],
            "text/plain": [
              "      date home_team away_team  home_score  away_score tournament   country\n",
              "0  1872-11  Scotland   England           0           0   Friendly  Scotland\n",
              "1  1873-03   England  Scotland           4           2   Friendly   England\n",
              "2  1874-03  Scotland   England           2           1   Friendly  Scotland\n",
              "3  1875-03   England  Scotland           2           2   Friendly   England\n",
              "4  1876-03  Scotland   England           3           0   Friendly  Scotland"
            ]
          },
          "metadata": {
            "tags": []
          },
          "execution_count": 28
        }
      ]
    },
    {
      "cell_type": "code",
      "metadata": {
        "id": "MvEOMGymE4r7"
      },
      "source": [
        "# convert values in the 'tournament' column to two categories (Friendly and Other)\n",
        "\n",
        "# define a function \n",
        "def tournament_type (y):\n",
        "    if y == 'Friendly':\n",
        "        return 'Friendly'\n",
        "    return 'Other'\n",
        "    \n",
        "# apply the function to the 'tournament' column\n",
        "results['tournament'] = results['tournament'].apply(lambda y: tournament_type(y))"
      ],
      "execution_count": 29,
      "outputs": []
    },
    {
      "cell_type": "code",
      "metadata": {
        "colab": {
          "base_uri": "https://localhost:8080/"
        },
        "id": "WiHoBSyhFSzw",
        "outputId": "16c1105d-1b82-4442-91bd-b7998f0c0353"
      },
      "source": [
        "results['tournament'].unique()"
      ],
      "execution_count": 30,
      "outputs": [
        {
          "output_type": "execute_result",
          "data": {
            "text/plain": [
              "array(['Friendly', 'Other'], dtype=object)"
            ]
          },
          "metadata": {
            "tags": []
          },
          "execution_count": 30
        }
      ]
    },
    {
      "cell_type": "code",
      "metadata": {
        "colab": {
          "base_uri": "https://localhost:8080/"
        },
        "id": "GHrWPIw35gy1",
        "outputId": "2eedc7d7-be68-4849-c4a6-8bb7daa449d0"
      },
      "source": [
        "results.dtypes"
      ],
      "execution_count": 31,
      "outputs": [
        {
          "output_type": "execute_result",
          "data": {
            "text/plain": [
              "date          object\n",
              "home_team     object\n",
              "away_team     object\n",
              "home_score     int64\n",
              "away_score     int64\n",
              "tournament    object\n",
              "country       object\n",
              "dtype: object"
            ]
          },
          "metadata": {
            "tags": []
          },
          "execution_count": 31
        }
      ]
    },
    {
      "cell_type": "code",
      "metadata": {
        "colab": {
          "base_uri": "https://localhost:8080/"
        },
        "id": "UVu-Bih9y5J4",
        "outputId": "8aedb0d3-b0d0-4738-eba9-b35f93e9d974"
      },
      "source": [
        "ranking.dtypes"
      ],
      "execution_count": 32,
      "outputs": [
        {
          "output_type": "execute_result",
          "data": {
            "text/plain": [
              "rank                 int64\n",
              "country_full        object\n",
              "total_points       float64\n",
              "previous_points      int64\n",
              "rank_change          int64\n",
              "confederation       object\n",
              "rank_date           object\n",
              "dtype: object"
            ]
          },
          "metadata": {
            "tags": []
          },
          "execution_count": 32
        }
      ]
    },
    {
      "cell_type": "code",
      "metadata": {
        "colab": {
          "base_uri": "https://localhost:8080/",
          "height": 309
        },
        "id": "u1htu3o_eKAR",
        "outputId": "e6ee2f9e-49ab-446c-8f2e-427be8585849"
      },
      "source": [
        "# merging the datasets\n",
        "# we'll merge the ranking and results datasets using an inner join to create a home merge dataframe\n",
        "\n",
        "home_merge = pd.merge(results, ranking, how = 'inner', right_on =['rank_date', 'country_full'], left_on = ['date', 'home_team'])\n",
        "\n",
        "# preview the top 5 entries of the merged dataset\n",
        "home_merge.head()"
      ],
      "execution_count": 33,
      "outputs": [
        {
          "output_type": "execute_result",
          "data": {
            "text/html": [
              "<div>\n",
              "<style scoped>\n",
              "    .dataframe tbody tr th:only-of-type {\n",
              "        vertical-align: middle;\n",
              "    }\n",
              "\n",
              "    .dataframe tbody tr th {\n",
              "        vertical-align: top;\n",
              "    }\n",
              "\n",
              "    .dataframe thead th {\n",
              "        text-align: right;\n",
              "    }\n",
              "</style>\n",
              "<table border=\"1\" class=\"dataframe\">\n",
              "  <thead>\n",
              "    <tr style=\"text-align: right;\">\n",
              "      <th></th>\n",
              "      <th>date</th>\n",
              "      <th>home_team</th>\n",
              "      <th>away_team</th>\n",
              "      <th>home_score</th>\n",
              "      <th>away_score</th>\n",
              "      <th>tournament</th>\n",
              "      <th>country</th>\n",
              "      <th>rank</th>\n",
              "      <th>country_full</th>\n",
              "      <th>total_points</th>\n",
              "      <th>previous_points</th>\n",
              "      <th>rank_change</th>\n",
              "      <th>confederation</th>\n",
              "      <th>rank_date</th>\n",
              "    </tr>\n",
              "  </thead>\n",
              "  <tbody>\n",
              "    <tr>\n",
              "      <th>0</th>\n",
              "      <td>1993-08</td>\n",
              "      <td>Colombia</td>\n",
              "      <td>Paraguay</td>\n",
              "      <td>0</td>\n",
              "      <td>0</td>\n",
              "      <td>Other</td>\n",
              "      <td>Colombia</td>\n",
              "      <td>19</td>\n",
              "      <td>Colombia</td>\n",
              "      <td>0.0</td>\n",
              "      <td>36</td>\n",
              "      <td>16</td>\n",
              "      <td>CONMEBOL</td>\n",
              "      <td>1993-08</td>\n",
              "    </tr>\n",
              "    <tr>\n",
              "      <th>1</th>\n",
              "      <td>1993-08</td>\n",
              "      <td>Colombia</td>\n",
              "      <td>Argentina</td>\n",
              "      <td>2</td>\n",
              "      <td>1</td>\n",
              "      <td>Other</td>\n",
              "      <td>Colombia</td>\n",
              "      <td>19</td>\n",
              "      <td>Colombia</td>\n",
              "      <td>0.0</td>\n",
              "      <td>36</td>\n",
              "      <td>16</td>\n",
              "      <td>CONMEBOL</td>\n",
              "      <td>1993-08</td>\n",
              "    </tr>\n",
              "    <tr>\n",
              "      <th>2</th>\n",
              "      <td>1993-08</td>\n",
              "      <td>Colombia</td>\n",
              "      <td>Peru</td>\n",
              "      <td>4</td>\n",
              "      <td>0</td>\n",
              "      <td>Other</td>\n",
              "      <td>Colombia</td>\n",
              "      <td>19</td>\n",
              "      <td>Colombia</td>\n",
              "      <td>0.0</td>\n",
              "      <td>36</td>\n",
              "      <td>16</td>\n",
              "      <td>CONMEBOL</td>\n",
              "      <td>1993-08</td>\n",
              "    </tr>\n",
              "    <tr>\n",
              "      <th>3</th>\n",
              "      <td>1993-08</td>\n",
              "      <td>Peru</td>\n",
              "      <td>Argentina</td>\n",
              "      <td>0</td>\n",
              "      <td>1</td>\n",
              "      <td>Other</td>\n",
              "      <td>Peru</td>\n",
              "      <td>70</td>\n",
              "      <td>Peru</td>\n",
              "      <td>0.0</td>\n",
              "      <td>16</td>\n",
              "      <td>8</td>\n",
              "      <td>CONMEBOL</td>\n",
              "      <td>1993-08</td>\n",
              "    </tr>\n",
              "    <tr>\n",
              "      <th>4</th>\n",
              "      <td>1993-08</td>\n",
              "      <td>Peru</td>\n",
              "      <td>Colombia</td>\n",
              "      <td>0</td>\n",
              "      <td>1</td>\n",
              "      <td>Other</td>\n",
              "      <td>Peru</td>\n",
              "      <td>70</td>\n",
              "      <td>Peru</td>\n",
              "      <td>0.0</td>\n",
              "      <td>16</td>\n",
              "      <td>8</td>\n",
              "      <td>CONMEBOL</td>\n",
              "      <td>1993-08</td>\n",
              "    </tr>\n",
              "  </tbody>\n",
              "</table>\n",
              "</div>"
            ],
            "text/plain": [
              "      date home_team  away_team  ...  rank_change  confederation rank_date\n",
              "0  1993-08  Colombia   Paraguay  ...           16       CONMEBOL   1993-08\n",
              "1  1993-08  Colombia  Argentina  ...           16       CONMEBOL   1993-08\n",
              "2  1993-08  Colombia       Peru  ...           16       CONMEBOL   1993-08\n",
              "3  1993-08      Peru  Argentina  ...            8       CONMEBOL   1993-08\n",
              "4  1993-08      Peru   Colombia  ...            8       CONMEBOL   1993-08\n",
              "\n",
              "[5 rows x 14 columns]"
            ]
          },
          "metadata": {
            "tags": []
          },
          "execution_count": 33
        }
      ]
    },
    {
      "cell_type": "code",
      "metadata": {
        "colab": {
          "base_uri": "https://localhost:8080/"
        },
        "id": "ulQ7HTX1u9Uz",
        "outputId": "5a8b753f-72db-4e99-ad0e-ee7b0584e756"
      },
      "source": [
        "home_merge.shape"
      ],
      "execution_count": 34,
      "outputs": [
        {
          "output_type": "execute_result",
          "data": {
            "text/plain": [
              "(18593, 14)"
            ]
          },
          "metadata": {
            "tags": []
          },
          "execution_count": 34
        }
      ]
    },
    {
      "cell_type": "code",
      "metadata": {
        "colab": {
          "base_uri": "https://localhost:8080/",
          "height": 309
        },
        "id": "aqjxqpIuhWSG",
        "outputId": "5b953395-d4cc-435d-89ee-4ec249f94755"
      },
      "source": [
        "# renaming the rank and country full columns to home rank and home country respectively\n",
        "# \n",
        "\n",
        "home_merge.rename({'rank':'home_rank','country_full':'home_country'}, axis= 1, inplace = True)\n",
        "home_merge.head()"
      ],
      "execution_count": 35,
      "outputs": [
        {
          "output_type": "execute_result",
          "data": {
            "text/html": [
              "<div>\n",
              "<style scoped>\n",
              "    .dataframe tbody tr th:only-of-type {\n",
              "        vertical-align: middle;\n",
              "    }\n",
              "\n",
              "    .dataframe tbody tr th {\n",
              "        vertical-align: top;\n",
              "    }\n",
              "\n",
              "    .dataframe thead th {\n",
              "        text-align: right;\n",
              "    }\n",
              "</style>\n",
              "<table border=\"1\" class=\"dataframe\">\n",
              "  <thead>\n",
              "    <tr style=\"text-align: right;\">\n",
              "      <th></th>\n",
              "      <th>date</th>\n",
              "      <th>home_team</th>\n",
              "      <th>away_team</th>\n",
              "      <th>home_score</th>\n",
              "      <th>away_score</th>\n",
              "      <th>tournament</th>\n",
              "      <th>country</th>\n",
              "      <th>home_rank</th>\n",
              "      <th>home_country</th>\n",
              "      <th>total_points</th>\n",
              "      <th>previous_points</th>\n",
              "      <th>rank_change</th>\n",
              "      <th>confederation</th>\n",
              "      <th>rank_date</th>\n",
              "    </tr>\n",
              "  </thead>\n",
              "  <tbody>\n",
              "    <tr>\n",
              "      <th>0</th>\n",
              "      <td>1993-08</td>\n",
              "      <td>Colombia</td>\n",
              "      <td>Paraguay</td>\n",
              "      <td>0</td>\n",
              "      <td>0</td>\n",
              "      <td>Other</td>\n",
              "      <td>Colombia</td>\n",
              "      <td>19</td>\n",
              "      <td>Colombia</td>\n",
              "      <td>0.0</td>\n",
              "      <td>36</td>\n",
              "      <td>16</td>\n",
              "      <td>CONMEBOL</td>\n",
              "      <td>1993-08</td>\n",
              "    </tr>\n",
              "    <tr>\n",
              "      <th>1</th>\n",
              "      <td>1993-08</td>\n",
              "      <td>Colombia</td>\n",
              "      <td>Argentina</td>\n",
              "      <td>2</td>\n",
              "      <td>1</td>\n",
              "      <td>Other</td>\n",
              "      <td>Colombia</td>\n",
              "      <td>19</td>\n",
              "      <td>Colombia</td>\n",
              "      <td>0.0</td>\n",
              "      <td>36</td>\n",
              "      <td>16</td>\n",
              "      <td>CONMEBOL</td>\n",
              "      <td>1993-08</td>\n",
              "    </tr>\n",
              "    <tr>\n",
              "      <th>2</th>\n",
              "      <td>1993-08</td>\n",
              "      <td>Colombia</td>\n",
              "      <td>Peru</td>\n",
              "      <td>4</td>\n",
              "      <td>0</td>\n",
              "      <td>Other</td>\n",
              "      <td>Colombia</td>\n",
              "      <td>19</td>\n",
              "      <td>Colombia</td>\n",
              "      <td>0.0</td>\n",
              "      <td>36</td>\n",
              "      <td>16</td>\n",
              "      <td>CONMEBOL</td>\n",
              "      <td>1993-08</td>\n",
              "    </tr>\n",
              "    <tr>\n",
              "      <th>3</th>\n",
              "      <td>1993-08</td>\n",
              "      <td>Peru</td>\n",
              "      <td>Argentina</td>\n",
              "      <td>0</td>\n",
              "      <td>1</td>\n",
              "      <td>Other</td>\n",
              "      <td>Peru</td>\n",
              "      <td>70</td>\n",
              "      <td>Peru</td>\n",
              "      <td>0.0</td>\n",
              "      <td>16</td>\n",
              "      <td>8</td>\n",
              "      <td>CONMEBOL</td>\n",
              "      <td>1993-08</td>\n",
              "    </tr>\n",
              "    <tr>\n",
              "      <th>4</th>\n",
              "      <td>1993-08</td>\n",
              "      <td>Peru</td>\n",
              "      <td>Colombia</td>\n",
              "      <td>0</td>\n",
              "      <td>1</td>\n",
              "      <td>Other</td>\n",
              "      <td>Peru</td>\n",
              "      <td>70</td>\n",
              "      <td>Peru</td>\n",
              "      <td>0.0</td>\n",
              "      <td>16</td>\n",
              "      <td>8</td>\n",
              "      <td>CONMEBOL</td>\n",
              "      <td>1993-08</td>\n",
              "    </tr>\n",
              "  </tbody>\n",
              "</table>\n",
              "</div>"
            ],
            "text/plain": [
              "      date home_team  away_team  ...  rank_change  confederation rank_date\n",
              "0  1993-08  Colombia   Paraguay  ...           16       CONMEBOL   1993-08\n",
              "1  1993-08  Colombia  Argentina  ...           16       CONMEBOL   1993-08\n",
              "2  1993-08  Colombia       Peru  ...           16       CONMEBOL   1993-08\n",
              "3  1993-08      Peru  Argentina  ...            8       CONMEBOL   1993-08\n",
              "4  1993-08      Peru   Colombia  ...            8       CONMEBOL   1993-08\n",
              "\n",
              "[5 rows x 14 columns]"
            ]
          },
          "metadata": {
            "tags": []
          },
          "execution_count": 35
        }
      ]
    },
    {
      "cell_type": "code",
      "metadata": {
        "colab": {
          "base_uri": "https://localhost:8080/",
          "height": 204
        },
        "id": "3coxJU1aqViv",
        "outputId": "f8e7a39f-b987-4bcc-9bb3-8c86402b4219"
      },
      "source": [
        "# Dropping unnecessary columns\n",
        "#  \n",
        "\n",
        "home_merge.drop(['total_points', 'previous_points',\t'rank_change', 'confederation',\t'rank_date'], axis=1, inplace=True)\n",
        "home_merge.head()"
      ],
      "execution_count": 36,
      "outputs": [
        {
          "output_type": "execute_result",
          "data": {
            "text/html": [
              "<div>\n",
              "<style scoped>\n",
              "    .dataframe tbody tr th:only-of-type {\n",
              "        vertical-align: middle;\n",
              "    }\n",
              "\n",
              "    .dataframe tbody tr th {\n",
              "        vertical-align: top;\n",
              "    }\n",
              "\n",
              "    .dataframe thead th {\n",
              "        text-align: right;\n",
              "    }\n",
              "</style>\n",
              "<table border=\"1\" class=\"dataframe\">\n",
              "  <thead>\n",
              "    <tr style=\"text-align: right;\">\n",
              "      <th></th>\n",
              "      <th>date</th>\n",
              "      <th>home_team</th>\n",
              "      <th>away_team</th>\n",
              "      <th>home_score</th>\n",
              "      <th>away_score</th>\n",
              "      <th>tournament</th>\n",
              "      <th>country</th>\n",
              "      <th>home_rank</th>\n",
              "      <th>home_country</th>\n",
              "    </tr>\n",
              "  </thead>\n",
              "  <tbody>\n",
              "    <tr>\n",
              "      <th>0</th>\n",
              "      <td>1993-08</td>\n",
              "      <td>Colombia</td>\n",
              "      <td>Paraguay</td>\n",
              "      <td>0</td>\n",
              "      <td>0</td>\n",
              "      <td>Other</td>\n",
              "      <td>Colombia</td>\n",
              "      <td>19</td>\n",
              "      <td>Colombia</td>\n",
              "    </tr>\n",
              "    <tr>\n",
              "      <th>1</th>\n",
              "      <td>1993-08</td>\n",
              "      <td>Colombia</td>\n",
              "      <td>Argentina</td>\n",
              "      <td>2</td>\n",
              "      <td>1</td>\n",
              "      <td>Other</td>\n",
              "      <td>Colombia</td>\n",
              "      <td>19</td>\n",
              "      <td>Colombia</td>\n",
              "    </tr>\n",
              "    <tr>\n",
              "      <th>2</th>\n",
              "      <td>1993-08</td>\n",
              "      <td>Colombia</td>\n",
              "      <td>Peru</td>\n",
              "      <td>4</td>\n",
              "      <td>0</td>\n",
              "      <td>Other</td>\n",
              "      <td>Colombia</td>\n",
              "      <td>19</td>\n",
              "      <td>Colombia</td>\n",
              "    </tr>\n",
              "    <tr>\n",
              "      <th>3</th>\n",
              "      <td>1993-08</td>\n",
              "      <td>Peru</td>\n",
              "      <td>Argentina</td>\n",
              "      <td>0</td>\n",
              "      <td>1</td>\n",
              "      <td>Other</td>\n",
              "      <td>Peru</td>\n",
              "      <td>70</td>\n",
              "      <td>Peru</td>\n",
              "    </tr>\n",
              "    <tr>\n",
              "      <th>4</th>\n",
              "      <td>1993-08</td>\n",
              "      <td>Peru</td>\n",
              "      <td>Colombia</td>\n",
              "      <td>0</td>\n",
              "      <td>1</td>\n",
              "      <td>Other</td>\n",
              "      <td>Peru</td>\n",
              "      <td>70</td>\n",
              "      <td>Peru</td>\n",
              "    </tr>\n",
              "  </tbody>\n",
              "</table>\n",
              "</div>"
            ],
            "text/plain": [
              "      date home_team  away_team  ...   country  home_rank home_country\n",
              "0  1993-08  Colombia   Paraguay  ...  Colombia         19     Colombia\n",
              "1  1993-08  Colombia  Argentina  ...  Colombia         19     Colombia\n",
              "2  1993-08  Colombia       Peru  ...  Colombia         19     Colombia\n",
              "3  1993-08      Peru  Argentina  ...      Peru         70         Peru\n",
              "4  1993-08      Peru   Colombia  ...      Peru         70         Peru\n",
              "\n",
              "[5 rows x 9 columns]"
            ]
          },
          "metadata": {
            "tags": []
          },
          "execution_count": 36
        }
      ]
    },
    {
      "cell_type": "code",
      "metadata": {
        "colab": {
          "base_uri": "https://localhost:8080/",
          "height": 309
        },
        "id": "ePTNe9SNdhTe",
        "outputId": "2ca0c9de-786f-4149-a285-c65ffd1468bc"
      },
      "source": [
        "# merging the datasets\n",
        "# we'll merge the ranking and results datasets using an inner join to create away_merge dataframe\n",
        "\n",
        "away_merge = pd.merge(results, ranking, how = 'inner', left_on = ['date', 'away_team'], right_on =['rank_date', 'country_full'])\n",
        "\n",
        "# preview the top 5 entries of the merged dataset\n",
        "away_merge.head()"
      ],
      "execution_count": 37,
      "outputs": [
        {
          "output_type": "execute_result",
          "data": {
            "text/html": [
              "<div>\n",
              "<style scoped>\n",
              "    .dataframe tbody tr th:only-of-type {\n",
              "        vertical-align: middle;\n",
              "    }\n",
              "\n",
              "    .dataframe tbody tr th {\n",
              "        vertical-align: top;\n",
              "    }\n",
              "\n",
              "    .dataframe thead th {\n",
              "        text-align: right;\n",
              "    }\n",
              "</style>\n",
              "<table border=\"1\" class=\"dataframe\">\n",
              "  <thead>\n",
              "    <tr style=\"text-align: right;\">\n",
              "      <th></th>\n",
              "      <th>date</th>\n",
              "      <th>home_team</th>\n",
              "      <th>away_team</th>\n",
              "      <th>home_score</th>\n",
              "      <th>away_score</th>\n",
              "      <th>tournament</th>\n",
              "      <th>country</th>\n",
              "      <th>rank</th>\n",
              "      <th>country_full</th>\n",
              "      <th>total_points</th>\n",
              "      <th>previous_points</th>\n",
              "      <th>rank_change</th>\n",
              "      <th>confederation</th>\n",
              "      <th>rank_date</th>\n",
              "    </tr>\n",
              "  </thead>\n",
              "  <tbody>\n",
              "    <tr>\n",
              "      <th>0</th>\n",
              "      <td>1993-08</td>\n",
              "      <td>Colombia</td>\n",
              "      <td>Paraguay</td>\n",
              "      <td>0</td>\n",
              "      <td>0</td>\n",
              "      <td>Other</td>\n",
              "      <td>Colombia</td>\n",
              "      <td>67</td>\n",
              "      <td>Paraguay</td>\n",
              "      <td>0.0</td>\n",
              "      <td>22</td>\n",
              "      <td>1</td>\n",
              "      <td>CONMEBOL</td>\n",
              "      <td>1993-08</td>\n",
              "    </tr>\n",
              "    <tr>\n",
              "      <th>1</th>\n",
              "      <td>1993-08</td>\n",
              "      <td>Argentina</td>\n",
              "      <td>Paraguay</td>\n",
              "      <td>0</td>\n",
              "      <td>0</td>\n",
              "      <td>Other</td>\n",
              "      <td>Argentina</td>\n",
              "      <td>67</td>\n",
              "      <td>Paraguay</td>\n",
              "      <td>0.0</td>\n",
              "      <td>22</td>\n",
              "      <td>1</td>\n",
              "      <td>CONMEBOL</td>\n",
              "      <td>1993-08</td>\n",
              "    </tr>\n",
              "    <tr>\n",
              "      <th>2</th>\n",
              "      <td>1993-08</td>\n",
              "      <td>Peru</td>\n",
              "      <td>Argentina</td>\n",
              "      <td>0</td>\n",
              "      <td>1</td>\n",
              "      <td>Other</td>\n",
              "      <td>Peru</td>\n",
              "      <td>5</td>\n",
              "      <td>Argentina</td>\n",
              "      <td>0.0</td>\n",
              "      <td>51</td>\n",
              "      <td>5</td>\n",
              "      <td>CONMEBOL</td>\n",
              "      <td>1993-08</td>\n",
              "    </tr>\n",
              "    <tr>\n",
              "      <th>3</th>\n",
              "      <td>1993-08</td>\n",
              "      <td>Paraguay</td>\n",
              "      <td>Argentina</td>\n",
              "      <td>1</td>\n",
              "      <td>3</td>\n",
              "      <td>Other</td>\n",
              "      <td>Paraguay</td>\n",
              "      <td>5</td>\n",
              "      <td>Argentina</td>\n",
              "      <td>0.0</td>\n",
              "      <td>51</td>\n",
              "      <td>5</td>\n",
              "      <td>CONMEBOL</td>\n",
              "      <td>1993-08</td>\n",
              "    </tr>\n",
              "    <tr>\n",
              "      <th>4</th>\n",
              "      <td>1993-08</td>\n",
              "      <td>Colombia</td>\n",
              "      <td>Argentina</td>\n",
              "      <td>2</td>\n",
              "      <td>1</td>\n",
              "      <td>Other</td>\n",
              "      <td>Colombia</td>\n",
              "      <td>5</td>\n",
              "      <td>Argentina</td>\n",
              "      <td>0.0</td>\n",
              "      <td>51</td>\n",
              "      <td>5</td>\n",
              "      <td>CONMEBOL</td>\n",
              "      <td>1993-08</td>\n",
              "    </tr>\n",
              "  </tbody>\n",
              "</table>\n",
              "</div>"
            ],
            "text/plain": [
              "      date  home_team  away_team  ...  rank_change  confederation rank_date\n",
              "0  1993-08   Colombia   Paraguay  ...            1       CONMEBOL   1993-08\n",
              "1  1993-08  Argentina   Paraguay  ...            1       CONMEBOL   1993-08\n",
              "2  1993-08       Peru  Argentina  ...            5       CONMEBOL   1993-08\n",
              "3  1993-08   Paraguay  Argentina  ...            5       CONMEBOL   1993-08\n",
              "4  1993-08   Colombia  Argentina  ...            5       CONMEBOL   1993-08\n",
              "\n",
              "[5 rows x 14 columns]"
            ]
          },
          "metadata": {
            "tags": []
          },
          "execution_count": 37
        }
      ]
    },
    {
      "cell_type": "code",
      "metadata": {
        "colab": {
          "base_uri": "https://localhost:8080/",
          "height": 309
        },
        "id": "UNzU9Pkxns56",
        "outputId": "f687dc7c-aafb-4328-fdf1-dff8eb54dbd4"
      },
      "source": [
        "# renaming the rank and country full columns to away rank and away country respectively.\n",
        "# \n",
        "\n",
        "away_merge.rename({'rank':'away_rank','country_full':'away_country'}, axis= 1, inplace = True)\n",
        "away_merge.head()"
      ],
      "execution_count": 38,
      "outputs": [
        {
          "output_type": "execute_result",
          "data": {
            "text/html": [
              "<div>\n",
              "<style scoped>\n",
              "    .dataframe tbody tr th:only-of-type {\n",
              "        vertical-align: middle;\n",
              "    }\n",
              "\n",
              "    .dataframe tbody tr th {\n",
              "        vertical-align: top;\n",
              "    }\n",
              "\n",
              "    .dataframe thead th {\n",
              "        text-align: right;\n",
              "    }\n",
              "</style>\n",
              "<table border=\"1\" class=\"dataframe\">\n",
              "  <thead>\n",
              "    <tr style=\"text-align: right;\">\n",
              "      <th></th>\n",
              "      <th>date</th>\n",
              "      <th>home_team</th>\n",
              "      <th>away_team</th>\n",
              "      <th>home_score</th>\n",
              "      <th>away_score</th>\n",
              "      <th>tournament</th>\n",
              "      <th>country</th>\n",
              "      <th>away_rank</th>\n",
              "      <th>away_country</th>\n",
              "      <th>total_points</th>\n",
              "      <th>previous_points</th>\n",
              "      <th>rank_change</th>\n",
              "      <th>confederation</th>\n",
              "      <th>rank_date</th>\n",
              "    </tr>\n",
              "  </thead>\n",
              "  <tbody>\n",
              "    <tr>\n",
              "      <th>0</th>\n",
              "      <td>1993-08</td>\n",
              "      <td>Colombia</td>\n",
              "      <td>Paraguay</td>\n",
              "      <td>0</td>\n",
              "      <td>0</td>\n",
              "      <td>Other</td>\n",
              "      <td>Colombia</td>\n",
              "      <td>67</td>\n",
              "      <td>Paraguay</td>\n",
              "      <td>0.0</td>\n",
              "      <td>22</td>\n",
              "      <td>1</td>\n",
              "      <td>CONMEBOL</td>\n",
              "      <td>1993-08</td>\n",
              "    </tr>\n",
              "    <tr>\n",
              "      <th>1</th>\n",
              "      <td>1993-08</td>\n",
              "      <td>Argentina</td>\n",
              "      <td>Paraguay</td>\n",
              "      <td>0</td>\n",
              "      <td>0</td>\n",
              "      <td>Other</td>\n",
              "      <td>Argentina</td>\n",
              "      <td>67</td>\n",
              "      <td>Paraguay</td>\n",
              "      <td>0.0</td>\n",
              "      <td>22</td>\n",
              "      <td>1</td>\n",
              "      <td>CONMEBOL</td>\n",
              "      <td>1993-08</td>\n",
              "    </tr>\n",
              "    <tr>\n",
              "      <th>2</th>\n",
              "      <td>1993-08</td>\n",
              "      <td>Peru</td>\n",
              "      <td>Argentina</td>\n",
              "      <td>0</td>\n",
              "      <td>1</td>\n",
              "      <td>Other</td>\n",
              "      <td>Peru</td>\n",
              "      <td>5</td>\n",
              "      <td>Argentina</td>\n",
              "      <td>0.0</td>\n",
              "      <td>51</td>\n",
              "      <td>5</td>\n",
              "      <td>CONMEBOL</td>\n",
              "      <td>1993-08</td>\n",
              "    </tr>\n",
              "    <tr>\n",
              "      <th>3</th>\n",
              "      <td>1993-08</td>\n",
              "      <td>Paraguay</td>\n",
              "      <td>Argentina</td>\n",
              "      <td>1</td>\n",
              "      <td>3</td>\n",
              "      <td>Other</td>\n",
              "      <td>Paraguay</td>\n",
              "      <td>5</td>\n",
              "      <td>Argentina</td>\n",
              "      <td>0.0</td>\n",
              "      <td>51</td>\n",
              "      <td>5</td>\n",
              "      <td>CONMEBOL</td>\n",
              "      <td>1993-08</td>\n",
              "    </tr>\n",
              "    <tr>\n",
              "      <th>4</th>\n",
              "      <td>1993-08</td>\n",
              "      <td>Colombia</td>\n",
              "      <td>Argentina</td>\n",
              "      <td>2</td>\n",
              "      <td>1</td>\n",
              "      <td>Other</td>\n",
              "      <td>Colombia</td>\n",
              "      <td>5</td>\n",
              "      <td>Argentina</td>\n",
              "      <td>0.0</td>\n",
              "      <td>51</td>\n",
              "      <td>5</td>\n",
              "      <td>CONMEBOL</td>\n",
              "      <td>1993-08</td>\n",
              "    </tr>\n",
              "  </tbody>\n",
              "</table>\n",
              "</div>"
            ],
            "text/plain": [
              "      date  home_team  away_team  ...  rank_change  confederation rank_date\n",
              "0  1993-08   Colombia   Paraguay  ...            1       CONMEBOL   1993-08\n",
              "1  1993-08  Argentina   Paraguay  ...            1       CONMEBOL   1993-08\n",
              "2  1993-08       Peru  Argentina  ...            5       CONMEBOL   1993-08\n",
              "3  1993-08   Paraguay  Argentina  ...            5       CONMEBOL   1993-08\n",
              "4  1993-08   Colombia  Argentina  ...            5       CONMEBOL   1993-08\n",
              "\n",
              "[5 rows x 14 columns]"
            ]
          },
          "metadata": {
            "tags": []
          },
          "execution_count": 38
        }
      ]
    },
    {
      "cell_type": "code",
      "metadata": {
        "colab": {
          "base_uri": "https://localhost:8080/",
          "height": 204
        },
        "id": "WGi-fpXvr_Mv",
        "outputId": "505d6c22-7eb4-4476-8632-7eac514062b6"
      },
      "source": [
        "# drop unnecessary columns\n",
        "# \n",
        "\n",
        "away_merge.drop(['total_points', 'previous_points',\t'rank_change', 'confederation',\t'rank_date'], axis=1, inplace=True)\n",
        "away_merge.head()"
      ],
      "execution_count": 39,
      "outputs": [
        {
          "output_type": "execute_result",
          "data": {
            "text/html": [
              "<div>\n",
              "<style scoped>\n",
              "    .dataframe tbody tr th:only-of-type {\n",
              "        vertical-align: middle;\n",
              "    }\n",
              "\n",
              "    .dataframe tbody tr th {\n",
              "        vertical-align: top;\n",
              "    }\n",
              "\n",
              "    .dataframe thead th {\n",
              "        text-align: right;\n",
              "    }\n",
              "</style>\n",
              "<table border=\"1\" class=\"dataframe\">\n",
              "  <thead>\n",
              "    <tr style=\"text-align: right;\">\n",
              "      <th></th>\n",
              "      <th>date</th>\n",
              "      <th>home_team</th>\n",
              "      <th>away_team</th>\n",
              "      <th>home_score</th>\n",
              "      <th>away_score</th>\n",
              "      <th>tournament</th>\n",
              "      <th>country</th>\n",
              "      <th>away_rank</th>\n",
              "      <th>away_country</th>\n",
              "    </tr>\n",
              "  </thead>\n",
              "  <tbody>\n",
              "    <tr>\n",
              "      <th>0</th>\n",
              "      <td>1993-08</td>\n",
              "      <td>Colombia</td>\n",
              "      <td>Paraguay</td>\n",
              "      <td>0</td>\n",
              "      <td>0</td>\n",
              "      <td>Other</td>\n",
              "      <td>Colombia</td>\n",
              "      <td>67</td>\n",
              "      <td>Paraguay</td>\n",
              "    </tr>\n",
              "    <tr>\n",
              "      <th>1</th>\n",
              "      <td>1993-08</td>\n",
              "      <td>Argentina</td>\n",
              "      <td>Paraguay</td>\n",
              "      <td>0</td>\n",
              "      <td>0</td>\n",
              "      <td>Other</td>\n",
              "      <td>Argentina</td>\n",
              "      <td>67</td>\n",
              "      <td>Paraguay</td>\n",
              "    </tr>\n",
              "    <tr>\n",
              "      <th>2</th>\n",
              "      <td>1993-08</td>\n",
              "      <td>Peru</td>\n",
              "      <td>Argentina</td>\n",
              "      <td>0</td>\n",
              "      <td>1</td>\n",
              "      <td>Other</td>\n",
              "      <td>Peru</td>\n",
              "      <td>5</td>\n",
              "      <td>Argentina</td>\n",
              "    </tr>\n",
              "    <tr>\n",
              "      <th>3</th>\n",
              "      <td>1993-08</td>\n",
              "      <td>Paraguay</td>\n",
              "      <td>Argentina</td>\n",
              "      <td>1</td>\n",
              "      <td>3</td>\n",
              "      <td>Other</td>\n",
              "      <td>Paraguay</td>\n",
              "      <td>5</td>\n",
              "      <td>Argentina</td>\n",
              "    </tr>\n",
              "    <tr>\n",
              "      <th>4</th>\n",
              "      <td>1993-08</td>\n",
              "      <td>Colombia</td>\n",
              "      <td>Argentina</td>\n",
              "      <td>2</td>\n",
              "      <td>1</td>\n",
              "      <td>Other</td>\n",
              "      <td>Colombia</td>\n",
              "      <td>5</td>\n",
              "      <td>Argentina</td>\n",
              "    </tr>\n",
              "  </tbody>\n",
              "</table>\n",
              "</div>"
            ],
            "text/plain": [
              "      date  home_team  away_team  ...    country  away_rank away_country\n",
              "0  1993-08   Colombia   Paraguay  ...   Colombia         67     Paraguay\n",
              "1  1993-08  Argentina   Paraguay  ...  Argentina         67     Paraguay\n",
              "2  1993-08       Peru  Argentina  ...       Peru          5    Argentina\n",
              "3  1993-08   Paraguay  Argentina  ...   Paraguay          5    Argentina\n",
              "4  1993-08   Colombia  Argentina  ...   Colombia          5    Argentina\n",
              "\n",
              "[5 rows x 9 columns]"
            ]
          },
          "metadata": {
            "tags": []
          },
          "execution_count": 39
        }
      ]
    },
    {
      "cell_type": "code",
      "metadata": {
        "colab": {
          "base_uri": "https://localhost:8080/"
        },
        "id": "acgkn_ydwCJf",
        "outputId": "d1f8cf18-da33-40e0-a694-1593240c644d"
      },
      "source": [
        "away_merge.shape"
      ],
      "execution_count": 40,
      "outputs": [
        {
          "output_type": "execute_result",
          "data": {
            "text/plain": [
              "(18502, 9)"
            ]
          },
          "metadata": {
            "tags": []
          },
          "execution_count": 40
        }
      ]
    },
    {
      "cell_type": "code",
      "metadata": {
        "colab": {
          "base_uri": "https://localhost:8080/"
        },
        "id": "IDAMnyFgsYEt",
        "outputId": "f3df820e-6d76-408f-e29b-3d108830c2fa"
      },
      "source": [
        "home_merge.columns"
      ],
      "execution_count": 41,
      "outputs": [
        {
          "output_type": "execute_result",
          "data": {
            "text/plain": [
              "Index(['date', 'home_team', 'away_team', 'home_score', 'away_score',\n",
              "       'tournament', 'country', 'home_rank', 'home_country'],\n",
              "      dtype='object')"
            ]
          },
          "metadata": {
            "tags": []
          },
          "execution_count": 41
        }
      ]
    },
    {
      "cell_type": "code",
      "metadata": {
        "colab": {
          "base_uri": "https://localhost:8080/",
          "height": 309
        },
        "id": "zlMJ-H3XoXIE",
        "outputId": "ba759c1f-db6d-4625-d3d9-fb644af61e05"
      },
      "source": [
        "# merging the home merge and away merge dataframes\n",
        "# \n",
        "\n",
        "merged = pd.merge(home_merge,away_merge, how='inner', left_on=['date','away_team','home_score','away_score','home_team','tournament','country'],right_on=['date','away_team','home_score','away_score','home_team','tournament', 'country'])\n",
        "merged.head()"
      ],
      "execution_count": 42,
      "outputs": [
        {
          "output_type": "execute_result",
          "data": {
            "text/html": [
              "<div>\n",
              "<style scoped>\n",
              "    .dataframe tbody tr th:only-of-type {\n",
              "        vertical-align: middle;\n",
              "    }\n",
              "\n",
              "    .dataframe tbody tr th {\n",
              "        vertical-align: top;\n",
              "    }\n",
              "\n",
              "    .dataframe thead th {\n",
              "        text-align: right;\n",
              "    }\n",
              "</style>\n",
              "<table border=\"1\" class=\"dataframe\">\n",
              "  <thead>\n",
              "    <tr style=\"text-align: right;\">\n",
              "      <th></th>\n",
              "      <th>date</th>\n",
              "      <th>home_team</th>\n",
              "      <th>away_team</th>\n",
              "      <th>home_score</th>\n",
              "      <th>away_score</th>\n",
              "      <th>tournament</th>\n",
              "      <th>country</th>\n",
              "      <th>home_rank</th>\n",
              "      <th>home_country</th>\n",
              "      <th>away_rank</th>\n",
              "      <th>away_country</th>\n",
              "    </tr>\n",
              "  </thead>\n",
              "  <tbody>\n",
              "    <tr>\n",
              "      <th>0</th>\n",
              "      <td>1993-08</td>\n",
              "      <td>Colombia</td>\n",
              "      <td>Paraguay</td>\n",
              "      <td>0</td>\n",
              "      <td>0</td>\n",
              "      <td>Other</td>\n",
              "      <td>Colombia</td>\n",
              "      <td>19</td>\n",
              "      <td>Colombia</td>\n",
              "      <td>67</td>\n",
              "      <td>Paraguay</td>\n",
              "    </tr>\n",
              "    <tr>\n",
              "      <th>1</th>\n",
              "      <td>1993-08</td>\n",
              "      <td>Colombia</td>\n",
              "      <td>Argentina</td>\n",
              "      <td>2</td>\n",
              "      <td>1</td>\n",
              "      <td>Other</td>\n",
              "      <td>Colombia</td>\n",
              "      <td>19</td>\n",
              "      <td>Colombia</td>\n",
              "      <td>5</td>\n",
              "      <td>Argentina</td>\n",
              "    </tr>\n",
              "    <tr>\n",
              "      <th>2</th>\n",
              "      <td>1993-08</td>\n",
              "      <td>Colombia</td>\n",
              "      <td>Peru</td>\n",
              "      <td>4</td>\n",
              "      <td>0</td>\n",
              "      <td>Other</td>\n",
              "      <td>Colombia</td>\n",
              "      <td>19</td>\n",
              "      <td>Colombia</td>\n",
              "      <td>70</td>\n",
              "      <td>Peru</td>\n",
              "    </tr>\n",
              "    <tr>\n",
              "      <th>3</th>\n",
              "      <td>1993-08</td>\n",
              "      <td>Peru</td>\n",
              "      <td>Argentina</td>\n",
              "      <td>0</td>\n",
              "      <td>1</td>\n",
              "      <td>Other</td>\n",
              "      <td>Peru</td>\n",
              "      <td>70</td>\n",
              "      <td>Peru</td>\n",
              "      <td>5</td>\n",
              "      <td>Argentina</td>\n",
              "    </tr>\n",
              "    <tr>\n",
              "      <th>4</th>\n",
              "      <td>1993-08</td>\n",
              "      <td>Peru</td>\n",
              "      <td>Colombia</td>\n",
              "      <td>0</td>\n",
              "      <td>1</td>\n",
              "      <td>Other</td>\n",
              "      <td>Peru</td>\n",
              "      <td>70</td>\n",
              "      <td>Peru</td>\n",
              "      <td>19</td>\n",
              "      <td>Colombia</td>\n",
              "    </tr>\n",
              "  </tbody>\n",
              "</table>\n",
              "</div>"
            ],
            "text/plain": [
              "      date home_team  away_team  ...  home_country  away_rank away_country\n",
              "0  1993-08  Colombia   Paraguay  ...      Colombia         67     Paraguay\n",
              "1  1993-08  Colombia  Argentina  ...      Colombia          5    Argentina\n",
              "2  1993-08  Colombia       Peru  ...      Colombia         70         Peru\n",
              "3  1993-08      Peru  Argentina  ...          Peru          5    Argentina\n",
              "4  1993-08      Peru   Colombia  ...          Peru         19     Colombia\n",
              "\n",
              "[5 rows x 11 columns]"
            ]
          },
          "metadata": {
            "tags": []
          },
          "execution_count": 42
        }
      ]
    },
    {
      "cell_type": "code",
      "metadata": {
        "colab": {
          "base_uri": "https://localhost:8080/"
        },
        "id": "5LCnXCaMs7yQ",
        "outputId": "fd71648c-879a-402b-b210-822935c51a5d"
      },
      "source": [
        "merged.shape"
      ],
      "execution_count": 43,
      "outputs": [
        {
          "output_type": "execute_result",
          "data": {
            "text/plain": [
              "(16992, 11)"
            ]
          },
          "metadata": {
            "tags": []
          },
          "execution_count": 43
        }
      ]
    },
    {
      "cell_type": "code",
      "metadata": {
        "colab": {
          "base_uri": "https://localhost:8080/",
          "height": 309
        },
        "id": "xjxbGhEWVp8s",
        "outputId": "457c8f8f-3130-4a92-adba-b178fa7a9631"
      },
      "source": [
        "# we will create a function which will help us Figure out \n",
        "# from the home team’s perspective if the game is a Win, Lose or Draw (W, L, D)\n",
        "\n",
        "\n",
        "merged['status'] = merged.home_score - merged.away_score\n",
        "\n",
        "def status(goals):\n",
        "  if goals > 0:\n",
        "    return 'Win'\n",
        "  elif goals < 0:\n",
        "    return 'Lose'\n",
        "  else:\n",
        "    return 'Draw'\n",
        "\n",
        "\n",
        "\n",
        "merged['status'] = merged.status.apply(lambda x: status(x))\n",
        "\n",
        "merged.head()"
      ],
      "execution_count": 44,
      "outputs": [
        {
          "output_type": "execute_result",
          "data": {
            "text/html": [
              "<div>\n",
              "<style scoped>\n",
              "    .dataframe tbody tr th:only-of-type {\n",
              "        vertical-align: middle;\n",
              "    }\n",
              "\n",
              "    .dataframe tbody tr th {\n",
              "        vertical-align: top;\n",
              "    }\n",
              "\n",
              "    .dataframe thead th {\n",
              "        text-align: right;\n",
              "    }\n",
              "</style>\n",
              "<table border=\"1\" class=\"dataframe\">\n",
              "  <thead>\n",
              "    <tr style=\"text-align: right;\">\n",
              "      <th></th>\n",
              "      <th>date</th>\n",
              "      <th>home_team</th>\n",
              "      <th>away_team</th>\n",
              "      <th>home_score</th>\n",
              "      <th>away_score</th>\n",
              "      <th>tournament</th>\n",
              "      <th>country</th>\n",
              "      <th>home_rank</th>\n",
              "      <th>home_country</th>\n",
              "      <th>away_rank</th>\n",
              "      <th>away_country</th>\n",
              "      <th>status</th>\n",
              "    </tr>\n",
              "  </thead>\n",
              "  <tbody>\n",
              "    <tr>\n",
              "      <th>0</th>\n",
              "      <td>1993-08</td>\n",
              "      <td>Colombia</td>\n",
              "      <td>Paraguay</td>\n",
              "      <td>0</td>\n",
              "      <td>0</td>\n",
              "      <td>Other</td>\n",
              "      <td>Colombia</td>\n",
              "      <td>19</td>\n",
              "      <td>Colombia</td>\n",
              "      <td>67</td>\n",
              "      <td>Paraguay</td>\n",
              "      <td>Draw</td>\n",
              "    </tr>\n",
              "    <tr>\n",
              "      <th>1</th>\n",
              "      <td>1993-08</td>\n",
              "      <td>Colombia</td>\n",
              "      <td>Argentina</td>\n",
              "      <td>2</td>\n",
              "      <td>1</td>\n",
              "      <td>Other</td>\n",
              "      <td>Colombia</td>\n",
              "      <td>19</td>\n",
              "      <td>Colombia</td>\n",
              "      <td>5</td>\n",
              "      <td>Argentina</td>\n",
              "      <td>Win</td>\n",
              "    </tr>\n",
              "    <tr>\n",
              "      <th>2</th>\n",
              "      <td>1993-08</td>\n",
              "      <td>Colombia</td>\n",
              "      <td>Peru</td>\n",
              "      <td>4</td>\n",
              "      <td>0</td>\n",
              "      <td>Other</td>\n",
              "      <td>Colombia</td>\n",
              "      <td>19</td>\n",
              "      <td>Colombia</td>\n",
              "      <td>70</td>\n",
              "      <td>Peru</td>\n",
              "      <td>Win</td>\n",
              "    </tr>\n",
              "    <tr>\n",
              "      <th>3</th>\n",
              "      <td>1993-08</td>\n",
              "      <td>Peru</td>\n",
              "      <td>Argentina</td>\n",
              "      <td>0</td>\n",
              "      <td>1</td>\n",
              "      <td>Other</td>\n",
              "      <td>Peru</td>\n",
              "      <td>70</td>\n",
              "      <td>Peru</td>\n",
              "      <td>5</td>\n",
              "      <td>Argentina</td>\n",
              "      <td>Lose</td>\n",
              "    </tr>\n",
              "    <tr>\n",
              "      <th>4</th>\n",
              "      <td>1993-08</td>\n",
              "      <td>Peru</td>\n",
              "      <td>Colombia</td>\n",
              "      <td>0</td>\n",
              "      <td>1</td>\n",
              "      <td>Other</td>\n",
              "      <td>Peru</td>\n",
              "      <td>70</td>\n",
              "      <td>Peru</td>\n",
              "      <td>19</td>\n",
              "      <td>Colombia</td>\n",
              "      <td>Lose</td>\n",
              "    </tr>\n",
              "  </tbody>\n",
              "</table>\n",
              "</div>"
            ],
            "text/plain": [
              "      date home_team  away_team  ...  away_rank  away_country status\n",
              "0  1993-08  Colombia   Paraguay  ...         67      Paraguay   Draw\n",
              "1  1993-08  Colombia  Argentina  ...          5     Argentina    Win\n",
              "2  1993-08  Colombia       Peru  ...         70          Peru    Win\n",
              "3  1993-08      Peru  Argentina  ...          5     Argentina   Lose\n",
              "4  1993-08      Peru   Colombia  ...         19      Colombia   Lose\n",
              "\n",
              "[5 rows x 12 columns]"
            ]
          },
          "metadata": {
            "tags": []
          },
          "execution_count": 44
        }
      ]
    },
    {
      "cell_type": "code",
      "metadata": {
        "colab": {
          "base_uri": "https://localhost:8080/"
        },
        "id": "Gw67gCj10qqB",
        "outputId": "8059efd7-2ff9-4866-9fbc-4ad19fe1c7d8"
      },
      "source": [
        "merged.duplicated().any().sum()"
      ],
      "execution_count": 45,
      "outputs": [
        {
          "output_type": "execute_result",
          "data": {
            "text/plain": [
              "1"
            ]
          },
          "metadata": {
            "tags": []
          },
          "execution_count": 45
        }
      ]
    },
    {
      "cell_type": "code",
      "metadata": {
        "colab": {
          "base_uri": "https://localhost:8080/"
        },
        "id": "uqLBgETu9oOr",
        "outputId": "59d93edd-815e-4d7d-dab3-626c99d22b44"
      },
      "source": [
        "merged = merged.drop_duplicates()\n",
        "print(merged.duplicated().sum())\n",
        "merged = merged.drop_duplicates()\n",
        "print(merged.duplicated().sum())"
      ],
      "execution_count": 46,
      "outputs": [
        {
          "output_type": "stream",
          "text": [
            "0\n",
            "0\n"
          ],
          "name": "stdout"
        }
      ]
    },
    {
      "cell_type": "code",
      "metadata": {
        "colab": {
          "base_uri": "https://localhost:8080/"
        },
        "id": "IzH0R0Xt08rc",
        "outputId": "6a5bd748-4801-4b76-eb69-4897b1873207"
      },
      "source": [
        "merged.isnull().any().sum()"
      ],
      "execution_count": 47,
      "outputs": [
        {
          "output_type": "execute_result",
          "data": {
            "text/plain": [
              "0"
            ]
          },
          "metadata": {
            "tags": []
          },
          "execution_count": 47
        }
      ]
    },
    {
      "cell_type": "markdown",
      "metadata": {
        "id": "JSX0jxZe22pW"
      },
      "source": [
        "##**6**. Exploratory Analysis"
      ]
    },
    {
      "cell_type": "markdown",
      "metadata": {
        "id": "JpyHuwG92jJP"
      },
      "source": [
        "### 6.1 Univariate Analysis\n"
      ]
    },
    {
      "cell_type": "markdown",
      "metadata": {
        "id": "6avL_bgS4C8j"
      },
      "source": [
        "#### Categorical variables. \n",
        "#### Among the 12 columns in the dataset we have 7 catogorical variables, 'home_team', 'away_team', 'tournament', 'country', 'home_country', 'away_country' and 'status'"
      ]
    },
    {
      "cell_type": "code",
      "metadata": {
        "colab": {
          "base_uri": "https://localhost:8080/"
        },
        "id": "cCSNQG8hyHgX",
        "outputId": "84e7ae92-94b3-4544-8329-81f047a6dfa9"
      },
      "source": [
        "merged.dtypes"
      ],
      "execution_count": 48,
      "outputs": [
        {
          "output_type": "execute_result",
          "data": {
            "text/plain": [
              "date            object\n",
              "home_team       object\n",
              "away_team       object\n",
              "home_score       int64\n",
              "away_score       int64\n",
              "tournament      object\n",
              "country         object\n",
              "home_rank        int64\n",
              "home_country    object\n",
              "away_rank        int64\n",
              "away_country    object\n",
              "status          object\n",
              "dtype: object"
            ]
          },
          "metadata": {
            "tags": []
          },
          "execution_count": 48
        }
      ]
    },
    {
      "cell_type": "code",
      "metadata": {
        "colab": {
          "base_uri": "https://localhost:8080/"
        },
        "id": "DwVxw5wYy9V9",
        "outputId": "8cab9784-0222-4100-8efb-3594db05206f"
      },
      "source": [
        "# frequency table for home team\n",
        "\n",
        "merged['home_team'].value_counts()"
      ],
      "execution_count": 49,
      "outputs": [
        {
          "output_type": "execute_result",
          "data": {
            "text/plain": [
              "Mexico                      252\n",
              "Saudi Arabia                211\n",
              "Japan                       206\n",
              "Oman                        195\n",
              "Qatar                       185\n",
              "                           ... \n",
              "Kosovo                        8\n",
              "Montserrat                    8\n",
              "Gibraltar                     6\n",
              "Anguilla                      6\n",
              "Turks and Caicos Islands      3\n",
              "Name: home_team, Length: 193, dtype: int64"
            ]
          },
          "metadata": {
            "tags": []
          },
          "execution_count": 49
        }
      ]
    },
    {
      "cell_type": "code",
      "metadata": {
        "colab": {
          "base_uri": "https://localhost:8080/"
        },
        "id": "eSrUmszvzHjs",
        "outputId": "8e77341a-3bd3-4043-e862-8ec83e00c5ee"
      },
      "source": [
        "# frequency table for away team\n",
        "\n",
        "merged['away_team'].value_counts()"
      ],
      "execution_count": 50,
      "outputs": [
        {
          "output_type": "execute_result",
          "data": {
            "text/plain": [
              "Zambia                      189\n",
              "Sweden                      163\n",
              "Finland                     160\n",
              "Paraguay                    160\n",
              "Brazil                      159\n",
              "                           ... \n",
              "American Samoa               13\n",
              "Turks and Caicos Islands      8\n",
              "Gibraltar                     6\n",
              "Montserrat                    6\n",
              "Kosovo                        6\n",
              "Name: away_team, Length: 193, dtype: int64"
            ]
          },
          "metadata": {
            "tags": []
          },
          "execution_count": 50
        }
      ]
    },
    {
      "cell_type": "code",
      "metadata": {
        "colab": {
          "base_uri": "https://localhost:8080/"
        },
        "id": "7__IdBfh0Xia",
        "outputId": "529912af-93f0-4c18-d61e-18d1ce311b17"
      },
      "source": [
        "# frequency table for away team\n",
        "\n",
        "merged['country'].value_counts()"
      ],
      "execution_count": 51,
      "outputs": [
        {
          "output_type": "execute_result",
          "data": {
            "text/plain": [
              "United States               569\n",
              "France                      319\n",
              "South Africa                318\n",
              "Qatar                       281\n",
              "United Arab Emirates        269\n",
              "                           ... \n",
              "U.S. Virgin Islands           1\n",
              "Kosovo                        1\n",
              "Réunion                       1\n",
              "Gibraltar                     1\n",
              "Turks and Caicos Islands      1\n",
              "Name: country, Length: 210, dtype: int64"
            ]
          },
          "metadata": {
            "tags": []
          },
          "execution_count": 51
        }
      ]
    },
    {
      "cell_type": "code",
      "metadata": {
        "colab": {
          "base_uri": "https://localhost:8080/"
        },
        "id": "IheF8f091MGK",
        "outputId": "09cbfad9-5d47-4b72-9747-c92c67bb74e6"
      },
      "source": [
        "# frequency table for home country\n",
        "\n",
        "merged['home_country'].value_counts()"
      ],
      "execution_count": 52,
      "outputs": [
        {
          "output_type": "execute_result",
          "data": {
            "text/plain": [
              "Mexico                      252\n",
              "Saudi Arabia                211\n",
              "Japan                       206\n",
              "Oman                        195\n",
              "Qatar                       185\n",
              "                           ... \n",
              "Kosovo                        8\n",
              "Montserrat                    8\n",
              "Gibraltar                     6\n",
              "Anguilla                      6\n",
              "Turks and Caicos Islands      3\n",
              "Name: home_country, Length: 193, dtype: int64"
            ]
          },
          "metadata": {
            "tags": []
          },
          "execution_count": 52
        }
      ]
    },
    {
      "cell_type": "code",
      "metadata": {
        "colab": {
          "base_uri": "https://localhost:8080/"
        },
        "id": "OTgH3KJ11L4V",
        "outputId": "64ccc53b-5b0f-4b29-dfef-bfc3cd35bfb1"
      },
      "source": [
        "# frequency table for away country\n",
        "\n",
        "merged['away_country'].value_counts()"
      ],
      "execution_count": 53,
      "outputs": [
        {
          "output_type": "execute_result",
          "data": {
            "text/plain": [
              "Zambia                      189\n",
              "Sweden                      163\n",
              "Finland                     160\n",
              "Paraguay                    160\n",
              "Brazil                      159\n",
              "                           ... \n",
              "American Samoa               13\n",
              "Turks and Caicos Islands      8\n",
              "Gibraltar                     6\n",
              "Montserrat                    6\n",
              "Kosovo                        6\n",
              "Name: away_country, Length: 193, dtype: int64"
            ]
          },
          "metadata": {
            "tags": []
          },
          "execution_count": 53
        }
      ]
    },
    {
      "cell_type": "code",
      "metadata": {
        "colab": {
          "base_uri": "https://localhost:8080/",
          "height": 328
        },
        "id": "T7lclmRomuRi",
        "outputId": "56bc89cd-fb72-4620-aaaf-cd01e0cbf805"
      },
      "source": [
        "#  bar chart for tournament\n",
        "# \n",
        "\n",
        "merged['tournament'].value_counts().plot.bar(title='frequency distribution for tournament')\n"
      ],
      "execution_count": 54,
      "outputs": [
        {
          "output_type": "execute_result",
          "data": {
            "text/plain": [
              "<matplotlib.axes._subplots.AxesSubplot at 0x7f092c27dfd0>"
            ]
          },
          "metadata": {
            "tags": []
          },
          "execution_count": 54
        },
        {
          "output_type": "display_data",
          "data": {
            "image/png": "[encoded data removed]",
            "text/plain": [
              "<Figure size 432x288 with 1 Axes>"
            ]
          },
          "metadata": {
            "tags": [],
            "needs_background": "light"
          }
        }
      ]
    },
    {
      "cell_type": "code",
      "metadata": {
        "colab": {
          "base_uri": "https://localhost:8080/",
          "height": 314
        },
        "id": "cQl6ZEi5jp6V",
        "outputId": "d17b87e1-8bc8-4b08-a5f5-7bcfcd97bce2"
      },
      "source": [
        "#  bar chart for status\n",
        "# \n",
        "\n",
        "merged['status'].value_counts().plot.bar(title='frequency distribution for status')"
      ],
      "execution_count": 55,
      "outputs": [
        {
          "output_type": "execute_result",
          "data": {
            "text/plain": [
              "<matplotlib.axes._subplots.AxesSubplot at 0x7f092c254950>"
            ]
          },
          "metadata": {
            "tags": []
          },
          "execution_count": 55
        },
        {
          "output_type": "display_data",
          "data": {
            "image/png": "[encoded data removed]",
            "text/plain": [
              "<Figure size 432x288 with 1 Axes>"
            ]
          },
          "metadata": {
            "tags": [],
            "needs_background": "light"
          }
        }
      ]
    },
    {
      "cell_type": "code",
      "metadata": {
        "colab": {
          "base_uri": "https://localhost:8080/"
        },
        "id": "8CiF8ZsI2i02",
        "outputId": "ef97befd-0a7f-4150-eb70-0e4093c4ffef"
      },
      "source": [
        "merged.dtypes"
      ],
      "execution_count": 56,
      "outputs": [
        {
          "output_type": "execute_result",
          "data": {
            "text/plain": [
              "date            object\n",
              "home_team       object\n",
              "away_team       object\n",
              "home_score       int64\n",
              "away_score       int64\n",
              "tournament      object\n",
              "country         object\n",
              "home_rank        int64\n",
              "home_country    object\n",
              "away_rank        int64\n",
              "away_country    object\n",
              "status          object\n",
              "dtype: object"
            ]
          },
          "metadata": {
            "tags": []
          },
          "execution_count": 56
        }
      ]
    },
    {
      "cell_type": "markdown",
      "metadata": {
        "id": "QU2pHxOWzl3O"
      },
      "source": [
        "#### Continuous Variables\n",
        "#### Among the 12 columns we have 4 continuous variables: 'home_score', 'away_score', 'home_rank', and 'away_rank'.\n",
        "\n"
      ]
    },
    {
      "cell_type": "code",
      "metadata": {
        "colab": {
          "base_uri": "https://localhost:8080/",
          "height": 295
        },
        "id": "kFGolC7Q2P2u",
        "outputId": "e4ad3782-2117-4e4b-d8d3-cf98deea5110"
      },
      "source": [
        "# Plotting a histogram to show distribution of the home score\n",
        "\n",
        "homescore = merged['home_score']\n",
        "\n",
        "plt.hist(homescore, bins=10, histtype='bar', rwidth=0.9)\n",
        "\n",
        "plt.xlabel('homescore')\n",
        "plt.ylabel('number')\n",
        "plt.title('Histogram of homescore') \n",
        "plt.show()"
      ],
      "execution_count": 57,
      "outputs": [
        {
          "output_type": "display_data",
          "data": {
            "image/png": "[encoded data removed]",
            "text/plain": [
              "<Figure size 432x288 with 1 Axes>"
            ]
          },
          "metadata": {
            "tags": [],
            "needs_background": "light"
          }
        }
      ]
    },
    {
      "cell_type": "code",
      "metadata": {
        "colab": {
          "base_uri": "https://localhost:8080/",
          "height": 295
        },
        "id": "EckSdexo3aPE",
        "outputId": "d9574f0c-744e-44d6-dc3d-56d7b4331819"
      },
      "source": [
        "# Plotting a histogram to show distribution of the away score\n",
        "\n",
        "awayscore = merged['away_score']\n",
        "\n",
        "plt.hist(homescore, bins=10, histtype='bar', rwidth=0.9)\n",
        "\n",
        "plt.xlabel('awayscore')\n",
        "plt.ylabel('number')\n",
        "plt.title('Histogram of awayscore') \n",
        "plt.show()"
      ],
      "execution_count": 58,
      "outputs": [
        {
          "output_type": "display_data",
          "data": {
            "image/png": "[encoded data removed]",
            "text/plain": [
              "<Figure size 432x288 with 1 Axes>"
            ]
          },
          "metadata": {
            "tags": [],
            "needs_background": "light"
          }
        }
      ]
    },
    {
      "cell_type": "code",
      "metadata": {
        "colab": {
          "base_uri": "https://localhost:8080/",
          "height": 295
        },
        "id": "W3kuJBiR41RZ",
        "outputId": "e8ad6765-8d67-41fc-9be7-328fbdb86f58"
      },
      "source": [
        "# Plotting a histogram to show distribution of the home score\n",
        "\n",
        "homescore = merged['home_score']\n",
        "\n",
        "plt.hist(homescore, bins=10, histtype='bar', rwidth=0.9)\n",
        "\n",
        "plt.xlabel('homescore')\n",
        "plt.ylabel('number')\n",
        "plt.title('Histogram of homescore') \n",
        "plt.show()"
      ],
      "execution_count": 59,
      "outputs": [
        {
          "output_type": "display_data",
          "data": {
            "image/png": "[encoded data removed]",
            "text/plain": [
              "<Figure size 432x288 with 1 Axes>"
            ]
          },
          "metadata": {
            "tags": [],
            "needs_background": "light"
          }
        }
      ]
    },
    {
      "cell_type": "code",
      "metadata": {
        "colab": {
          "base_uri": "https://localhost:8080/",
          "height": 295
        },
        "id": "39pwk5XC4bl4",
        "outputId": "bfe0446d-b4ef-4f1f-853f-944dcbb262c9"
      },
      "source": [
        "# Plotting a histogram to show distribution of the away score\n",
        "\n",
        "awayscore = merged['away_score']\n",
        "\n",
        "plt.hist(homescore, bins=10, histtype='bar', rwidth=0.9)\n",
        "\n",
        "plt.xlabel('awayscore')\n",
        "plt.ylabel('number')\n",
        "plt.title('Histogram of awayscore') \n",
        "plt.show()"
      ],
      "execution_count": 60,
      "outputs": [
        {
          "output_type": "display_data",
          "data": {
            "image/png": "[encoded data removed]",
            "text/plain": [
              "<Figure size 432x288 with 1 Axes>"
            ]
          },
          "metadata": {
            "tags": [],
            "needs_background": "light"
          }
        }
      ]
    },
    {
      "cell_type": "code",
      "metadata": {
        "colab": {
          "base_uri": "https://localhost:8080/"
        },
        "id": "0Jf7fjAr3__j",
        "outputId": "a2ac7d89-f5ee-47ab-aa29-4aeb9cd13a0d"
      },
      "source": [
        "merged['away_rank'].value_counts()"
      ],
      "execution_count": 61,
      "outputs": [
        {
          "output_type": "execute_result",
          "data": {
            "text/plain": [
              "1      156\n",
              "26     147\n",
              "2      145\n",
              "6      141\n",
              "36     140\n",
              "      ... \n",
              "204     13\n",
              "205     11\n",
              "206      8\n",
              "208      1\n",
              "209      1\n",
              "Name: away_rank, Length: 209, dtype: int64"
            ]
          },
          "metadata": {
            "tags": []
          },
          "execution_count": 61
        }
      ]
    },
    {
      "cell_type": "markdown",
      "metadata": {
        "id": "Ew8rQPnk7w2N"
      },
      "source": [
        "##### a.) Measures of central tendency\n"
      ]
    },
    {
      "cell_type": "code",
      "metadata": {
        "colab": {
          "base_uri": "https://localhost:8080/"
        },
        "id": "P9_MA5CaBqk_",
        "outputId": "e846f9e1-295a-40ed-edc6-7f817551b646"
      },
      "source": [
        "merged.columns"
      ],
      "execution_count": 62,
      "outputs": [
        {
          "output_type": "execute_result",
          "data": {
            "text/plain": [
              "Index(['date', 'home_team', 'away_team', 'home_score', 'away_score',\n",
              "       'tournament', 'country', 'home_rank', 'home_country', 'away_rank',\n",
              "       'away_country', 'status'],\n",
              "      dtype='object')"
            ]
          },
          "metadata": {
            "tags": []
          },
          "execution_count": 62
        }
      ]
    },
    {
      "cell_type": "code",
      "metadata": {
        "colab": {
          "base_uri": "https://localhost:8080/"
        },
        "id": "1uDbm_TR8fvm",
        "outputId": "dccdefbf-3a82-4146-e141-762ad5662c93"
      },
      "source": [
        "# finding the mean of 'home_score', 'away_score', 'home_rank', and 'away_rank'\n",
        "\n",
        "print(merged['home_score'].mean())\n",
        "print(merged['away_score'].mean())\n",
        "print(merged['home_rank'].mean())\n",
        "print(merged['away_rank'].mean())"
      ],
      "execution_count": 63,
      "outputs": [
        {
          "output_type": "stream",
          "text": [
            "1.6046966731898238\n",
            "1.069619877839056\n",
            "76.02502520310739\n",
            "78.85720215857202\n"
          ],
          "name": "stdout"
        }
      ]
    },
    {
      "cell_type": "code",
      "metadata": {
        "colab": {
          "base_uri": "https://localhost:8080/"
        },
        "id": "BTnk6D558s7t",
        "outputId": "2d0aa33e-e6bc-4795-ab01-e5e151e6d596"
      },
      "source": [
        "# finding the median of 'home_score', 'away_score', 'home_rank', and 'away_rank'\n",
        "\n",
        "print(merged['home_score'].median())\n",
        "print(merged['away_score'].median())\n",
        "print(merged['home_rank'].median())\n",
        "print(merged['away_rank'].median())"
      ],
      "execution_count": 64,
      "outputs": [
        {
          "output_type": "stream",
          "text": [
            "1.0\n",
            "1.0\n",
            "70.0\n",
            "72.0\n"
          ],
          "name": "stdout"
        }
      ]
    },
    {
      "cell_type": "code",
      "metadata": {
        "colab": {
          "base_uri": "https://localhost:8080/"
        },
        "id": "PhLkubMc83e3",
        "outputId": "67dccd93-2795-4fc6-9779-11d200a09606"
      },
      "source": [
        "# finding the mode of 'home_score', 'away_score', 'home_rank', and 'away_rank'\n",
        "\n",
        "print(merged['home_score'].mode())\n",
        "print(merged['away_score'].mode())\n",
        "print(merged['home_rank'].mode())\n",
        "print(merged['away_rank'].mode())"
      ],
      "execution_count": 65,
      "outputs": [
        {
          "output_type": "stream",
          "text": [
            "0    1\n",
            "dtype: int64\n",
            "0    0\n",
            "dtype: int64\n",
            "0    5\n",
            "dtype: int64\n",
            "0    1\n",
            "dtype: int64\n"
          ],
          "name": "stdout"
        }
      ]
    },
    {
      "cell_type": "markdown",
      "metadata": {
        "id": "w-TvL8xh8ZKr"
      },
      "source": [
        "##### b.) Measures of dispersion"
      ]
    },
    {
      "cell_type": "code",
      "metadata": {
        "colab": {
          "base_uri": "https://localhost:8080/"
        },
        "id": "jsj_JqP-9otk",
        "outputId": "2778079b-72d2-4c54-e773-b0f76c6e0bd2"
      },
      "source": [
        "# finding the standard deviation of 'home_score', 'away_score', 'home_rank', and 'away_rank'\n",
        "\n",
        "print(merged['home_score'].std())\n",
        "print(merged['away_score'].std())\n",
        "print(merged['home_rank'].std())\n",
        "print(merged['away_rank'].std())"
      ],
      "execution_count": 66,
      "outputs": [
        {
          "output_type": "stream",
          "text": [
            "1.6159731538570996\n",
            "1.2459462500782479\n",
            "50.85108732990273\n",
            "52.00677865112443\n"
          ],
          "name": "stdout"
        }
      ]
    },
    {
      "cell_type": "code",
      "metadata": {
        "colab": {
          "base_uri": "https://localhost:8080/"
        },
        "id": "N1HSwhst9xVJ",
        "outputId": "194dc328-64df-42cf-de24-af1bb6e41b9e"
      },
      "source": [
        "# finding the variance of 'home_score', 'away_score', 'home_rank', and 'away_rank'\n",
        "\n",
        "print(merged['home_score'].var())\n",
        "print(merged['away_score'].var())\n",
        "print(merged['home_rank'].var())\n",
        "print(merged['away_rank'].var())"
      ],
      "execution_count": 67,
      "outputs": [
        {
          "output_type": "stream",
          "text": [
            "2.6113692339868613\n",
            "1.552382058084048\n",
            "2585.833082633394\n",
            "2704.705025667052\n"
          ],
          "name": "stdout"
        }
      ]
    },
    {
      "cell_type": "code",
      "metadata": {
        "colab": {
          "base_uri": "https://localhost:8080/"
        },
        "id": "He9doGSD-H32",
        "outputId": "c7fcad1d-b7de-4232-a13a-b111ccc4bde8"
      },
      "source": [
        "# finding the range- home score\n",
        "\n",
        "maximum = merged['home_score'].max()\n",
        "minimum = merged['home_score'].min()\n",
        "range = maximum - minimum\n",
        "range"
      ],
      "execution_count": 68,
      "outputs": [
        {
          "output_type": "execute_result",
          "data": {
            "text/plain": [
              "31"
            ]
          },
          "metadata": {
            "tags": []
          },
          "execution_count": 68
        }
      ]
    },
    {
      "cell_type": "code",
      "metadata": {
        "colab": {
          "base_uri": "https://localhost:8080/"
        },
        "id": "sUr1vAieH6eb",
        "outputId": "6f1dd9c3-40be-4866-c432-0aca52be4cec"
      },
      "source": [
        "# finfing the range of away score\n",
        "# \n",
        "\n",
        "maximum1 = merged['away_score'].max()\n",
        "minimum1 = merged['away_score'].min()\n",
        "range1 = maximum1 - minimum1\n",
        "range1"
      ],
      "execution_count": 69,
      "outputs": [
        {
          "output_type": "execute_result",
          "data": {
            "text/plain": [
              "15"
            ]
          },
          "metadata": {
            "tags": []
          },
          "execution_count": 69
        }
      ]
    },
    {
      "cell_type": "code",
      "metadata": {
        "colab": {
          "base_uri": "https://localhost:8080/"
        },
        "id": "lDEO9tivH9B0",
        "outputId": "5b6b7d48-eaac-47f5-b331-c6d3d8ccb3c0"
      },
      "source": [
        "# finding the range of home rank\n",
        "# \n",
        "\n",
        "maximum2= merged['home_rank'].max()\n",
        "minimum2 = merged['home_rank'].min()\n",
        "range2 = maximum2 - minimum2\n",
        "range2"
      ],
      "execution_count": 70,
      "outputs": [
        {
          "output_type": "execute_result",
          "data": {
            "text/plain": [
              "208"
            ]
          },
          "metadata": {
            "tags": []
          },
          "execution_count": 70
        }
      ]
    },
    {
      "cell_type": "code",
      "metadata": {
        "colab": {
          "base_uri": "https://localhost:8080/"
        },
        "id": "xz_DH_QmH-Iy",
        "outputId": "b5602fda-6b60-4787-b8f3-f832f9725255"
      },
      "source": [
        "# finding the range of away rank\n",
        "# \n",
        "\n",
        "maximum3 = merged['away_rank'].max()\n",
        "minimum3 = merged['away_rank'].min()\n",
        "range3 = maximum3 - minimum3\n",
        "range3"
      ],
      "execution_count": 71,
      "outputs": [
        {
          "output_type": "execute_result",
          "data": {
            "text/plain": [
              "208"
            ]
          },
          "metadata": {
            "tags": []
          },
          "execution_count": 71
        }
      ]
    },
    {
      "cell_type": "code",
      "metadata": {
        "colab": {
          "base_uri": "https://localhost:8080/"
        },
        "id": "TLtQ3Tjq-JDP",
        "outputId": "92197df2-cf3f-451d-eeea-0c47dded57f9"
      },
      "source": [
        "# finding the quantiles of 'home_score', 'away_score', 'home_rank', and 'away_rank'\n",
        "\n",
        "print(merged['home_score'].quantile([0.25,0.5,0.75]))\n",
        "print(merged['away_score'].quantile([0.25,0.5,0.75]))\n",
        "print(merged['home_rank'].quantile([0.25,0.5,0.75]))\n",
        "print(merged['away_rank'].quantile([0.25,0.5,0.75]))"
      ],
      "execution_count": 72,
      "outputs": [
        {
          "output_type": "stream",
          "text": [
            "0.25    0.0\n",
            "0.50    1.0\n",
            "0.75    2.0\n",
            "Name: home_score, dtype: float64\n",
            "0.25    0.0\n",
            "0.50    1.0\n",
            "0.75    2.0\n",
            "Name: away_score, dtype: float64\n",
            "0.25     33.0\n",
            "0.50     70.0\n",
            "0.75    112.0\n",
            "Name: home_rank, dtype: float64\n",
            "0.25     35.0\n",
            "0.50     72.0\n",
            "0.75    115.0\n",
            "Name: away_rank, dtype: float64\n"
          ],
          "name": "stdout"
        }
      ]
    },
    {
      "cell_type": "code",
      "metadata": {
        "colab": {
          "base_uri": "https://localhost:8080/"
        },
        "id": "t4C9a2h0-JAY",
        "outputId": "09941976-74f8-4532-c459-c3790dfdba35"
      },
      "source": [
        "# computing skewness of 'home_score', 'away_score', 'home_rank', and 'away_rank'\n",
        "\n",
        "print(merged['home_score'].skew())\n",
        "print(merged['away_score'].skew())\n",
        "print(merged['home_rank'].skew())\n",
        "print(merged['away_rank'].skew())"
      ],
      "execution_count": 73,
      "outputs": [
        {
          "output_type": "stream",
          "text": [
            "2.326105498086301\n",
            "1.9273984859675537\n",
            "0.44831420045689047\n",
            "0.4478304760682012\n"
          ],
          "name": "stdout"
        }
      ]
    },
    {
      "cell_type": "code",
      "metadata": {
        "colab": {
          "base_uri": "https://localhost:8080/"
        },
        "id": "1l6zPDU0-Kzw",
        "outputId": "d4ecafdc-f27a-48cd-f405-7eecb8668bea"
      },
      "source": [
        "# computing kurtosis of 'home_score', 'away_score', 'home_rank', and 'away_rank'\n",
        "\n",
        "print(merged['home_score'].kurt())\n",
        "print(merged['away_score'].kurt())\n",
        "print(merged['home_rank'].kurt())\n",
        "print(merged['away_rank'].kurt())"
      ],
      "execution_count": 74,
      "outputs": [
        {
          "output_type": "stream",
          "text": [
            "15.265524946472665\n",
            "7.156969287490188\n",
            "-0.6875422770534168\n",
            "-0.7060854274440063\n"
          ],
          "name": "stdout"
        }
      ]
    },
    {
      "cell_type": "markdown",
      "metadata": {
        "id": "DKGapXjRAkzn"
      },
      "source": [
        "### 6.2 Bivariate Analysis"
      ]
    },
    {
      "cell_type": "markdown",
      "metadata": {
        "id": "wF4B74wZBXuw"
      },
      "source": [
        "#### Numerical and numerical"
      ]
    },
    {
      "cell_type": "code",
      "metadata": {
        "colab": {
          "base_uri": "https://localhost:8080/",
          "height": 297
        },
        "id": "mkeOG6v8EyKA",
        "outputId": "3c77f588-bdbe-4114-dfad-658d4ae22092"
      },
      "source": [
        "# plotting a scatter plot of the homescore and away score\n",
        "\n",
        "merged.plot(x = 'home_score', y = 'away_score', kind='scatter')\n"
      ],
      "execution_count": 75,
      "outputs": [
        {
          "output_type": "execute_result",
          "data": {
            "text/plain": [
              "<matplotlib.axes._subplots.AxesSubplot at 0x7f092bf2b8d0>"
            ]
          },
          "metadata": {
            "tags": []
          },
          "execution_count": 75
        },
        {
          "output_type": "display_data",
          "data": {
            "image/png": "[encoded data removed]",
            "text/plain": [
              "<Figure size 432x288 with 1 Axes>"
            ]
          },
          "metadata": {
            "tags": [],
            "needs_background": "light"
          }
        }
      ]
    },
    {
      "cell_type": "markdown",
      "metadata": {
        "id": "pyCsG11FIBnu"
      },
      "source": [
        "The scatter plot shows there's no correlation between the ages of the respondents in the sample and the house size."
      ]
    },
    {
      "cell_type": "code",
      "metadata": {
        "colab": {
          "base_uri": "https://localhost:8080/",
          "height": 297
        },
        "id": "j9FeNEqdN5LK",
        "outputId": "98ff14ed-43e1-44db-d8c7-831b805ed434"
      },
      "source": [
        "# plotting a scatter plot of the home rank and away rank\n",
        "\n",
        "merged.plot(x = 'home_rank', y = 'away_rank', kind='scatter')"
      ],
      "execution_count": 76,
      "outputs": [
        {
          "output_type": "execute_result",
          "data": {
            "text/plain": [
              "<matplotlib.axes._subplots.AxesSubplot at 0x7f092beadbd0>"
            ]
          },
          "metadata": {
            "tags": []
          },
          "execution_count": 76
        },
        {
          "output_type": "display_data",
          "data": {
            "image/png": "[encoded data removed]",
            "text/plain": [
              "<Figure size 432x288 with 1 Axes>"
            ]
          },
          "metadata": {
            "tags": [],
            "needs_background": "light"
          }
        }
      ]
    },
    {
      "cell_type": "code",
      "metadata": {
        "colab": {
          "base_uri": "https://localhost:8080/"
        },
        "id": "ZH6MHuLLHuY2",
        "outputId": "86b29b13-32d8-4a7c-f665-dff2cffa1747"
      },
      "source": [
        "# calculating the correlation coefficient\n",
        "\n",
        "coeff =merged['home_score'].corr(merged['away_score']) \n",
        "print(coeff)\n"
      ],
      "execution_count": 77,
      "outputs": [
        {
          "output_type": "stream",
          "text": [
            "-0.16373722025251877\n"
          ],
          "name": "stdout"
        }
      ]
    },
    {
      "cell_type": "code",
      "metadata": {
        "colab": {
          "base_uri": "https://localhost:8080/"
        },
        "id": "GdVMjqZSN8pj",
        "outputId": "af279a6d-9e9f-4154-8e72-de621e4c70ee"
      },
      "source": [
        "# calculating the correlation coefficient\n",
        "\n",
        "coeff1 =merged['home_rank'].corr(merged['away_rank']) \n",
        "print(coeff1)"
      ],
      "execution_count": 78,
      "outputs": [
        {
          "output_type": "stream",
          "text": [
            "0.46939262502884177\n"
          ],
          "name": "stdout"
        }
      ]
    },
    {
      "cell_type": "code",
      "metadata": {
        "colab": {
          "base_uri": "https://localhost:8080/",
          "height": 270
        },
        "id": "1GL_QM8GHsrG",
        "outputId": "8686bbd0-c203-4156-a7d0-5f8c46f01a7d"
      },
      "source": [
        "sns.heatmap(merged.corr(),annot=True)\n",
        "plt.show()"
      ],
      "execution_count": 79,
      "outputs": [
        {
          "output_type": "display_data",
          "data": {
            "image/png": "[encoded data removed]",
            "text/plain": [
              "<Figure size 432x288 with 2 Axes>"
            ]
          },
          "metadata": {
            "tags": [],
            "needs_background": "light"
          }
        }
      ]
    },
    {
      "cell_type": "markdown",
      "metadata": {
        "id": "8f4e67GSK_iB"
      },
      "source": [
        "#### Categorical and categorical\n"
      ]
    },
    {
      "cell_type": "code",
      "metadata": {
        "colab": {
          "base_uri": "https://localhost:8080/"
        },
        "id": "ZV57gtAbObbS",
        "outputId": "d8175439-e568-4958-ee89-400b98a861f9"
      },
      "source": [
        "merged.dtypes"
      ],
      "execution_count": 80,
      "outputs": [
        {
          "output_type": "execute_result",
          "data": {
            "text/plain": [
              "date            object\n",
              "home_team       object\n",
              "away_team       object\n",
              "home_score       int64\n",
              "away_score       int64\n",
              "tournament      object\n",
              "country         object\n",
              "home_rank        int64\n",
              "home_country    object\n",
              "away_rank        int64\n",
              "away_country    object\n",
              "status          object\n",
              "dtype: object"
            ]
          },
          "metadata": {
            "tags": []
          },
          "execution_count": 80
        }
      ]
    },
    {
      "cell_type": "code",
      "metadata": {
        "colab": {
          "base_uri": "https://localhost:8080/",
          "height": 450
        },
        "id": "7JEl2HIylvXC",
        "outputId": "a7d326fe-2686-42fe-ad79-e00a5b213d21"
      },
      "source": [
        "# plotting a stacked bar chart of the tornament and status\n",
        "\n",
        "homet = merged.groupby('tournament')['status'].value_counts(normalize=True).unstack()\n",
        "homet.plot(kind='bar', figsize=(8, 6), stacked=True)\n",
        "\n",
        "# Rotating our x axis ticks\n",
        "plt.xticks(rotation = 45)\n",
        "\n",
        "# Giving our chart a title\n",
        "plt.title('tournament vs status', fontsize=14, y=1.015)\n",
        "\n",
        "# Labeling our y axis\n",
        "plt.ylabel('status', fontsize=14, labelpad=15)\n",
        "\n",
        "# Labeling our x axis\n",
        "plt.xlabel('tournament', fontsize=14, labelpad=15)\n",
        "\n",
        "# Displaying our chart\n",
        "plt.show()"
      ],
      "execution_count": 81,
      "outputs": [
        {
          "output_type": "display_data",
          "data": {
            "image/png": "[encoded data removed]",
            "text/plain": [
              "<Figure size 576x432 with 1 Axes>"
            ]
          },
          "metadata": {
            "tags": [],
            "needs_background": "light"
          }
        }
      ]
    },
    {
      "cell_type": "markdown",
      "metadata": {
        "id": "-UDyXnPjmW0L"
      },
      "source": [
        "There are more wins in games that are not friendly"
      ]
    },
    {
      "cell_type": "markdown",
      "metadata": {
        "id": "JZlJOa_bYSmU"
      },
      "source": [
        "#### Numerical and Categorical"
      ]
    },
    {
      "cell_type": "code",
      "metadata": {
        "id": "gnv5YwyUQBhj",
        "colab": {
          "base_uri": "https://localhost:8080/"
        },
        "outputId": "b178136d-85c9-471f-c6ab-595791d1b3cc"
      },
      "source": [
        "merged.dtypes"
      ],
      "execution_count": 82,
      "outputs": [
        {
          "output_type": "execute_result",
          "data": {
            "text/plain": [
              "date            object\n",
              "home_team       object\n",
              "away_team       object\n",
              "home_score       int64\n",
              "away_score       int64\n",
              "tournament      object\n",
              "country         object\n",
              "home_rank        int64\n",
              "home_country    object\n",
              "away_rank        int64\n",
              "away_country    object\n",
              "status          object\n",
              "dtype: object"
            ]
          },
          "metadata": {
            "tags": []
          },
          "execution_count": 82
        }
      ]
    },
    {
      "cell_type": "code",
      "metadata": {
        "id": "G6_4_PmYV743",
        "colab": {
          "base_uri": "https://localhost:8080/",
          "height": 301
        },
        "outputId": "0307c532-9489-4f7b-b0e1-e9047f26be96"
      },
      "source": [
        "# comparing the home team rank and status of the game\n",
        "\n",
        "# Plotting our line graph\n",
        "merged.groupby('home_rank')['status'].value_counts(normalize=True).unstack().plot(kind='kde')\n",
        "\n",
        "# Giving a title to our line graph\n",
        "plt.title('home rank vs status of the game', fontsize=14, y=1.015)\n",
        "\n",
        "# Labelling the y-axis\n",
        "plt.ylabel('status')\n",
        "\n",
        "# Labelling the x-axis\n",
        "plt.xlabel('home_rank')\n",
        " \n",
        "# Displaying our graph\n",
        "plt.show()"
      ],
      "execution_count": 83,
      "outputs": [
        {
          "output_type": "display_data",
          "data": {
            "image/png": "[encoded data removed]",
            "text/plain": [
              "<Figure size 432x288 with 1 Axes>"
            ]
          },
          "metadata": {
            "tags": [],
            "needs_background": "light"
          }
        }
      ]
    },
    {
      "cell_type": "code",
      "metadata": {
        "colab": {
          "base_uri": "https://localhost:8080/",
          "height": 301
        },
        "id": "1o03e1PkpC_Z",
        "outputId": "033fbb03-48ef-411f-a7a2-9b0c29bc8840"
      },
      "source": [
        "# comparing the away team rank and status of the game\n",
        "\n",
        "# Plotting our line graph\n",
        "merged.groupby('away_rank')['status'].value_counts(normalize=True).unstack().plot(kind='kde')\n",
        "\n",
        "# Giving a title to our line graph\n",
        "plt.title('away rank vs status of the game', fontsize=14, y=1.015)\n",
        "\n",
        "# Labelling the y-axis\n",
        "plt.ylabel('status')\n",
        "\n",
        "# Labelling the x-axis\n",
        "plt.xlabel('away_rank')\n",
        " \n",
        "# Displaying our graph\n",
        "plt.show()"
      ],
      "execution_count": 84,
      "outputs": [
        {
          "output_type": "display_data",
          "data": {
            "image/png": "[encoded data removed]",
            "text/plain": [
              "<Figure size 432x288 with 1 Axes>"
            ]
          },
          "metadata": {
            "tags": [],
            "needs_background": "light"
          }
        }
      ]
    },
    {
      "cell_type": "markdown",
      "metadata": {
        "id": "fp5uJczfgtgE"
      },
      "source": [
        "##**7**. Implementing the Solution"
      ]
    },
    {
      "cell_type": "markdown",
      "metadata": {
        "id": "NKq4halMotKQ"
      },
      "source": [
        "### Checking for multicollinearity"
      ]
    },
    {
      "cell_type": "code",
      "metadata": {
        "id": "Geqt8Jmc0UdK"
      },
      "source": [
        "#Import libaries\n",
        "\n",
        "from sklearn.preprocessing import PolynomialFeatures\n",
        "\n",
        "from sklearn.model_selection import train_test_split\n",
        "\n",
        "# Import LinearRegression method from sklearn linear_model library\n",
        "from sklearn.linear_model import LinearRegression"
      ],
      "execution_count": 85,
      "outputs": []
    },
    {
      "cell_type": "code",
      "metadata": {
        "colab": {
          "base_uri": "https://localhost:8080/",
          "height": 309
        },
        "id": "8K_XeclGTDAO",
        "outputId": "5fc0acb2-9000-4344-a1c9-3c9a2ab5f712"
      },
      "source": [
        "# make a copy of a our dataset\n",
        "# \n",
        "merged_copy = merged.copy()\n",
        "merged_copy.head()"
      ],
      "execution_count": 86,
      "outputs": [
        {
          "output_type": "execute_result",
          "data": {
            "text/html": [
              "<div>\n",
              "<style scoped>\n",
              "    .dataframe tbody tr th:only-of-type {\n",
              "        vertical-align: middle;\n",
              "    }\n",
              "\n",
              "    .dataframe tbody tr th {\n",
              "        vertical-align: top;\n",
              "    }\n",
              "\n",
              "    .dataframe thead th {\n",
              "        text-align: right;\n",
              "    }\n",
              "</style>\n",
              "<table border=\"1\" class=\"dataframe\">\n",
              "  <thead>\n",
              "    <tr style=\"text-align: right;\">\n",
              "      <th></th>\n",
              "      <th>date</th>\n",
              "      <th>home_team</th>\n",
              "      <th>away_team</th>\n",
              "      <th>home_score</th>\n",
              "      <th>away_score</th>\n",
              "      <th>tournament</th>\n",
              "      <th>country</th>\n",
              "      <th>home_rank</th>\n",
              "      <th>home_country</th>\n",
              "      <th>away_rank</th>\n",
              "      <th>away_country</th>\n",
              "      <th>status</th>\n",
              "    </tr>\n",
              "  </thead>\n",
              "  <tbody>\n",
              "    <tr>\n",
              "      <th>0</th>\n",
              "      <td>1993-08</td>\n",
              "      <td>Colombia</td>\n",
              "      <td>Paraguay</td>\n",
              "      <td>0</td>\n",
              "      <td>0</td>\n",
              "      <td>Other</td>\n",
              "      <td>Colombia</td>\n",
              "      <td>19</td>\n",
              "      <td>Colombia</td>\n",
              "      <td>67</td>\n",
              "      <td>Paraguay</td>\n",
              "      <td>Draw</td>\n",
              "    </tr>\n",
              "    <tr>\n",
              "      <th>1</th>\n",
              "      <td>1993-08</td>\n",
              "      <td>Colombia</td>\n",
              "      <td>Argentina</td>\n",
              "      <td>2</td>\n",
              "      <td>1</td>\n",
              "      <td>Other</td>\n",
              "      <td>Colombia</td>\n",
              "      <td>19</td>\n",
              "      <td>Colombia</td>\n",
              "      <td>5</td>\n",
              "      <td>Argentina</td>\n",
              "      <td>Win</td>\n",
              "    </tr>\n",
              "    <tr>\n",
              "      <th>2</th>\n",
              "      <td>1993-08</td>\n",
              "      <td>Colombia</td>\n",
              "      <td>Peru</td>\n",
              "      <td>4</td>\n",
              "      <td>0</td>\n",
              "      <td>Other</td>\n",
              "      <td>Colombia</td>\n",
              "      <td>19</td>\n",
              "      <td>Colombia</td>\n",
              "      <td>70</td>\n",
              "      <td>Peru</td>\n",
              "      <td>Win</td>\n",
              "    </tr>\n",
              "    <tr>\n",
              "      <th>3</th>\n",
              "      <td>1993-08</td>\n",
              "      <td>Peru</td>\n",
              "      <td>Argentina</td>\n",
              "      <td>0</td>\n",
              "      <td>1</td>\n",
              "      <td>Other</td>\n",
              "      <td>Peru</td>\n",
              "      <td>70</td>\n",
              "      <td>Peru</td>\n",
              "      <td>5</td>\n",
              "      <td>Argentina</td>\n",
              "      <td>Lose</td>\n",
              "    </tr>\n",
              "    <tr>\n",
              "      <th>4</th>\n",
              "      <td>1993-08</td>\n",
              "      <td>Peru</td>\n",
              "      <td>Colombia</td>\n",
              "      <td>0</td>\n",
              "      <td>1</td>\n",
              "      <td>Other</td>\n",
              "      <td>Peru</td>\n",
              "      <td>70</td>\n",
              "      <td>Peru</td>\n",
              "      <td>19</td>\n",
              "      <td>Colombia</td>\n",
              "      <td>Lose</td>\n",
              "    </tr>\n",
              "  </tbody>\n",
              "</table>\n",
              "</div>"
            ],
            "text/plain": [
              "      date home_team  away_team  ...  away_rank  away_country status\n",
              "0  1993-08  Colombia   Paraguay  ...         67      Paraguay   Draw\n",
              "1  1993-08  Colombia  Argentina  ...          5     Argentina    Win\n",
              "2  1993-08  Colombia       Peru  ...         70          Peru    Win\n",
              "3  1993-08      Peru  Argentina  ...          5     Argentina   Lose\n",
              "4  1993-08      Peru   Colombia  ...         19      Colombia   Lose\n",
              "\n",
              "[5 rows x 12 columns]"
            ]
          },
          "metadata": {
            "tags": []
          },
          "execution_count": 86
        }
      ]
    },
    {
      "cell_type": "code",
      "metadata": {
        "colab": {
          "base_uri": "https://localhost:8080/",
          "height": 173
        },
        "id": "ELqbEhUhlQHa",
        "outputId": "1b7597a6-97e2-42ed-ee65-5651fc35415b"
      },
      "source": [
        "# checking for multicollinearity\n",
        "# \n",
        "correlations = merged_copy.corr()\n",
        "\n",
        "correlations"
      ],
      "execution_count": 87,
      "outputs": [
        {
          "output_type": "execute_result",
          "data": {
            "text/html": [
              "<div>\n",
              "<style scoped>\n",
              "    .dataframe tbody tr th:only-of-type {\n",
              "        vertical-align: middle;\n",
              "    }\n",
              "\n",
              "    .dataframe tbody tr th {\n",
              "        vertical-align: top;\n",
              "    }\n",
              "\n",
              "    .dataframe thead th {\n",
              "        text-align: right;\n",
              "    }\n",
              "</style>\n",
              "<table border=\"1\" class=\"dataframe\">\n",
              "  <thead>\n",
              "    <tr style=\"text-align: right;\">\n",
              "      <th></th>\n",
              "      <th>home_score</th>\n",
              "      <th>away_score</th>\n",
              "      <th>home_rank</th>\n",
              "      <th>away_rank</th>\n",
              "    </tr>\n",
              "  </thead>\n",
              "  <tbody>\n",
              "    <tr>\n",
              "      <th>home_score</th>\n",
              "      <td>1.000000</td>\n",
              "      <td>-0.163737</td>\n",
              "      <td>-0.135335</td>\n",
              "      <td>0.318863</td>\n",
              "    </tr>\n",
              "    <tr>\n",
              "      <th>away_score</th>\n",
              "      <td>-0.163737</td>\n",
              "      <td>1.000000</td>\n",
              "      <td>0.221734</td>\n",
              "      <td>-0.179906</td>\n",
              "    </tr>\n",
              "    <tr>\n",
              "      <th>home_rank</th>\n",
              "      <td>-0.135335</td>\n",
              "      <td>0.221734</td>\n",
              "      <td>1.000000</td>\n",
              "      <td>0.469393</td>\n",
              "    </tr>\n",
              "    <tr>\n",
              "      <th>away_rank</th>\n",
              "      <td>0.318863</td>\n",
              "      <td>-0.179906</td>\n",
              "      <td>0.469393</td>\n",
              "      <td>1.000000</td>\n",
              "    </tr>\n",
              "  </tbody>\n",
              "</table>\n",
              "</div>"
            ],
            "text/plain": [
              "            home_score  away_score  home_rank  away_rank\n",
              "home_score    1.000000   -0.163737  -0.135335   0.318863\n",
              "away_score   -0.163737    1.000000   0.221734  -0.179906\n",
              "home_rank    -0.135335    0.221734   1.000000   0.469393\n",
              "away_rank     0.318863   -0.179906   0.469393   1.000000"
            ]
          },
          "metadata": {
            "tags": []
          },
          "execution_count": 87
        }
      ]
    },
    {
      "cell_type": "code",
      "metadata": {
        "colab": {
          "base_uri": "https://localhost:8080/",
          "height": 173
        },
        "id": "Uq05pSConCxY",
        "outputId": "ffdf8501-5f29-4080-da8d-ebc6f3ca9ba8"
      },
      "source": [
        "# compute the VIF\n",
        "# \n",
        "pd.DataFrame(np.linalg.inv(correlations.values), index = correlations.index, columns=correlations.columns)"
      ],
      "execution_count": 88,
      "outputs": [
        {
          "output_type": "execute_result",
          "data": {
            "text/html": [
              "<div>\n",
              "<style scoped>\n",
              "    .dataframe tbody tr th:only-of-type {\n",
              "        vertical-align: middle;\n",
              "    }\n",
              "\n",
              "    .dataframe tbody tr th {\n",
              "        vertical-align: top;\n",
              "    }\n",
              "\n",
              "    .dataframe thead th {\n",
              "        text-align: right;\n",
              "    }\n",
              "</style>\n",
              "<table border=\"1\" class=\"dataframe\">\n",
              "  <thead>\n",
              "    <tr style=\"text-align: right;\">\n",
              "      <th></th>\n",
              "      <th>home_score</th>\n",
              "      <th>away_score</th>\n",
              "      <th>home_rank</th>\n",
              "      <th>away_rank</th>\n",
              "    </tr>\n",
              "  </thead>\n",
              "  <tbody>\n",
              "    <tr>\n",
              "      <th>home_score</th>\n",
              "      <td>1.259276</td>\n",
              "      <td>-0.008250</td>\n",
              "      <td>0.463565</td>\n",
              "      <td>-0.620614</td>\n",
              "    </tr>\n",
              "    <tr>\n",
              "      <th>away_score</th>\n",
              "      <td>-0.008250</td>\n",
              "      <td>1.180141</td>\n",
              "      <td>-0.466462</td>\n",
              "      <td>0.433899</td>\n",
              "    </tr>\n",
              "    <tr>\n",
              "      <th>home_rank</th>\n",
              "      <td>0.463565</td>\n",
              "      <td>-0.466462</td>\n",
              "      <td>1.635230</td>\n",
              "      <td>-0.999298</td>\n",
              "    </tr>\n",
              "    <tr>\n",
              "      <th>away_rank</th>\n",
              "      <td>-0.620614</td>\n",
              "      <td>0.433899</td>\n",
              "      <td>-0.999298</td>\n",
              "      <td>1.745015</td>\n",
              "    </tr>\n",
              "  </tbody>\n",
              "</table>\n",
              "</div>"
            ],
            "text/plain": [
              "            home_score  away_score  home_rank  away_rank\n",
              "home_score    1.259276   -0.008250   0.463565  -0.620614\n",
              "away_score   -0.008250    1.180141  -0.466462   0.433899\n",
              "home_rank     0.463565   -0.466462   1.635230  -0.999298\n",
              "away_rank    -0.620614    0.433899  -0.999298   1.745015"
            ]
          },
          "metadata": {
            "tags": []
          },
          "execution_count": 88
        }
      ]
    },
    {
      "cell_type": "markdown",
      "metadata": {
        "id": "YrAL1txUoGZm"
      },
      "source": [
        "The VIF score for each variable is found alongside the downwards sloping diagonal. In this case they are fairly okay since they are below 4"
      ]
    },
    {
      "cell_type": "markdown",
      "metadata": {
        "id": "AkDU-Hhw1XSg"
      },
      "source": [
        "### Polynomial Regression"
      ]
    },
    {
      "cell_type": "markdown",
      "metadata": {
        "id": "M5yZITdSqYWI"
      },
      "source": [
        "HOME SCORES"
      ]
    },
    {
      "cell_type": "code",
      "metadata": {
        "colab": {
          "base_uri": "https://localhost:8080/",
          "height": 309
        },
        "id": "AI_n4yE-qXtu",
        "outputId": "414e7c64-4af5-4a72-a449-01220b0bbe9d"
      },
      "source": [
        "merged_copy.head()"
      ],
      "execution_count": 89,
      "outputs": [
        {
          "output_type": "execute_result",
          "data": {
            "text/html": [
              "<div>\n",
              "<style scoped>\n",
              "    .dataframe tbody tr th:only-of-type {\n",
              "        vertical-align: middle;\n",
              "    }\n",
              "\n",
              "    .dataframe tbody tr th {\n",
              "        vertical-align: top;\n",
              "    }\n",
              "\n",
              "    .dataframe thead th {\n",
              "        text-align: right;\n",
              "    }\n",
              "</style>\n",
              "<table border=\"1\" class=\"dataframe\">\n",
              "  <thead>\n",
              "    <tr style=\"text-align: right;\">\n",
              "      <th></th>\n",
              "      <th>date</th>\n",
              "      <th>home_team</th>\n",
              "      <th>away_team</th>\n",
              "      <th>home_score</th>\n",
              "      <th>away_score</th>\n",
              "      <th>tournament</th>\n",
              "      <th>country</th>\n",
              "      <th>home_rank</th>\n",
              "      <th>home_country</th>\n",
              "      <th>away_rank</th>\n",
              "      <th>away_country</th>\n",
              "      <th>status</th>\n",
              "    </tr>\n",
              "  </thead>\n",
              "  <tbody>\n",
              "    <tr>\n",
              "      <th>0</th>\n",
              "      <td>1993-08</td>\n",
              "      <td>Colombia</td>\n",
              "      <td>Paraguay</td>\n",
              "      <td>0</td>\n",
              "      <td>0</td>\n",
              "      <td>Other</td>\n",
              "      <td>Colombia</td>\n",
              "      <td>19</td>\n",
              "      <td>Colombia</td>\n",
              "      <td>67</td>\n",
              "      <td>Paraguay</td>\n",
              "      <td>Draw</td>\n",
              "    </tr>\n",
              "    <tr>\n",
              "      <th>1</th>\n",
              "      <td>1993-08</td>\n",
              "      <td>Colombia</td>\n",
              "      <td>Argentina</td>\n",
              "      <td>2</td>\n",
              "      <td>1</td>\n",
              "      <td>Other</td>\n",
              "      <td>Colombia</td>\n",
              "      <td>19</td>\n",
              "      <td>Colombia</td>\n",
              "      <td>5</td>\n",
              "      <td>Argentina</td>\n",
              "      <td>Win</td>\n",
              "    </tr>\n",
              "    <tr>\n",
              "      <th>2</th>\n",
              "      <td>1993-08</td>\n",
              "      <td>Colombia</td>\n",
              "      <td>Peru</td>\n",
              "      <td>4</td>\n",
              "      <td>0</td>\n",
              "      <td>Other</td>\n",
              "      <td>Colombia</td>\n",
              "      <td>19</td>\n",
              "      <td>Colombia</td>\n",
              "      <td>70</td>\n",
              "      <td>Peru</td>\n",
              "      <td>Win</td>\n",
              "    </tr>\n",
              "    <tr>\n",
              "      <th>3</th>\n",
              "      <td>1993-08</td>\n",
              "      <td>Peru</td>\n",
              "      <td>Argentina</td>\n",
              "      <td>0</td>\n",
              "      <td>1</td>\n",
              "      <td>Other</td>\n",
              "      <td>Peru</td>\n",
              "      <td>70</td>\n",
              "      <td>Peru</td>\n",
              "      <td>5</td>\n",
              "      <td>Argentina</td>\n",
              "      <td>Lose</td>\n",
              "    </tr>\n",
              "    <tr>\n",
              "      <th>4</th>\n",
              "      <td>1993-08</td>\n",
              "      <td>Peru</td>\n",
              "      <td>Colombia</td>\n",
              "      <td>0</td>\n",
              "      <td>1</td>\n",
              "      <td>Other</td>\n",
              "      <td>Peru</td>\n",
              "      <td>70</td>\n",
              "      <td>Peru</td>\n",
              "      <td>19</td>\n",
              "      <td>Colombia</td>\n",
              "      <td>Lose</td>\n",
              "    </tr>\n",
              "  </tbody>\n",
              "</table>\n",
              "</div>"
            ],
            "text/plain": [
              "      date home_team  away_team  ...  away_rank  away_country status\n",
              "0  1993-08  Colombia   Paraguay  ...         67      Paraguay   Draw\n",
              "1  1993-08  Colombia  Argentina  ...          5     Argentina    Win\n",
              "2  1993-08  Colombia       Peru  ...         70          Peru    Win\n",
              "3  1993-08      Peru  Argentina  ...          5     Argentina   Lose\n",
              "4  1993-08      Peru   Colombia  ...         19      Colombia   Lose\n",
              "\n",
              "[5 rows x 12 columns]"
            ]
          },
          "metadata": {
            "tags": []
          },
          "execution_count": 89
        }
      ]
    },
    {
      "cell_type": "code",
      "metadata": {
        "colab": {
          "base_uri": "https://localhost:8080/",
          "height": 235
        },
        "id": "svy3KCNCBkzN",
        "outputId": "15c7e67d-ca1c-4d12-a17c-cfc0766d569c"
      },
      "source": [
        "\n",
        "poly_reg_data =  merged_copy.groupby(['home_rank']).mean()\n",
        "\n",
        "poly_reg_data.head()"
      ],
      "execution_count": 90,
      "outputs": [
        {
          "output_type": "execute_result",
          "data": {
            "text/html": [
              "<div>\n",
              "<style scoped>\n",
              "    .dataframe tbody tr th:only-of-type {\n",
              "        vertical-align: middle;\n",
              "    }\n",
              "\n",
              "    .dataframe tbody tr th {\n",
              "        vertical-align: top;\n",
              "    }\n",
              "\n",
              "    .dataframe thead th {\n",
              "        text-align: right;\n",
              "    }\n",
              "</style>\n",
              "<table border=\"1\" class=\"dataframe\">\n",
              "  <thead>\n",
              "    <tr style=\"text-align: right;\">\n",
              "      <th></th>\n",
              "      <th>home_score</th>\n",
              "      <th>away_score</th>\n",
              "      <th>away_rank</th>\n",
              "    </tr>\n",
              "    <tr>\n",
              "      <th>home_rank</th>\n",
              "      <th></th>\n",
              "      <th></th>\n",
              "      <th></th>\n",
              "    </tr>\n",
              "  </thead>\n",
              "  <tbody>\n",
              "    <tr>\n",
              "      <th>1</th>\n",
              "      <td>2.381250</td>\n",
              "      <td>0.643750</td>\n",
              "      <td>36.900000</td>\n",
              "    </tr>\n",
              "    <tr>\n",
              "      <th>2</th>\n",
              "      <td>2.129032</td>\n",
              "      <td>0.658065</td>\n",
              "      <td>42.974194</td>\n",
              "    </tr>\n",
              "    <tr>\n",
              "      <th>3</th>\n",
              "      <td>2.149660</td>\n",
              "      <td>0.768707</td>\n",
              "      <td>39.081633</td>\n",
              "    </tr>\n",
              "    <tr>\n",
              "      <th>4</th>\n",
              "      <td>2.064103</td>\n",
              "      <td>0.737179</td>\n",
              "      <td>43.628205</td>\n",
              "    </tr>\n",
              "    <tr>\n",
              "      <th>5</th>\n",
              "      <td>1.993939</td>\n",
              "      <td>0.757576</td>\n",
              "      <td>43.551515</td>\n",
              "    </tr>\n",
              "  </tbody>\n",
              "</table>\n",
              "</div>"
            ],
            "text/plain": [
              "           home_score  away_score  away_rank\n",
              "home_rank                                   \n",
              "1            2.381250    0.643750  36.900000\n",
              "2            2.129032    0.658065  42.974194\n",
              "3            2.149660    0.768707  39.081633\n",
              "4            2.064103    0.737179  43.628205\n",
              "5            1.993939    0.757576  43.551515"
            ]
          },
          "metadata": {
            "tags": []
          },
          "execution_count": 90
        }
      ]
    },
    {
      "cell_type": "code",
      "metadata": {
        "id": "4E1EfcsRpMXb"
      },
      "source": [
        "# to get the x and y variables\n",
        "\n",
        "X = poly_reg_data.index.values.reshape(-1,1)\n",
        "\n",
        "y = poly_reg_data['home_score'].values.reshape(-1,1)\n"
      ],
      "execution_count": 91,
      "outputs": []
    },
    {
      "cell_type": "code",
      "metadata": {
        "colab": {
          "base_uri": "https://localhost:8080/",
          "height": 295
        },
        "id": "0o3yu8VCCReK",
        "outputId": "8bfc370f-90cc-4f82-c7cd-0d8957fb7c95"
      },
      "source": [
        "#  Visualizing the dataset by plotting a scatter plot\n",
        "\n",
        "plt.scatter(X, y, color='blue') \n",
        "plt.title('Home rank Vs Home score')\n",
        "plt.xlabel('Home Rank')\n",
        "plt.ylabel('Home Score')\n",
        "plt.show()"
      ],
      "execution_count": 92,
      "outputs": [
        {
          "output_type": "display_data",
          "data": {
            "image/png": "[encoded data removed]",
            "text/plain": [
              "<Figure size 432x288 with 1 Axes>"
            ]
          },
          "metadata": {
            "tags": [],
            "needs_background": "light"
          }
        }
      ]
    },
    {
      "cell_type": "code",
      "metadata": {
        "colab": {
          "base_uri": "https://localhost:8080/",
          "height": 559
        },
        "id": "QSm3pokID8Hu",
        "outputId": "f835ed1c-f14b-43ee-a38f-26c2ef6f4fdb"
      },
      "source": [
        "# Split the dataset into train and test sets\n",
        "X_train, y_train, X_test, y_test = train_test_split(X,y, test_size = 0.2, random_state=0)\n",
        "\n",
        "\n",
        "# Fit Linear Regression model to the dataset\n",
        "# to compare the linear regression model to the polynomial regression model\n",
        "reg_line = LinearRegression()\n",
        "reg_line.fit(X,y)\n",
        "\n",
        "# Visualize the Linear Regression results\n",
        "plt.scatter(X, y, color='blue') \n",
        "plt.plot(X, reg_line.predict(X), color='red')\n",
        "plt.title('Linear Regression Home Score Prediction')\n",
        "plt.xlabel('Home Rank')\n",
        "plt.ylabel('Home Score')\n",
        "plt.show()\n",
        "\n",
        "# Fit polynomial Regression to the dataset\n",
        "poly_reg = PolynomialFeatures(degree = 6) \n",
        "X_poly = poly_reg.fit_transform(X)\n",
        "\n",
        "\n",
        "pol_reg = LinearRegression()\n",
        "pol_reg.fit(X_poly, y)\n",
        "\n",
        "\n",
        "#Visualize the Polynomial Regression results\n",
        "plt.scatter(X, y, color='blue') # To help highlight the data points\n",
        "plt.plot(X, pol_reg.predict(X_poly), color='red')\n",
        "plt.title('Polynomial Regression Home Score Prediction')\n",
        "plt.ylabel('Home Score')\n",
        "plt.show()"
      ],
      "execution_count": 93,
      "outputs": [
        {
          "output_type": "display_data",
          "data": {
            "image/png": "[encoded data removed]",
            "text/plain": [
              "<Figure size 432x288 with 1 Axes>"
            ]
          },
          "metadata": {
            "tags": [],
            "needs_background": "light"
          }
        },
        {
          "output_type": "display_data",
          "data": {
            "image/png": "[encoded data removed]",
            "text/plain": [
              "<Figure size 432x288 with 1 Axes>"
            ]
          },
          "metadata": {
            "tags": [],
            "needs_background": "light"
          }
        }
      ]
    },
    {
      "cell_type": "code",
      "metadata": {
        "colab": {
          "base_uri": "https://localhost:8080/"
        },
        "id": "BuT1zf2WIGPv",
        "outputId": "2df5cd3d-6b11-40d2-98e0-3d6dceea0189"
      },
      "source": [
        "# Predict using Polynomial Regression\n",
        "# \n",
        "\n",
        "poly_pred = pol_reg.predict(poly_reg.fit_transform([[6.5]]))\n",
        "print('Polynomial prediction: %d' %poly_pred)\n",
        "\n"
      ],
      "execution_count": 94,
      "outputs": [
        {
          "output_type": "stream",
          "text": [
            "Polynomial prediction: 2\n"
          ],
          "name": "stdout"
        }
      ]
    },
    {
      "cell_type": "markdown",
      "metadata": {
        "id": "UjkwLXnYKfFE"
      },
      "source": [
        "Cross validation using KFold"
      ]
    },
    {
      "cell_type": "code",
      "metadata": {
        "colab": {
          "base_uri": "https://localhost:8080/"
        },
        "id": "xdn-yRTVKci6",
        "outputId": "6097d110-3f7b-4f1f-f0e2-bee5d4627228"
      },
      "source": [
        "from sklearn.model_selection import KFold\n",
        "from sklearn import metrics\n",
        "\n",
        "folds = KFold(n_splits=5)\n",
        "\n",
        "print('we are using ' +str(folds.get_n_splits(X)) + ' folds')\n",
        "\n",
        "# We now create and assess 5 models based on the folds we created.\n",
        "RMSES = [] # We will use this array to keep track of the RSME of each model\n",
        "count = 1  \n",
        "for train_index, test_index in folds.split(X):\n",
        "  print('\\nTraining model ' + str(count))\n",
        "  \n",
        "  # set up the train and test based on the split determined by KFold\n",
        "  # With 5 folds, we will end up with 80% of our data in the training set, and 20% in the test set, just as above\n",
        "  X_train, X_test = X[train_index], X[test_index]\n",
        "  y_train, y_test = y[train_index], y[test_index]\n",
        "  \n",
        "  # fit a model accordingly\n",
        "  regressor = LinearRegression()  \n",
        "  regressor.fit(X_train, y_train)\n",
        "  \n",
        "  # assess the accuraccy of the model\n",
        "  y_pred = regressor.predict(X_test)\n",
        "  \n",
        "  rmse_value =  np.sqrt(metrics.mean_squared_error(y_test, y_pred))\n",
        "  RMSES.append(rmse_value)\n",
        "  \n",
        "  print('Model ' + str(count) + ' Root Mean Squared Error:',rmse_value)\n",
        "  count = count + 1"
      ],
      "execution_count": 95,
      "outputs": [
        {
          "output_type": "stream",
          "text": [
            "we are using 5 folds\n",
            "\n",
            "Training model 1\n",
            "Model 1 Root Mean Squared Error: 0.16912367657615585\n",
            "\n",
            "Training model 2\n",
            "Model 2 Root Mean Squared Error: 0.18783619177916167\n",
            "\n",
            "Training model 3\n",
            "Model 3 Root Mean Squared Error: 0.1805771493419052\n",
            "\n",
            "Training model 4\n",
            "Model 4 Root Mean Squared Error: 0.3693381330626695\n",
            "\n",
            "Training model 5\n",
            "Model 5 Root Mean Squared Error: 0.507060740456974\n"
          ],
          "name": "stdout"
        }
      ]
    },
    {
      "cell_type": "markdown",
      "metadata": {
        "id": "pquTJoErxKtm"
      },
      "source": [
        "Model 1 has the least RMSE making it most suitable for making presictions of the home scores"
      ]
    },
    {
      "cell_type": "markdown",
      "metadata": {
        "id": "W0PP8zHgkp7F"
      },
      "source": [
        "Residual Plots"
      ]
    },
    {
      "cell_type": "code",
      "metadata": {
        "colab": {
          "base_uri": "https://localhost:8080/"
        },
        "id": "VbBuXytOktwX",
        "outputId": "7626b458-9689-41b7-fd9c-480ef8b5f891"
      },
      "source": [
        "residuals = np.subtract(y_pred, y_test)\n",
        "\n",
        "# Let's describe our residual:\n",
        "pd.DataFrame(residuals).describe()\n",
        "\n",
        "residuals.mean()"
      ],
      "execution_count": 96,
      "outputs": [
        {
          "output_type": "execute_result",
          "data": {
            "text/plain": [
              "0.2558189287562787"
            ]
          },
          "metadata": {
            "tags": []
          },
          "execution_count": 96
        }
      ]
    },
    {
      "cell_type": "code",
      "metadata": {
        "colab": {
          "base_uri": "https://localhost:8080/",
          "height": 280
        },
        "id": "mNdUSOd3qnp1",
        "outputId": "a40832a8-8d03-4a23-bd27-81f38c45b9f4"
      },
      "source": [
        "# plotting our residuals\n",
        "# \n",
        "\n",
        "import matplotlib.pyplot as plt\n",
        "\n",
        "plt.scatter(y_pred, residuals, color='black')\n",
        "plt.ylabel('residual')\n",
        "plt.xlabel('fitted values')\n",
        "plt.axhline(y= residuals.mean(), color='red', linewidth=1)\n",
        "plt.show()"
      ],
      "execution_count": 97,
      "outputs": [
        {
          "output_type": "display_data",
          "data": {
            "image/png": "[encoded data removed]",
            "text/plain": [
              "<Figure size 432x288 with 1 Axes>"
            ]
          },
          "metadata": {
            "tags": [],
            "needs_background": "light"
          }
        }
      ]
    },
    {
      "cell_type": "markdown",
      "metadata": {
        "id": "BUTgvPrfq7tt"
      },
      "source": [
        "Heteroskedasticity"
      ]
    },
    {
      "cell_type": "code",
      "metadata": {
        "id": "2_NAMgP6q_lz"
      },
      "source": [
        "import scipy as sp\n",
        "\n",
        "test_result, p_value = sp.stats.bartlett(y_pred, residuals)\n",
        "\n",
        "# To interpret the results we must also compute a critical value of the chi squared distribution\n",
        "degree_of_freedom = len(y_pred)-1\n",
        "probability = 1 - p_value\n",
        "\n",
        "critical_value = sp.stats.chi2.ppf(probability, degree_of_freedom)\n",
        "print(critical_value)\n",
        "\n",
        "# If the test_result is greater than the critical value, then we reject our null\n",
        "# hypothesis. This would mean that there are patterns to the variance of the data\n",
        "\n",
        "# Otherwise, we can identify no patterns, and we accept the null hypothesis that \n",
        "# the variance is homogeneous across our data\n",
        "\n",
        "if (test_result > critical_value):\n",
        "  print('the variances are unequal, and the model should be reassessed')\n",
        "else:\n",
        "  print('the variances are homogeneous!')"
      ],
      "execution_count": null,
      "outputs": []
    },
    {
      "cell_type": "markdown",
      "metadata": {
        "id": "Z8i-4RKaPUtv"
      },
      "source": [
        "AWAY SCORES"
      ]
    },
    {
      "cell_type": "code",
      "metadata": {
        "colab": {
          "base_uri": "https://localhost:8080/",
          "height": 235
        },
        "id": "UihMnxTmPXOd",
        "outputId": "bd9a0de3-4e50-448e-afef-e2038228adcb"
      },
      "source": [
        "poly_reg_data1 =  merged_copy.groupby(['away_rank']).mean()\n",
        "\n",
        "poly_reg_data1.head()"
      ],
      "execution_count": 106,
      "outputs": [
        {
          "output_type": "execute_result",
          "data": {
            "text/html": [
              "<div>\n",
              "<style scoped>\n",
              "    .dataframe tbody tr th:only-of-type {\n",
              "        vertical-align: middle;\n",
              "    }\n",
              "\n",
              "    .dataframe tbody tr th {\n",
              "        vertical-align: top;\n",
              "    }\n",
              "\n",
              "    .dataframe thead th {\n",
              "        text-align: right;\n",
              "    }\n",
              "</style>\n",
              "<table border=\"1\" class=\"dataframe\">\n",
              "  <thead>\n",
              "    <tr style=\"text-align: right;\">\n",
              "      <th></th>\n",
              "      <th>home_score</th>\n",
              "      <th>away_score</th>\n",
              "      <th>home_rank</th>\n",
              "      <th>status</th>\n",
              "    </tr>\n",
              "    <tr>\n",
              "      <th>away_rank</th>\n",
              "      <th></th>\n",
              "      <th></th>\n",
              "      <th></th>\n",
              "      <th></th>\n",
              "    </tr>\n",
              "  </thead>\n",
              "  <tbody>\n",
              "    <tr>\n",
              "      <th>1</th>\n",
              "      <td>0.891026</td>\n",
              "      <td>1.980769</td>\n",
              "      <td>39.147436</td>\n",
              "      <td>0.935897</td>\n",
              "    </tr>\n",
              "    <tr>\n",
              "      <th>2</th>\n",
              "      <td>0.786207</td>\n",
              "      <td>1.855172</td>\n",
              "      <td>42.834483</td>\n",
              "      <td>0.924138</td>\n",
              "    </tr>\n",
              "    <tr>\n",
              "      <th>3</th>\n",
              "      <td>0.946565</td>\n",
              "      <td>1.893130</td>\n",
              "      <td>46.290076</td>\n",
              "      <td>0.862595</td>\n",
              "    </tr>\n",
              "    <tr>\n",
              "      <th>4</th>\n",
              "      <td>0.818841</td>\n",
              "      <td>1.601449</td>\n",
              "      <td>43.014493</td>\n",
              "      <td>0.963768</td>\n",
              "    </tr>\n",
              "    <tr>\n",
              "      <th>5</th>\n",
              "      <td>1.141732</td>\n",
              "      <td>1.724409</td>\n",
              "      <td>37.322835</td>\n",
              "      <td>1.015748</td>\n",
              "    </tr>\n",
              "  </tbody>\n",
              "</table>\n",
              "</div>"
            ],
            "text/plain": [
              "           home_score  away_score  home_rank    status\n",
              "away_rank                                             \n",
              "1            0.891026    1.980769  39.147436  0.935897\n",
              "2            0.786207    1.855172  42.834483  0.924138\n",
              "3            0.946565    1.893130  46.290076  0.862595\n",
              "4            0.818841    1.601449  43.014493  0.963768\n",
              "5            1.141732    1.724409  37.322835  1.015748"
            ]
          },
          "metadata": {
            "tags": []
          },
          "execution_count": 106
        }
      ]
    },
    {
      "cell_type": "code",
      "metadata": {
        "id": "mXqQNp1QP5V-"
      },
      "source": [
        "# to get the x and y variables\n",
        "\n",
        "x = poly_reg_data1.index.values.reshape(-1,1)\n",
        "\n",
        "Y = poly_reg_data1['away_score'].values.reshape(-1,1)"
      ],
      "execution_count": 107,
      "outputs": []
    },
    {
      "cell_type": "code",
      "metadata": {
        "colab": {
          "base_uri": "https://localhost:8080/",
          "height": 295
        },
        "id": "he_DVwH4QEDM",
        "outputId": "e0b4f3cb-5d5e-49ed-c3cc-4a441d2647f9"
      },
      "source": [
        "#  Visualizing the dataset by plotting a scatter plot\n",
        "\n",
        "plt.scatter(x, Y, color='navy') \n",
        "plt.title('away rank Vs away score')\n",
        "plt.xlabel('away Rank')\n",
        "plt.ylabel('away Score')\n",
        "plt.show()"
      ],
      "execution_count": 108,
      "outputs": [
        {
          "output_type": "display_data",
          "data": {
            "image/png": "[encoded data removed]",
            "text/plain": [
              "<Figure size 432x288 with 1 Axes>"
            ]
          },
          "metadata": {
            "tags": [],
            "needs_background": "light"
          }
        }
      ]
    },
    {
      "cell_type": "code",
      "metadata": {
        "colab": {
          "base_uri": "https://localhost:8080/",
          "height": 573
        },
        "id": "4lhhQRoqRrf2",
        "outputId": "bf004dfb-e237-49cd-b5da-d3790dc89662"
      },
      "source": [
        "# Split the dataset into train and test sets\n",
        "x_train, Y_train, x_test, Y_test = train_test_split(x,Y, test_size = 0.2, random_state=0)\n",
        "\n",
        "\n",
        "# Fit Linear Regression model to the dataset\n",
        "# to compare the linear regression model to the polynomial regression model\n",
        "reg_line = LinearRegression()\n",
        "reg_line.fit(x,Y)\n",
        "\n",
        "# Visualize the Linear Regression results\n",
        "plt.scatter(x,Y, color='blue') \n",
        "plt.plot(x, reg_line.predict(x), color='red')\n",
        "plt.title('Linear Regression away Score Prediction')\n",
        "plt.xlabel('away Rank')\n",
        "plt.ylabel('away Score')\n",
        "plt.show()\n",
        "\n",
        "# Fit polynomial Regression to the dataset\n",
        "poly_reg = PolynomialFeatures(degree = 6) \n",
        "x_poly = poly_reg.fit_transform(x)\n",
        "\n",
        "\n",
        "pol_reg = LinearRegression()\n",
        "pol_reg.fit(x_poly, Y)\n",
        "\n",
        "\n",
        "#Visualize the Polynomial Regression results\n",
        "plt.scatter(x, Y, color='blue') # To help highlight the data points\n",
        "plt.plot(x, pol_reg.predict(x_poly), color='red')\n",
        "plt.title('Polynomial Regression away Score Prediction')\n",
        "plt.xlabel('away rank')\n",
        "plt.ylabel('away Score')\n",
        "plt.show()"
      ],
      "execution_count": 109,
      "outputs": [
        {
          "output_type": "display_data",
          "data": {
            "image/png": "[encoded data removed]",
            "text/plain": [
              "<Figure size 432x288 with 1 Axes>"
            ]
          },
          "metadata": {
            "tags": [],
            "needs_background": "light"
          }
        },
        {
          "output_type": "display_data",
          "data": {
            "image/png": "[encoded data removed]",
            "text/plain": [
              "<Figure size 432x288 with 1 Axes>"
            ]
          },
          "metadata": {
            "tags": [],
            "needs_background": "light"
          }
        }
      ]
    },
    {
      "cell_type": "code",
      "metadata": {
        "colab": {
          "base_uri": "https://localhost:8080/"
        },
        "id": "NJKJkyvjrCR5",
        "outputId": "ef4c010e-ea3d-42fb-82c0-b0b280a2ec3a"
      },
      "source": [
        "# Predict using Polynomial Regression\n",
        "# \n",
        "poly_pred = pol_reg.predict(poly_reg.fit_transform([[6.5]]))\n",
        "print('Polynomial prediction: %d' %poly_pred)\n",
        "\n",
        "\n"
      ],
      "execution_count": 110,
      "outputs": [
        {
          "output_type": "stream",
          "text": [
            "Polynomial prediction: 1\n"
          ],
          "name": "stdout"
        }
      ]
    },
    {
      "cell_type": "markdown",
      "metadata": {
        "id": "Xryqt6EOX_jp"
      },
      "source": [
        "Cross Validation with KFold"
      ]
    },
    {
      "cell_type": "code",
      "metadata": {
        "colab": {
          "base_uri": "https://localhost:8080/"
        },
        "id": "0AqVxyMkYDlL",
        "outputId": "74124d6c-5798-4e26-d620-5f7763286d51"
      },
      "source": [
        "from sklearn.model_selection import KFold\n",
        "from sklearn import metrics\n",
        "\n",
        "folds = KFold(n_splits=5)\n",
        "\n",
        "print('we are using ' +str(folds.get_n_splits(x)) + ' folds')\n",
        "\n",
        "# We now create and assess 5 models based on the folds we created.\n",
        "RMSES = [] # We will use this array to keep track of the RSME of each model\n",
        "count = 1 \n",
        "for train_index, test_index in folds.split(x):\n",
        "  print('\\nTraining model ' + str(count))\n",
        "  \n",
        "  # set up the train and test based on the split determined by KFold\n",
        "  # With 5 folds, we will end up with 80% of our data in the training set, and 20% in the test set, just as above\n",
        "  x_train, x_test = x[train_index], x[test_index]\n",
        "  Y_train, Y_test = Y[train_index], Y[test_index]\n",
        "  \n",
        "  # fit a model accordingly\n",
        "  regressor = LinearRegression()  \n",
        "  regressor.fit(x_train, Y_train)\n",
        "  \n",
        "  # assess the accuraccy of the model\n",
        "  Y_pred = regressor.predict(x_test)\n",
        "  \n",
        "  rmse_value =  np.sqrt(metrics.mean_squared_error(Y_test, Y_pred))\n",
        "  RMSES.append(rmse_value)\n",
        "  \n",
        "  print('Model ' + str(count) + ' Root Mean Squared Error:',rmse_value)\n",
        "  count = count + 1"
      ],
      "execution_count": 111,
      "outputs": [
        {
          "output_type": "stream",
          "text": [
            "we are using 5 folds\n",
            "\n",
            "Training model 1\n",
            "Model 1 Root Mean Squared Error: 0.27192449474057717\n",
            "\n",
            "Training model 2\n",
            "Model 2 Root Mean Squared Error: 0.17006607622918926\n",
            "\n",
            "Training model 3\n",
            "Model 3 Root Mean Squared Error: 0.13550916830450604\n",
            "\n",
            "Training model 4\n",
            "Model 4 Root Mean Squared Error: 0.21863810731553593\n",
            "\n",
            "Training model 5\n",
            "Model 5 Root Mean Squared Error: 0.29830126924426864\n"
          ],
          "name": "stdout"
        }
      ]
    },
    {
      "cell_type": "markdown",
      "metadata": {
        "id": "hKj2Qp8iw7Qa"
      },
      "source": [
        "Model 3 has the least RMSE making it most suitable for making predictions"
      ]
    },
    {
      "cell_type": "code",
      "metadata": {
        "colab": {
          "base_uri": "https://localhost:8080/"
        },
        "id": "HZVOmQHhl0DD",
        "outputId": "433c8688-bb76-49eb-a7d7-14c89b499812"
      },
      "source": [
        "residuals1 = np.subtract(Y_pred, Y_test)\n",
        "\n",
        "# Let's describe our residual:\n",
        "pd.DataFrame(residuals).describe()\n",
        "\n",
        "residuals1.mean()"
      ],
      "execution_count": 112,
      "outputs": [
        {
          "output_type": "execute_result",
          "data": {
            "text/plain": [
              "-0.019846947913330807"
            ]
          },
          "metadata": {
            "tags": []
          },
          "execution_count": 112
        }
      ]
    },
    {
      "cell_type": "code",
      "metadata": {
        "colab": {
          "base_uri": "https://localhost:8080/",
          "height": 281
        },
        "id": "PIfEMygBmD7u",
        "outputId": "a0d5acc0-a5f9-40b0-d487-3f16922317b2"
      },
      "source": [
        "import matplotlib.pyplot as plt\n",
        "\n",
        "plt.scatter(Y_pred, residuals1, color='black')\n",
        "plt.ylabel('residual')\n",
        "plt.xlabel('fitted values')\n",
        "plt.axhline(y= residuals.mean(), color='red', linewidth=1)\n",
        "plt.show()"
      ],
      "execution_count": 113,
      "outputs": [
        {
          "output_type": "display_data",
          "data": {
            "image/png": "[encoded data removed]",
            "text/plain": [
              "<Figure size 432x288 with 1 Axes>"
            ]
          },
          "metadata": {
            "tags": [],
            "needs_background": "light"
          }
        }
      ]
    },
    {
      "cell_type": "code",
      "metadata": {
        "id": "r6XQR-mWmX7m"
      },
      "source": [
        "import scipy as sp\n",
        "\n",
        "test_result, p_value = sp.stats.bartlett(Y_pred, residuals1)\n",
        "\n",
        "# To interpret the results we must also compute a critical value of the chi squared distribution\n",
        "degree_of_freedom = len(Y_pred)-1\n",
        "probability = 1 - p_value\n",
        "\n",
        "critical_value = sp.stats.chi2.ppf(probability, degree_of_freedom)\n",
        "print(critical_value)\n",
        "\n",
        "# If the test_result is greater than the critical value, then we reject our null\n",
        "# hypothesis. This would mean that there are patterns to the variance of the data\n",
        "\n",
        "# Otherwise, we can identify no patterns, and we accept the null hypothesis that \n",
        "# the variance is homogeneous across our data\n",
        "\n",
        "if (test_result > critical_value):\n",
        "  print('the variances are unequal, and the model should be reassessed')\n",
        "else:\n",
        "  print('the variances are homogeneous!')\n"
      ],
      "execution_count": null,
      "outputs": []
    },
    {
      "cell_type": "markdown",
      "metadata": {
        "id": "k4MQyRCjYumz"
      },
      "source": [
        "### Logistic Regression"
      ]
    },
    {
      "cell_type": "code",
      "metadata": {
        "id": "tpMe9jtXclX3",
        "colab": {
          "base_uri": "https://localhost:8080/",
          "height": 309
        },
        "outputId": "e2e561ed-7e93-46ca-cea5-013a0d1d47a6"
      },
      "source": [
        "merged_copy.head()"
      ],
      "execution_count": 99,
      "outputs": [
        {
          "output_type": "execute_result",
          "data": {
            "text/html": [
              "<div>\n",
              "<style scoped>\n",
              "    .dataframe tbody tr th:only-of-type {\n",
              "        vertical-align: middle;\n",
              "    }\n",
              "\n",
              "    .dataframe tbody tr th {\n",
              "        vertical-align: top;\n",
              "    }\n",
              "\n",
              "    .dataframe thead th {\n",
              "        text-align: right;\n",
              "    }\n",
              "</style>\n",
              "<table border=\"1\" class=\"dataframe\">\n",
              "  <thead>\n",
              "    <tr style=\"text-align: right;\">\n",
              "      <th></th>\n",
              "      <th>date</th>\n",
              "      <th>home_team</th>\n",
              "      <th>away_team</th>\n",
              "      <th>home_score</th>\n",
              "      <th>away_score</th>\n",
              "      <th>tournament</th>\n",
              "      <th>country</th>\n",
              "      <th>home_rank</th>\n",
              "      <th>home_country</th>\n",
              "      <th>away_rank</th>\n",
              "      <th>away_country</th>\n",
              "      <th>status</th>\n",
              "    </tr>\n",
              "  </thead>\n",
              "  <tbody>\n",
              "    <tr>\n",
              "      <th>0</th>\n",
              "      <td>1993-08</td>\n",
              "      <td>Colombia</td>\n",
              "      <td>Paraguay</td>\n",
              "      <td>0</td>\n",
              "      <td>0</td>\n",
              "      <td>Other</td>\n",
              "      <td>Colombia</td>\n",
              "      <td>19</td>\n",
              "      <td>Colombia</td>\n",
              "      <td>67</td>\n",
              "      <td>Paraguay</td>\n",
              "      <td>Draw</td>\n",
              "    </tr>\n",
              "    <tr>\n",
              "      <th>1</th>\n",
              "      <td>1993-08</td>\n",
              "      <td>Colombia</td>\n",
              "      <td>Argentina</td>\n",
              "      <td>2</td>\n",
              "      <td>1</td>\n",
              "      <td>Other</td>\n",
              "      <td>Colombia</td>\n",
              "      <td>19</td>\n",
              "      <td>Colombia</td>\n",
              "      <td>5</td>\n",
              "      <td>Argentina</td>\n",
              "      <td>Win</td>\n",
              "    </tr>\n",
              "    <tr>\n",
              "      <th>2</th>\n",
              "      <td>1993-08</td>\n",
              "      <td>Colombia</td>\n",
              "      <td>Peru</td>\n",
              "      <td>4</td>\n",
              "      <td>0</td>\n",
              "      <td>Other</td>\n",
              "      <td>Colombia</td>\n",
              "      <td>19</td>\n",
              "      <td>Colombia</td>\n",
              "      <td>70</td>\n",
              "      <td>Peru</td>\n",
              "      <td>Win</td>\n",
              "    </tr>\n",
              "    <tr>\n",
              "      <th>3</th>\n",
              "      <td>1993-08</td>\n",
              "      <td>Peru</td>\n",
              "      <td>Argentina</td>\n",
              "      <td>0</td>\n",
              "      <td>1</td>\n",
              "      <td>Other</td>\n",
              "      <td>Peru</td>\n",
              "      <td>70</td>\n",
              "      <td>Peru</td>\n",
              "      <td>5</td>\n",
              "      <td>Argentina</td>\n",
              "      <td>Lose</td>\n",
              "    </tr>\n",
              "    <tr>\n",
              "      <th>4</th>\n",
              "      <td>1993-08</td>\n",
              "      <td>Peru</td>\n",
              "      <td>Colombia</td>\n",
              "      <td>0</td>\n",
              "      <td>1</td>\n",
              "      <td>Other</td>\n",
              "      <td>Peru</td>\n",
              "      <td>70</td>\n",
              "      <td>Peru</td>\n",
              "      <td>19</td>\n",
              "      <td>Colombia</td>\n",
              "      <td>Lose</td>\n",
              "    </tr>\n",
              "  </tbody>\n",
              "</table>\n",
              "</div>"
            ],
            "text/plain": [
              "      date home_team  away_team  ...  away_rank  away_country status\n",
              "0  1993-08  Colombia   Paraguay  ...         67      Paraguay   Draw\n",
              "1  1993-08  Colombia  Argentina  ...          5     Argentina    Win\n",
              "2  1993-08  Colombia       Peru  ...         70          Peru    Win\n",
              "3  1993-08      Peru  Argentina  ...          5     Argentina   Lose\n",
              "4  1993-08      Peru   Colombia  ...         19      Colombia   Lose\n",
              "\n",
              "[5 rows x 12 columns]"
            ]
          },
          "metadata": {
            "tags": []
          },
          "execution_count": 99
        }
      ]
    },
    {
      "cell_type": "code",
      "metadata": {
        "colab": {
          "base_uri": "https://localhost:8080/",
          "height": 309
        },
        "id": "IWJqALlBd8--",
        "outputId": "424d0480-2dea-4ba1-dce8-226ef928bf0d"
      },
      "source": [
        "# performing label encoding\n",
        "# \n",
        "\n",
        "from sklearn import preprocessing\n",
        " \n",
        "lc = preprocessing.LabelEncoder() \n",
        " \n",
        "merged_copy['status']= lc.fit_transform(merged_copy['status']) \n",
        "\n",
        "merged_copy['status'].unique()\n",
        "\n",
        "#Previewing the dataset\n",
        "merged_copy.head()"
      ],
      "execution_count": 100,
      "outputs": [
        {
          "output_type": "execute_result",
          "data": {
            "text/html": [
              "<div>\n",
              "<style scoped>\n",
              "    .dataframe tbody tr th:only-of-type {\n",
              "        vertical-align: middle;\n",
              "    }\n",
              "\n",
              "    .dataframe tbody tr th {\n",
              "        vertical-align: top;\n",
              "    }\n",
              "\n",
              "    .dataframe thead th {\n",
              "        text-align: right;\n",
              "    }\n",
              "</style>\n",
              "<table border=\"1\" class=\"dataframe\">\n",
              "  <thead>\n",
              "    <tr style=\"text-align: right;\">\n",
              "      <th></th>\n",
              "      <th>date</th>\n",
              "      <th>home_team</th>\n",
              "      <th>away_team</th>\n",
              "      <th>home_score</th>\n",
              "      <th>away_score</th>\n",
              "      <th>tournament</th>\n",
              "      <th>country</th>\n",
              "      <th>home_rank</th>\n",
              "      <th>home_country</th>\n",
              "      <th>away_rank</th>\n",
              "      <th>away_country</th>\n",
              "      <th>status</th>\n",
              "    </tr>\n",
              "  </thead>\n",
              "  <tbody>\n",
              "    <tr>\n",
              "      <th>0</th>\n",
              "      <td>1993-08</td>\n",
              "      <td>Colombia</td>\n",
              "      <td>Paraguay</td>\n",
              "      <td>0</td>\n",
              "      <td>0</td>\n",
              "      <td>Other</td>\n",
              "      <td>Colombia</td>\n",
              "      <td>19</td>\n",
              "      <td>Colombia</td>\n",
              "      <td>67</td>\n",
              "      <td>Paraguay</td>\n",
              "      <td>0</td>\n",
              "    </tr>\n",
              "    <tr>\n",
              "      <th>1</th>\n",
              "      <td>1993-08</td>\n",
              "      <td>Colombia</td>\n",
              "      <td>Argentina</td>\n",
              "      <td>2</td>\n",
              "      <td>1</td>\n",
              "      <td>Other</td>\n",
              "      <td>Colombia</td>\n",
              "      <td>19</td>\n",
              "      <td>Colombia</td>\n",
              "      <td>5</td>\n",
              "      <td>Argentina</td>\n",
              "      <td>2</td>\n",
              "    </tr>\n",
              "    <tr>\n",
              "      <th>2</th>\n",
              "      <td>1993-08</td>\n",
              "      <td>Colombia</td>\n",
              "      <td>Peru</td>\n",
              "      <td>4</td>\n",
              "      <td>0</td>\n",
              "      <td>Other</td>\n",
              "      <td>Colombia</td>\n",
              "      <td>19</td>\n",
              "      <td>Colombia</td>\n",
              "      <td>70</td>\n",
              "      <td>Peru</td>\n",
              "      <td>2</td>\n",
              "    </tr>\n",
              "    <tr>\n",
              "      <th>3</th>\n",
              "      <td>1993-08</td>\n",
              "      <td>Peru</td>\n",
              "      <td>Argentina</td>\n",
              "      <td>0</td>\n",
              "      <td>1</td>\n",
              "      <td>Other</td>\n",
              "      <td>Peru</td>\n",
              "      <td>70</td>\n",
              "      <td>Peru</td>\n",
              "      <td>5</td>\n",
              "      <td>Argentina</td>\n",
              "      <td>1</td>\n",
              "    </tr>\n",
              "    <tr>\n",
              "      <th>4</th>\n",
              "      <td>1993-08</td>\n",
              "      <td>Peru</td>\n",
              "      <td>Colombia</td>\n",
              "      <td>0</td>\n",
              "      <td>1</td>\n",
              "      <td>Other</td>\n",
              "      <td>Peru</td>\n",
              "      <td>70</td>\n",
              "      <td>Peru</td>\n",
              "      <td>19</td>\n",
              "      <td>Colombia</td>\n",
              "      <td>1</td>\n",
              "    </tr>\n",
              "  </tbody>\n",
              "</table>\n",
              "</div>"
            ],
            "text/plain": [
              "      date home_team  away_team  ...  away_rank  away_country status\n",
              "0  1993-08  Colombia   Paraguay  ...         67      Paraguay      0\n",
              "1  1993-08  Colombia  Argentina  ...          5     Argentina      2\n",
              "2  1993-08  Colombia       Peru  ...         70          Peru      2\n",
              "3  1993-08      Peru  Argentina  ...          5     Argentina      1\n",
              "4  1993-08      Peru   Colombia  ...         19      Colombia      1\n",
              "\n",
              "[5 rows x 12 columns]"
            ]
          },
          "metadata": {
            "tags": []
          },
          "execution_count": 100
        }
      ]
    },
    {
      "cell_type": "code",
      "metadata": {
        "id": "t9pugnb-ia-R"
      },
      "source": [
        "# Splitting our dataset\n",
        "#\n",
        "X = merged_copy[['home_score', 'away_score', 'home_rank', 'away_rank']]\n",
        "y = merged_copy['status']\n",
        "\n",
        "from sklearn.model_selection import train_test_split\n",
        "X_train, X_test, y_train, y_test = train_test_split(X, y, test_size = .3, random_state=25)"
      ],
      "execution_count": 101,
      "outputs": []
    },
    {
      "cell_type": "code",
      "metadata": {
        "colab": {
          "base_uri": "https://localhost:8080/"
        },
        "id": "D6T7tLhHinkc",
        "outputId": "bb910d68-7146-4c12-ea8d-0239ed654802"
      },
      "source": [
        "# Fitting our model\n",
        "# \n",
        "from sklearn.linear_model import LogisticRegression\n",
        "\n",
        "LogReg = LogisticRegression()\n",
        "LogReg.fit(X_train, y_train)"
      ],
      "execution_count": 102,
      "outputs": [
        {
          "output_type": "stream",
          "text": [
            "/usr/local/lib/python3.7/dist-packages/sklearn/linear_model/_logistic.py:940: ConvergenceWarning: lbfgs failed to converge (status=1):\n",
            "STOP: TOTAL NO. of ITERATIONS REACHED LIMIT.\n",
            "\n",
            "Increase the number of iterations (max_iter) or scale the data as shown in:\n",
            "    https://scikit-learn.org/stable/modules/preprocessing.html\n",
            "Please also refer to the documentation for alternative solver options:\n",
            "    https://scikit-learn.org/stable/modules/linear_model.html#logistic-regression\n",
            "  extra_warning_msg=_LOGISTIC_SOLVER_CONVERGENCE_MSG)\n"
          ],
          "name": "stderr"
        },
        {
          "output_type": "execute_result",
          "data": {
            "text/plain": [
              "LogisticRegression(C=1.0, class_weight=None, dual=False, fit_intercept=True,\n",
              "                   intercept_scaling=1, l1_ratio=None, max_iter=100,\n",
              "                   multi_class='auto', n_jobs=None, penalty='l2',\n",
              "                   random_state=None, solver='lbfgs', tol=0.0001, verbose=0,\n",
              "                   warm_start=False)"
            ]
          },
          "metadata": {
            "tags": []
          },
          "execution_count": 102
        }
      ]
    },
    {
      "cell_type": "code",
      "metadata": {
        "id": "HxoOp3nAkCMO"
      },
      "source": [
        "# Using our model to make a prediction\n",
        "#\n",
        "y_pred = LogReg.predict(X_test)"
      ],
      "execution_count": 103,
      "outputs": []
    },
    {
      "cell_type": "code",
      "metadata": {
        "colab": {
          "base_uri": "https://localhost:8080/"
        },
        "id": "zNj9Jo3-kAXT",
        "outputId": "6cf209ae-32db-4e02-a20d-8e3984bd62b3"
      },
      "source": [
        "# Evaluating the model\n",
        "#\n",
        "from sklearn.metrics import confusion_matrix\n",
        "confusion_matrix = confusion_matrix(y_test, y_pred)\n",
        "confusion_matrix\n",
        "\n",
        "# The results from the confusion matrix tell us that 1236,1418 and 2405 are the number of correct predictions. \n"
      ],
      "execution_count": 104,
      "outputs": [
        {
          "output_type": "execute_result",
          "data": {
            "text/plain": [
              "array([[1236,    0,    0],\n",
              "       [   0, 1418,    0],\n",
              "       [   0,    0, 2405]])"
            ]
          },
          "metadata": {
            "tags": []
          },
          "execution_count": 104
        }
      ]
    },
    {
      "cell_type": "code",
      "metadata": {
        "colab": {
          "base_uri": "https://localhost:8080/"
        },
        "id": "fJZaHbJQx_XR",
        "outputId": "6e57620d-0325-4074-a93e-018b03f9fd23"
      },
      "source": [
        "# use accuracy_score function to compute the accuracy of the model\n",
        "from sklearn.metrics import accuracy_score\n",
        "\n",
        "accuracy1 = accuracy_score(y_test, y_pred)\n",
        "\n",
        "# print the accuracy value\n",
        "print('Accuracy: ', accuracy1)\n",
        "\n",
        "print(\"\")\n",
        "\n",
        "# import confusion_matrix to be used in creating a confusion matrix of the predictions\n",
        "from sklearn.metrics import confusion_matrix\n",
        "\n",
        "# apply confusion matrix to y_test and y_prediction to obtain number of correct and wrong predictions per category\n",
        "confusion_matrix1 = confusion_matrix(y_test, y_pred)\n",
        "# print the matrix\n",
        "print('Confusion Matrix') \n",
        "print(confusion_matrix1)"
      ],
      "execution_count": 105,
      "outputs": [
        {
          "output_type": "stream",
          "text": [
            "Accuracy:  1.0\n",
            "\n",
            "Confusion Matrix\n",
            "[[1236    0    0]\n",
            " [   0 1418    0]\n",
            " [   0    0 2405]]\n"
          ],
          "name": "stdout"
        }
      ]
    },
    {
      "cell_type": "markdown",
      "metadata": {
        "id": "lQ2G4ZPDVOXE"
      },
      "source": [
        "##**8**. Challenging the solution"
      ]
    },
    {
      "cell_type": "markdown",
      "metadata": {
        "id": "xrmHVMVsVS--"
      },
      "source": [
        "##**9**. Follow up questions"
      ]
    },
    {
      "cell_type": "markdown",
      "metadata": {
        "id": "pth2qSWhuBIy"
      },
      "source": [
        "> At this point, we can refine our question or collect new data, all in an iterative process to get at the truth.\n",
        "\n"
      ]
    },
    {
      "cell_type": "markdown",
      "metadata": {
        "id": "HPQviDmNtta8"
      },
      "source": [
        "### a). Did we have the right data?\n",
        "\n",
        "Yes we did, we had a good sample size that looked into key factors that would help us predict the game scores\n",
        "\n"
      ]
    },
    {
      "cell_type": "markdown",
      "metadata": {
        "id": "qjFHK1CKty7o"
      },
      "source": [
        "### b). Do we need other data to answer our question?\n",
        "Not necessarily because the dataset we used answered our question."
      ]
    },
    {
      "cell_type": "markdown",
      "metadata": {
        "id": "HSsicSdvt4Zs"
      },
      "source": [
        "### c). Did we have the right question?\n",
        "\n",
        "Yes we did, we were able to create models that helped made predictions of the game scores\n"
      ]
    },
    {
      "cell_type": "markdown",
      "metadata": {
        "id": "i_pmKuIn1nyg"
      },
      "source": [
        "### Conclusion\n",
        "Our logistic Regression model has an accuracy of 1 which is very good."
      ]
    }
  ]
}